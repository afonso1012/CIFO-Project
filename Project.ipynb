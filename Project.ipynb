{
 "cells": [
  {
   "cell_type": "markdown",
   "id": "a87b4bb3",
   "metadata": {},
   "source": [
    "<h1 align=\"center\" style=\"color:#96d9f0;\">Computational Intelligence for\n",
    "Optimization - Project</h1>\n",
    "<h3 align=\"center\" style=\"color:#96d9f0;\">Group AW - Wedding Seating Optimization</h3>\n",
    "\n",
    "---\n",
    "\n",
    "### <span style=\"color:#96d9f0;\">Group Members</span>\n",
    "\n",
    "<table>\n",
    "  <thead style=\"color:#96d9f0;\">\n",
    "    <tr>\n",
    "      <th>Name</th>\n",
    "      <th>Email</th>\n",
    "      <th>Student ID</th>\n",
    "    </tr>\n",
    "  </thead>\n",
    "  <tbody>\n",
    "    <tr>\n",
    "      <td>Afonso Dias</td>\n",
    "      <td>20211540@novaims.unl.pt</td>\n",
    "      <td>20211540</td>\n",
    "    </tr>\n",
    "    <tr>\n",
    "      <td>Isabel Duarte</td>\n",
    "      <td>20240545@novaims.unl.pt</td>\n",
    "      <td>20240545</td>\n",
    "    </tr>\n",
    "    <tr>\n",
    "      <td>Pedro Campino</td>\n",
    "      <td>20240537@novaims.unl.pt</td>\n",
    "      <td>20240537</td>\n",
    "    </tr>\n",
    "    <tr>\n",
    "      <td>Rita Matos</td>\n",
    "      <td>20211642@novaims.unl.pt</td>\n",
    "      <td>20211642</td>\n",
    "    </tr>\n",
    "  </tbody>\n",
    "</table>"
   ]
  },
  {
   "cell_type": "code",
   "execution_count": null,
   "id": "9af4382a",
   "metadata": {},
   "outputs": [
    {
     "ename": "",
     "evalue": "",
     "output_type": "error",
     "traceback": [
      "\u001b[1;31mRunning cells with '.venv (Python 3.13.2)' requires the ipykernel package.\n",
      "\u001b[1;31mInstall 'ipykernel' into the Python environment. \n",
      "\u001b[1;31mCommand: '\"c:/RepositoriosGit/DSAA/2nd Semester/CIFO_Project/CIFO-Project/.venv/Scripts/python.exe\" -m pip install ipykernel -U --force-reinstall'"
     ]
    }
   ],
   "source": [
    "import sys\n",
    "sys.path.append('..')"
   ]
  },
  {
   "cell_type": "code",
   "execution_count": null,
   "id": "613c9a75",
   "metadata": {},
   "outputs": [
    {
     "ename": "",
     "evalue": "",
     "output_type": "error",
     "traceback": [
      "\u001b[1;31mRunning cells with '.venv (Python 3.13.2)' requires the ipykernel package.\n",
      "\u001b[1;31mInstall 'ipykernel' into the Python environment. \n",
      "\u001b[1;31mCommand: '\"c:/RepositoriosGit/DSAA/2nd Semester/CIFO_Project/CIFO-Project/.venv/Scripts/python.exe\" -m pip install ipykernel -U --force-reinstall'"
     ]
    }
   ],
   "source": [
    "import random\n",
    "from copy import deepcopy\n",
    "from library.solution import Solution\n",
    "import csv\n",
    "import os\n",
    "import pandas as pd"
   ]
  },
  {
   "cell_type": "code",
   "execution_count": null,
   "id": "a3db52db",
   "metadata": {},
   "outputs": [
    {
     "ename": "",
     "evalue": "",
     "output_type": "error",
     "traceback": [
      "\u001b[1;31mRunning cells with '.venv (Python 3.13.2)' requires the ipykernel package.\n",
      "\u001b[1;31mInstall 'ipykernel' into the Python environment. \n",
      "\u001b[1;31mCommand: '\"c:/RepositoriosGit/DSAA/2nd Semester/CIFO_Project/CIFO-Project/.venv/Scripts/python.exe\" -m pip install ipykernel -U --force-reinstall'"
     ]
    }
   ],
   "source": [
    "#No swap mutation within the same table"
   ]
  },
  {
   "cell_type": "code",
   "execution_count": null,
   "id": "21f32475",
   "metadata": {},
   "outputs": [
    {
     "ename": "",
     "evalue": "",
     "output_type": "error",
     "traceback": [
      "\u001b[1;31mRunning cells with '.venv (Python 3.13.2)' requires the ipykernel package.\n",
      "\u001b[1;31mInstall 'ipykernel' into the Python environment. \n",
      "\u001b[1;31mCommand: '\"c:/RepositoriosGit/DSAA/2nd Semester/CIFO_Project/CIFO-Project/.venv/Scripts/python.exe\" -m pip install ipykernel -U --force-reinstall'"
     ]
    }
   ],
   "source": [
    "# Import csv\n",
    "import csv\n",
    "import os\n",
    "import pandas as pd\n",
    "\n",
    "relationship_matrix = pd.read_csv('seating_data.csv')"
   ]
  },
  {
   "cell_type": "code",
   "execution_count": null,
   "id": "c37f1d3c",
   "metadata": {},
   "outputs": [
    {
     "ename": "",
     "evalue": "",
     "output_type": "error",
     "traceback": [
      "\u001b[1;31mRunning cells with '.venv (Python 3.13.2)' requires the ipykernel package.\n",
      "\u001b[1;31mInstall 'ipykernel' into the Python environment. \n",
      "\u001b[1;31mCommand: '\"c:/RepositoriosGit/DSAA/2nd Semester/CIFO_Project/CIFO-Project/.venv/Scripts/python.exe\" -m pip install ipykernel -U --force-reinstall'"
     ]
    }
   ],
   "source": [
    "from library.problems.data.tsp_data import distance_matrix\n",
    "\n",
    "class WSSolution(Solution):\n",
    "    def __init__(self, repr=None, distance_matrix=distance_matrix, starting_idx=0):\n",
    "        self.starting_idx = starting_idx\n",
    "        self.distance_matrix = distance_matrix\n",
    "        super().__init__(repr=repr)"
   ]
  },
  {
   "cell_type": "code",
   "execution_count": null,
   "id": "c47a0712",
   "metadata": {},
   "outputs": [],
   "source": []
  }
 ],
 "metadata": {
  "kernelspec": {
   "display_name": ".venv",
   "language": "python",
   "name": "python3"
  },
  "language_info": {
   "name": "python",
   "version": "3.13.2"
  }
 },
 "nbformat": 4,
 "nbformat_minor": 5
}
