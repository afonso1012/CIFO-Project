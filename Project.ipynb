{
 "cells": [
  {
   "cell_type": "markdown",
   "id": "a87b4bb3",
   "metadata": {},
   "source": [
    "<h1 align=\"center\" style=\"color:#96d9f0;\">Computational Intelligence for\n",
    "Optimization - Project</h1>\n",
    "<h3 align=\"center\" style=\"color:#96d9f0;\">Group AW - Wedding Seating Optimization</h3>\n",
    "\n",
    "---\n",
    "\n",
    "### <span style=\"color:#96d9f0;\">Group Members</span>\n",
    "\n",
    "<table>\n",
    "  <thead style=\"color:#96d9f0;\">\n",
    "    <tr>\n",
    "      <th>Name</th>\n",
    "      <th>Email</th>\n",
    "      <th>Student ID</th>\n",
    "    </tr>\n",
    "  </thead>\n",
    "  <tbody>\n",
    "    <tr>\n",
    "      <td>Afonso Dias</td>\n",
    "      <td>20211540@novaims.unl.pt</td>\n",
    "      <td>20211540</td>\n",
    "    </tr>\n",
    "    <tr>\n",
    "      <td>Isabel Duarte</td>\n",
    "      <td>20240545@novaims.unl.pt</td>\n",
    "      <td>20240545</td>\n",
    "    </tr>\n",
    "    <tr>\n",
    "      <td>Pedro Campino</td>\n",
    "      <td>20240537@novaims.unl.pt</td>\n",
    "      <td>20240537</td>\n",
    "    </tr>\n",
    "    <tr>\n",
    "      <td>Rita Matos</td>\n",
    "      <td>20211642@novaims.unl.pt</td>\n",
    "      <td>20211642</td>\n",
    "    </tr>\n",
    "  </tbody>\n",
    "</table>"
   ]
  },
  {
   "cell_type": "code",
   "execution_count": null,
   "id": "9af4382a",
   "metadata": {},
   "outputs": [],
   "source": []
  }
 ],
 "metadata": {
  "language_info": {
   "name": "python"
  }
 },
 "nbformat": 4,
 "nbformat_minor": 5
}
