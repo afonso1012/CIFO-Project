{
 "cells": [
  {
   "cell_type": "markdown",
   "id": "a87b4bb3",
   "metadata": {},
   "source": [
    "<h1 align=\"center\" style=\"color:#96d9f0;\">Computational Intelligence for\n",
    "Optimization - Project</h1>\n",
    "<h3 align=\"center\" style=\"color:#96d9f0;\">Group AW - Wedding Seating Optimization</h3>\n",
    "\n",
    "---\n",
    "\n",
    "### <span style=\"color:#96d9f0;\">Group Members</span>\n",
    "\n",
    "<table>\n",
    "  <thead style=\"color:#96d9f0;\">\n",
    "    <tr>\n",
    "      <th>Name</th>\n",
    "      <th>Email</th>\n",
    "      <th>Student ID</th>\n",
    "    </tr>\n",
    "  </thead>\n",
    "  <tbody>\n",
    "    <tr>\n",
    "      <td>Afonso Dias</td>\n",
    "      <td>20211540@novaims.unl.pt</td>\n",
    "      <td>20211540</td>\n",
    "    </tr>\n",
    "    <tr>\n",
    "      <td>Isabel Duarte</td>\n",
    "      <td>20240545@novaims.unl.pt</td>\n",
    "      <td>20240545</td>\n",
    "    </tr>\n",
    "    <tr>\n",
    "      <td>Pedro Campino</td>\n",
    "      <td>20240537@novaims.unl.pt</td>\n",
    "      <td>20240537</td>\n",
    "    </tr>\n",
    "    <tr>\n",
    "      <td>Rita Matos</td>\n",
    "      <td>20211642@novaims.unl.pt</td>\n",
    "      <td>20211642</td>\n",
    "    </tr>\n",
    "  </tbody>\n",
    "</table>"
   ]
  },
  {
   "cell_type": "code",
   "execution_count": 1,
   "id": "54630868",
   "metadata": {},
   "outputs": [],
   "source": [
    "#future improvements: test random fitnesses to set a baseline average to compare our results"
   ]
  },
  {
   "cell_type": "code",
   "execution_count": 2,
   "id": "a3db52db",
   "metadata": {},
   "outputs": [],
   "source": [
    "#No swap mutation within the same table"
   ]
  },
  {
   "cell_type": "markdown",
   "id": "649bc570",
   "metadata": {},
   "source": [
    "---\n",
    "\n",
    "### <span style=\"color:#96d9f0;\">1. Imports</span>\n",
    "\n",
    "This section includes all the necessary library imports required for the development of the project. We also use the library provided during the practical classes, as recommended, to support the implementation. Additionally, the relationship matrix used for evaluating guest compatibility is imported here."
   ]
  },
  {
   "cell_type": "code",
   "execution_count": 1,
   "id": "9af4382a",
   "metadata": {},
   "outputs": [],
   "source": [
    "import sys\n",
    "sys.path.append('..')"
   ]
  },
  {
   "cell_type": "code",
   "execution_count": 13,
   "id": "613c9a75",
   "metadata": {},
   "outputs": [],
   "source": [
    "import random\n",
    "from copy import deepcopy\n",
    "from library.solution import Solution\n",
    "import csv\n",
    "import os\n",
    "import pandas as pd\n",
    "import numpy as np\n",
    "from itertools import combinations"
   ]
  },
  {
   "cell_type": "code",
   "execution_count": 14,
   "id": "21f32475",
   "metadata": {},
   "outputs": [
    {
     "data": {
      "text/html": [
       "<div>\n",
       "<style scoped>\n",
       "    .dataframe tbody tr th:only-of-type {\n",
       "        vertical-align: middle;\n",
       "    }\n",
       "\n",
       "    .dataframe tbody tr th {\n",
       "        vertical-align: top;\n",
       "    }\n",
       "\n",
       "    .dataframe thead th {\n",
       "        text-align: right;\n",
       "    }\n",
       "</style>\n",
       "<table border=\"1\" class=\"dataframe\">\n",
       "  <thead>\n",
       "    <tr style=\"text-align: right;\">\n",
       "      <th></th>\n",
       "      <th>1</th>\n",
       "      <th>2</th>\n",
       "      <th>3</th>\n",
       "      <th>4</th>\n",
       "      <th>5</th>\n",
       "      <th>6</th>\n",
       "      <th>7</th>\n",
       "      <th>8</th>\n",
       "      <th>9</th>\n",
       "      <th>10</th>\n",
       "      <th>...</th>\n",
       "      <th>55</th>\n",
       "      <th>56</th>\n",
       "      <th>57</th>\n",
       "      <th>58</th>\n",
       "      <th>59</th>\n",
       "      <th>60</th>\n",
       "      <th>61</th>\n",
       "      <th>62</th>\n",
       "      <th>63</th>\n",
       "      <th>64</th>\n",
       "    </tr>\n",
       "  </thead>\n",
       "  <tbody>\n",
       "    <tr>\n",
       "      <th>0</th>\n",
       "      <td>0</td>\n",
       "      <td>5000</td>\n",
       "      <td>0</td>\n",
       "      <td>0</td>\n",
       "      <td>700</td>\n",
       "      <td>700</td>\n",
       "      <td>0</td>\n",
       "      <td>0</td>\n",
       "      <td>0</td>\n",
       "      <td>0</td>\n",
       "      <td>...</td>\n",
       "      <td>100</td>\n",
       "      <td>100</td>\n",
       "      <td>0</td>\n",
       "      <td>0</td>\n",
       "      <td>100</td>\n",
       "      <td>100</td>\n",
       "      <td>100</td>\n",
       "      <td>0</td>\n",
       "      <td>0</td>\n",
       "      <td>0</td>\n",
       "    </tr>\n",
       "    <tr>\n",
       "      <th>1</th>\n",
       "      <td>5000</td>\n",
       "      <td>0</td>\n",
       "      <td>700</td>\n",
       "      <td>700</td>\n",
       "      <td>0</td>\n",
       "      <td>0</td>\n",
       "      <td>300</td>\n",
       "      <td>300</td>\n",
       "      <td>500</td>\n",
       "      <td>500</td>\n",
       "      <td>...</td>\n",
       "      <td>100</td>\n",
       "      <td>100</td>\n",
       "      <td>0</td>\n",
       "      <td>100</td>\n",
       "      <td>0</td>\n",
       "      <td>0</td>\n",
       "      <td>0</td>\n",
       "      <td>0</td>\n",
       "      <td>0</td>\n",
       "      <td>0</td>\n",
       "    </tr>\n",
       "    <tr>\n",
       "      <th>2</th>\n",
       "      <td>0</td>\n",
       "      <td>700</td>\n",
       "      <td>0</td>\n",
       "      <td>2000</td>\n",
       "      <td>0</td>\n",
       "      <td>0</td>\n",
       "      <td>0</td>\n",
       "      <td>0</td>\n",
       "      <td>300</td>\n",
       "      <td>300</td>\n",
       "      <td>...</td>\n",
       "      <td>0</td>\n",
       "      <td>0</td>\n",
       "      <td>0</td>\n",
       "      <td>0</td>\n",
       "      <td>0</td>\n",
       "      <td>0</td>\n",
       "      <td>0</td>\n",
       "      <td>0</td>\n",
       "      <td>0</td>\n",
       "      <td>0</td>\n",
       "    </tr>\n",
       "    <tr>\n",
       "      <th>3</th>\n",
       "      <td>0</td>\n",
       "      <td>700</td>\n",
       "      <td>2000</td>\n",
       "      <td>0</td>\n",
       "      <td>0</td>\n",
       "      <td>0</td>\n",
       "      <td>900</td>\n",
       "      <td>400</td>\n",
       "      <td>300</td>\n",
       "      <td>300</td>\n",
       "      <td>...</td>\n",
       "      <td>0</td>\n",
       "      <td>0</td>\n",
       "      <td>0</td>\n",
       "      <td>0</td>\n",
       "      <td>0</td>\n",
       "      <td>0</td>\n",
       "      <td>0</td>\n",
       "      <td>0</td>\n",
       "      <td>0</td>\n",
       "      <td>0</td>\n",
       "    </tr>\n",
       "    <tr>\n",
       "      <th>4</th>\n",
       "      <td>700</td>\n",
       "      <td>0</td>\n",
       "      <td>0</td>\n",
       "      <td>0</td>\n",
       "      <td>0</td>\n",
       "      <td>0</td>\n",
       "      <td>0</td>\n",
       "      <td>0</td>\n",
       "      <td>0</td>\n",
       "      <td>0</td>\n",
       "      <td>...</td>\n",
       "      <td>0</td>\n",
       "      <td>0</td>\n",
       "      <td>0</td>\n",
       "      <td>0</td>\n",
       "      <td>0</td>\n",
       "      <td>0</td>\n",
       "      <td>0</td>\n",
       "      <td>0</td>\n",
       "      <td>0</td>\n",
       "      <td>0</td>\n",
       "    </tr>\n",
       "    <tr>\n",
       "      <th>...</th>\n",
       "      <td>...</td>\n",
       "      <td>...</td>\n",
       "      <td>...</td>\n",
       "      <td>...</td>\n",
       "      <td>...</td>\n",
       "      <td>...</td>\n",
       "      <td>...</td>\n",
       "      <td>...</td>\n",
       "      <td>...</td>\n",
       "      <td>...</td>\n",
       "      <td>...</td>\n",
       "      <td>...</td>\n",
       "      <td>...</td>\n",
       "      <td>...</td>\n",
       "      <td>...</td>\n",
       "      <td>...</td>\n",
       "      <td>...</td>\n",
       "      <td>...</td>\n",
       "      <td>...</td>\n",
       "      <td>...</td>\n",
       "      <td>...</td>\n",
       "    </tr>\n",
       "    <tr>\n",
       "      <th>59</th>\n",
       "      <td>100</td>\n",
       "      <td>0</td>\n",
       "      <td>0</td>\n",
       "      <td>0</td>\n",
       "      <td>0</td>\n",
       "      <td>0</td>\n",
       "      <td>0</td>\n",
       "      <td>0</td>\n",
       "      <td>0</td>\n",
       "      <td>0</td>\n",
       "      <td>...</td>\n",
       "      <td>0</td>\n",
       "      <td>0</td>\n",
       "      <td>0</td>\n",
       "      <td>0</td>\n",
       "      <td>0</td>\n",
       "      <td>0</td>\n",
       "      <td>0</td>\n",
       "      <td>0</td>\n",
       "      <td>0</td>\n",
       "      <td>0</td>\n",
       "    </tr>\n",
       "    <tr>\n",
       "      <th>60</th>\n",
       "      <td>100</td>\n",
       "      <td>0</td>\n",
       "      <td>0</td>\n",
       "      <td>0</td>\n",
       "      <td>0</td>\n",
       "      <td>0</td>\n",
       "      <td>0</td>\n",
       "      <td>0</td>\n",
       "      <td>0</td>\n",
       "      <td>0</td>\n",
       "      <td>...</td>\n",
       "      <td>0</td>\n",
       "      <td>0</td>\n",
       "      <td>0</td>\n",
       "      <td>0</td>\n",
       "      <td>100</td>\n",
       "      <td>0</td>\n",
       "      <td>0</td>\n",
       "      <td>2000</td>\n",
       "      <td>700</td>\n",
       "      <td>700</td>\n",
       "    </tr>\n",
       "    <tr>\n",
       "      <th>61</th>\n",
       "      <td>0</td>\n",
       "      <td>0</td>\n",
       "      <td>0</td>\n",
       "      <td>0</td>\n",
       "      <td>0</td>\n",
       "      <td>0</td>\n",
       "      <td>0</td>\n",
       "      <td>0</td>\n",
       "      <td>0</td>\n",
       "      <td>0</td>\n",
       "      <td>...</td>\n",
       "      <td>0</td>\n",
       "      <td>0</td>\n",
       "      <td>-1000</td>\n",
       "      <td>0</td>\n",
       "      <td>100</td>\n",
       "      <td>0</td>\n",
       "      <td>2000</td>\n",
       "      <td>0</td>\n",
       "      <td>700</td>\n",
       "      <td>700</td>\n",
       "    </tr>\n",
       "    <tr>\n",
       "      <th>62</th>\n",
       "      <td>0</td>\n",
       "      <td>0</td>\n",
       "      <td>0</td>\n",
       "      <td>0</td>\n",
       "      <td>0</td>\n",
       "      <td>0</td>\n",
       "      <td>0</td>\n",
       "      <td>0</td>\n",
       "      <td>0</td>\n",
       "      <td>0</td>\n",
       "      <td>...</td>\n",
       "      <td>0</td>\n",
       "      <td>0</td>\n",
       "      <td>0</td>\n",
       "      <td>0</td>\n",
       "      <td>0</td>\n",
       "      <td>0</td>\n",
       "      <td>700</td>\n",
       "      <td>700</td>\n",
       "      <td>0</td>\n",
       "      <td>900</td>\n",
       "    </tr>\n",
       "    <tr>\n",
       "      <th>63</th>\n",
       "      <td>0</td>\n",
       "      <td>0</td>\n",
       "      <td>0</td>\n",
       "      <td>0</td>\n",
       "      <td>0</td>\n",
       "      <td>0</td>\n",
       "      <td>0</td>\n",
       "      <td>0</td>\n",
       "      <td>0</td>\n",
       "      <td>0</td>\n",
       "      <td>...</td>\n",
       "      <td>0</td>\n",
       "      <td>0</td>\n",
       "      <td>0</td>\n",
       "      <td>0</td>\n",
       "      <td>0</td>\n",
       "      <td>0</td>\n",
       "      <td>700</td>\n",
       "      <td>700</td>\n",
       "      <td>900</td>\n",
       "      <td>0</td>\n",
       "    </tr>\n",
       "  </tbody>\n",
       "</table>\n",
       "<p>64 rows × 64 columns</p>\n",
       "</div>"
      ],
      "text/plain": [
       "       1     2     3     4    5    6    7    8    9   10  ...   55   56    57  \\\n",
       "0      0  5000     0     0  700  700    0    0    0    0  ...  100  100     0   \n",
       "1   5000     0   700   700    0    0  300  300  500  500  ...  100  100     0   \n",
       "2      0   700     0  2000    0    0    0    0  300  300  ...    0    0     0   \n",
       "3      0   700  2000     0    0    0  900  400  300  300  ...    0    0     0   \n",
       "4    700     0     0     0    0    0    0    0    0    0  ...    0    0     0   \n",
       "..   ...   ...   ...   ...  ...  ...  ...  ...  ...  ...  ...  ...  ...   ...   \n",
       "59   100     0     0     0    0    0    0    0    0    0  ...    0    0     0   \n",
       "60   100     0     0     0    0    0    0    0    0    0  ...    0    0     0   \n",
       "61     0     0     0     0    0    0    0    0    0    0  ...    0    0 -1000   \n",
       "62     0     0     0     0    0    0    0    0    0    0  ...    0    0     0   \n",
       "63     0     0     0     0    0    0    0    0    0    0  ...    0    0     0   \n",
       "\n",
       "     58   59   60    61    62   63   64  \n",
       "0     0  100  100   100     0    0    0  \n",
       "1   100    0    0     0     0    0    0  \n",
       "2     0    0    0     0     0    0    0  \n",
       "3     0    0    0     0     0    0    0  \n",
       "4     0    0    0     0     0    0    0  \n",
       "..  ...  ...  ...   ...   ...  ...  ...  \n",
       "59    0    0    0     0     0    0    0  \n",
       "60    0  100    0     0  2000  700  700  \n",
       "61    0  100    0  2000     0  700  700  \n",
       "62    0    0    0   700   700    0  900  \n",
       "63    0    0    0   700   700  900    0  \n",
       "\n",
       "[64 rows x 64 columns]"
      ]
     },
     "execution_count": 14,
     "metadata": {},
     "output_type": "execute_result"
    }
   ],
   "source": [
    "# Import the relationship matrix as a pandas dataframe for visualization\n",
    "\n",
    "relationship_matrix_df = pd.read_csv('data/seating_data.csv')\n",
    "relationship_matrix_df.drop(columns='idx', inplace=True)\n",
    "relationship_matrix_df"
   ]
  },
  {
   "cell_type": "code",
   "execution_count": 15,
   "id": "352cce64",
   "metadata": {},
   "outputs": [
    {
     "data": {
      "text/plain": [
       "array([[   0., 5000.,    0., ...,    0.,    0.,    0.],\n",
       "       [5000.,    0.,  700., ...,    0.,    0.,    0.],\n",
       "       [   0.,  700.,    0., ...,    0.,    0.,    0.],\n",
       "       ...,\n",
       "       [   0.,    0.,    0., ...,    0.,  700.,  700.],\n",
       "       [   0.,    0.,    0., ...,  700.,    0.,  900.],\n",
       "       [   0.,    0.,    0., ...,  700.,  900.,    0.]], shape=(64, 64))"
      ]
     },
     "execution_count": 15,
     "metadata": {},
     "output_type": "execute_result"
    }
   ],
   "source": [
    "# Import the relationship matrix as a numpy array\n",
    "\n",
    "relationship_matrix = np.loadtxt('data/seating_data.csv', delimiter=',', skiprows=1)\n",
    "relationship_matrix = relationship_matrix[ : , 1:]\n",
    "relationship_matrix "
   ]
  },
  {
   "cell_type": "markdown",
   "id": "af2cdc61",
   "metadata": {},
   "source": [
    "---\n",
    "\n",
    "### <span style=\"color:#96d9f0;\">2. Solution Representation</span>\n",
    "\n",
    "In this section, we define the Wedding Sitting Solution class (`WSSolution`), which extends the base `Solution` class provided in the practical classes. This class represents a candidate solution for the wedding seating optimization problem.\n",
    "\n",
    "Each solution consists of a list of tables, where each table is a list of guest indices. The class includes methods to generate a valid random initial representation and to evaluate the fitness of a solution based on the total relationship scores between guests seated at the same table."
   ]
  },
  {
   "cell_type": "code",
   "execution_count": 18,
   "id": "c37f1d3c",
   "metadata": {},
   "outputs": [],
   "source": [
    "class WSSolution(Solution):\n",
    "    def __init__(self, repr=None, relationship_matrix=relationship_matrix, nr_of_tables=8):\n",
    "        self.relationship_matrix = relationship_matrix\n",
    "        self.nr_of_tables = nr_of_tables\n",
    "        self.table_capacity = len(relationship_matrix) // nr_of_tables\n",
    "        super().__init__(repr=repr)\n",
    "\n",
    "    def random_initial_representation(self):\n",
    "        tables = []\n",
    "        left_idxs = [idx for idx in range(len(self.relationship_matrix))]\n",
    "        for i in range(self.nr_of_tables):\n",
    "            tables.append([])\n",
    "            for j in range(self.table_capacity):\n",
    "                idx = random.choice(left_idxs)\n",
    "                left_idxs.remove(idx)\n",
    "                # Check if idx is already in a table\n",
    "                while any(idx in table for table in tables):\n",
    "                    idx = random.randint(0, len(self.relationship_matrix) - 1)\n",
    "                tables[i].append(idx)\n",
    "        \n",
    "        return tables\n",
    "    \n",
    "    def fitness(self):\n",
    "        total_happiness = 0\n",
    "        for i, row in enumerate(self.repr):\n",
    "            table_happiness = 0\n",
    "            combs = list(combinations(row, 2))\n",
    "            pair_scores = [self.relationship_matrix[a, b] for a, b in combs]\n",
    "            table_happiness = sum(s for s in pair_scores)\n",
    "            total_happiness += table_happiness\n",
    "        \n",
    "        return total_happiness\n"
   ]
  },
  {
   "cell_type": "code",
   "execution_count": 19,
   "id": "a2c383b8",
   "metadata": {},
   "outputs": [
    {
     "name": "stdout",
     "output_type": "stream",
     "text": [
      "Random solution: [[40, 39, 57, 9, 28, 6, 15, 19], [16, 52, 11, 44, 47, 31, 8, 48], [42, 63, 4, 45, 7, 33, 2, 13], [5, 60, 14, 56, 50, 59, 22, 58], [51, 34, 43, 36, 29, 27, 32, 25], [20, 46, 10, 23, 26, 3, 49, 55], [30, 24, 1, 18, 37, 38, 62, 17], [12, 53, 41, 54, 21, 61, 35, 0]]\n",
      "Total Fitness: 5200.0\n"
     ]
    }
   ],
   "source": [
    "solution = WSSolution()\n",
    "\n",
    "print('Random solution:', solution)\n",
    "print('Total Fitness:', solution.fitness())"
   ]
  },
  {
   "cell_type": "markdown",
   "id": "86839dc1",
   "metadata": {},
   "source": [
    "---\n",
    "\n",
    "### <span style=\"color:#96d9f0;\">3. Selection Algorithms</span>"
   ]
  },
  {
   "cell_type": "markdown",
   "id": "060e6427",
   "metadata": {},
   "source": [
    "#### Fitness Proportionate Selection"
   ]
  },
  {
   "cell_type": "code",
   "execution_count": null,
   "id": "e9aad8dd",
   "metadata": {},
   "outputs": [],
   "source": [
    "# Code (Afonso)"
   ]
  },
  {
   "cell_type": "markdown",
   "id": "ec68684f",
   "metadata": {},
   "source": [
    "#### Ranking Selection"
   ]
  },
  {
   "cell_type": "code",
   "execution_count": null,
   "id": "4a7333bb",
   "metadata": {},
   "outputs": [],
   "source": [
    "# Code (Isa)"
   ]
  },
  {
   "cell_type": "markdown",
   "id": "7c9efbe9",
   "metadata": {},
   "source": [
    "#### Tournament Selection"
   ]
  },
  {
   "cell_type": "code",
   "execution_count": 21,
   "id": "9c5e81ac",
   "metadata": {},
   "outputs": [],
   "source": [
    "def tournament_selection(population, k=3):\n",
    "    competitors = random.sample(population, k)\n",
    "    return max(competitors, key=lambda ind: ind.fitness())"
   ]
  },
  {
   "cell_type": "markdown",
   "id": "c059ee43",
   "metadata": {},
   "source": [
    "---\n",
    "\n",
    "### <span style=\"color:#96d9f0;\">4. Crossovers</span>"
   ]
  },
  {
   "cell_type": "markdown",
   "id": "6434b35c",
   "metadata": {},
   "source": [
    "#### Standard Crossover"
   ]
  },
  {
   "cell_type": "code",
   "execution_count": null,
   "id": "27873c31",
   "metadata": {},
   "outputs": [],
   "source": [
    "# Code (Afonso)"
   ]
  },
  {
   "cell_type": "markdown",
   "id": "76ce6eb8",
   "metadata": {},
   "source": [
    "#### Partially Matched Crossover"
   ]
  },
  {
   "cell_type": "code",
   "execution_count": null,
   "id": "60f01497",
   "metadata": {},
   "outputs": [],
   "source": [
    "# Code (Isa)"
   ]
  },
  {
   "cell_type": "markdown",
   "id": "1ef53180",
   "metadata": {},
   "source": [
    "#### Order Preserving Crossover"
   ]
  },
  {
   "cell_type": "code",
   "execution_count": null,
   "id": "904bbec6",
   "metadata": {},
   "outputs": [],
   "source": [
    "# Code (Rita)"
   ]
  },
  {
   "cell_type": "markdown",
   "id": "579b3cd1",
   "metadata": {},
   "source": [
    "#### Group Preserving Crossover"
   ]
  },
  {
   "cell_type": "code",
   "execution_count": null,
   "id": "d9d88182",
   "metadata": {},
   "outputs": [],
   "source": [
    "# Code (Pedro)"
   ]
  },
  {
   "cell_type": "markdown",
   "id": "45b78edb",
   "metadata": {},
   "source": [
    "---\n",
    "\n",
    "### <span style=\"color:#96d9f0;\">5. Mutations</span>"
   ]
  },
  {
   "cell_type": "markdown",
   "id": "86fa1df5",
   "metadata": {},
   "source": [
    "#### Swap Mutation"
   ]
  },
  {
   "cell_type": "code",
   "execution_count": null,
   "id": "cc9936db",
   "metadata": {},
   "outputs": [],
   "source": [
    "# Swap mutation implementation that swaps two random people between two different tables and does not allow swapping within the same table\n",
    "\n",
    "def swap_mutation(solution, mut_prob):\n",
    "    if random.random() < mut_prob:\n",
    "        tables = solution.repr\n",
    "        if len(tables) < 2:\n",
    "            return\n",
    "\n",
    "        # Pick two random tables\n",
    "        t1, t2 = random.sample(range(len(tables)), 2)\n",
    "        if not tables[t1] or not tables[t2]:\n",
    "            return\n",
    "\n",
    "        # Swap one person from each\n",
    "        i1 = random.randint(0, len(tables[t1]) - 1)\n",
    "        i2 = random.randint(0, len(tables[t2]) - 1)\n",
    "        tables[t1][i1], tables[t2][i2] = tables[t2][i2], tables[t1][i1]"
   ]
  },
  {
   "cell_type": "markdown",
   "id": "d32b3814",
   "metadata": {},
   "source": [
    "#### New Creative Mutation"
   ]
  },
  {
   "cell_type": "code",
   "execution_count": null,
   "id": "51e186b6",
   "metadata": {},
   "outputs": [],
   "source": [
    "# Code (Afonso)"
   ]
  }
 ],
 "metadata": {
  "kernelspec": {
   "display_name": "Python 3",
   "language": "python",
   "name": "python3"
  },
  "language_info": {
   "codemirror_mode": {
    "name": "ipython",
    "version": 3
   },
   "file_extension": ".py",
   "mimetype": "text/x-python",
   "name": "python",
   "nbconvert_exporter": "python",
   "pygments_lexer": "ipython3",
   "version": "3.13.2"
  }
 },
 "nbformat": 4,
 "nbformat_minor": 5
}
