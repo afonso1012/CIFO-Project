{
 "cells": [
  {
   "cell_type": "markdown",
   "id": "a87b4bb3",
   "metadata": {},
   "source": [
    "<h1 align=\"center\" style=\"color:#96d9f0;\">Computational Intelligence for\n",
    "Optimization - Project</h1>\n",
    "<h3 align=\"center\" style=\"color:#96d9f0;\">Group AW - Wedding Seating Optimization</h3>\n",
    "\n",
    "---\n",
    "\n",
    "### <span style=\"color:#96d9f0;\">Group Members</span>\n",
    "\n",
    "<table>\n",
    "  <thead style=\"color:#96d9f0;\">\n",
    "    <tr>\n",
    "      <th>Name</th>\n",
    "      <th>Email</th>\n",
    "      <th>Student ID</th>\n",
    "    </tr>\n",
    "  </thead>\n",
    "  <tbody>\n",
    "    <tr>\n",
    "      <td>Afonso Dias</td>\n",
    "      <td>20211540@novaims.unl.pt</td>\n",
    "      <td>20211540</td>\n",
    "    </tr>\n",
    "    <tr>\n",
    "      <td>Isabel Duarte</td>\n",
    "      <td>20240545@novaims.unl.pt</td>\n",
    "      <td>20240545</td>\n",
    "    </tr>\n",
    "    <tr>\n",
    "      <td>Pedro Campino</td>\n",
    "      <td>20240537@novaims.unl.pt</td>\n",
    "      <td>20240537</td>\n",
    "    </tr>\n",
    "    <tr>\n",
    "      <td>Rita Matos</td>\n",
    "      <td>20211642@novaims.unl.pt</td>\n",
    "      <td>20211642</td>\n",
    "    </tr>\n",
    "  </tbody>\n",
    "</table>"
   ]
  },
  {
   "cell_type": "code",
   "execution_count": 1,
   "id": "54630868",
   "metadata": {},
   "outputs": [],
   "source": [
    "#future improvements: test random fitnesses to set a baseline average to compare our results"
   ]
  },
  {
   "cell_type": "code",
   "execution_count": 2,
   "id": "6ea1d7ad",
   "metadata": {},
   "outputs": [],
   "source": [
    "#compare performance of different selection methods, crossovers, and mutations"
   ]
  },
  {
   "cell_type": "markdown",
   "id": "649bc570",
   "metadata": {},
   "source": [
    "---\n",
    "\n",
    "### <span style=\"color:#96d9f0;\">1. Imports</span>\n",
    "\n",
    "This section includes all the necessary library imports required for the development of the project. We also use the library provided during the practical classes, as recommended, to support the implementation. Additionally, the relationship matrix used for evaluating guest compatibility is imported here."
   ]
  },
  {
   "cell_type": "code",
   "execution_count": 1,
   "id": "9af4382a",
   "metadata": {},
   "outputs": [],
   "source": [
    "import sys\n",
    "sys.path.append('..')"
   ]
  },
  {
   "cell_type": "code",
   "execution_count": 2,
   "id": "613c9a75",
   "metadata": {},
   "outputs": [],
   "source": [
    "import random\n",
    "from copy import deepcopy\n",
    "from library.solution import Solution\n",
    "import csv\n",
    "import os\n",
    "import pandas as pd\n",
    "import numpy as np\n",
    "from itertools import combinations\n",
    "from typing import Callable\n",
    "from library.algorithms.genetic_algorithms.algorithm import get_best_ind"
   ]
  },
  {
   "cell_type": "code",
   "execution_count": 3,
   "id": "21f32475",
   "metadata": {},
   "outputs": [
    {
     "data": {
      "text/html": [
       "<div>\n",
       "<style scoped>\n",
       "    .dataframe tbody tr th:only-of-type {\n",
       "        vertical-align: middle;\n",
       "    }\n",
       "\n",
       "    .dataframe tbody tr th {\n",
       "        vertical-align: top;\n",
       "    }\n",
       "\n",
       "    .dataframe thead th {\n",
       "        text-align: right;\n",
       "    }\n",
       "</style>\n",
       "<table border=\"1\" class=\"dataframe\">\n",
       "  <thead>\n",
       "    <tr style=\"text-align: right;\">\n",
       "      <th></th>\n",
       "      <th>1</th>\n",
       "      <th>2</th>\n",
       "      <th>3</th>\n",
       "      <th>4</th>\n",
       "      <th>5</th>\n",
       "      <th>6</th>\n",
       "      <th>7</th>\n",
       "      <th>8</th>\n",
       "      <th>9</th>\n",
       "      <th>10</th>\n",
       "      <th>...</th>\n",
       "      <th>55</th>\n",
       "      <th>56</th>\n",
       "      <th>57</th>\n",
       "      <th>58</th>\n",
       "      <th>59</th>\n",
       "      <th>60</th>\n",
       "      <th>61</th>\n",
       "      <th>62</th>\n",
       "      <th>63</th>\n",
       "      <th>64</th>\n",
       "    </tr>\n",
       "  </thead>\n",
       "  <tbody>\n",
       "    <tr>\n",
       "      <th>0</th>\n",
       "      <td>0</td>\n",
       "      <td>5000</td>\n",
       "      <td>0</td>\n",
       "      <td>0</td>\n",
       "      <td>700</td>\n",
       "      <td>700</td>\n",
       "      <td>0</td>\n",
       "      <td>0</td>\n",
       "      <td>0</td>\n",
       "      <td>0</td>\n",
       "      <td>...</td>\n",
       "      <td>100</td>\n",
       "      <td>100</td>\n",
       "      <td>0</td>\n",
       "      <td>0</td>\n",
       "      <td>100</td>\n",
       "      <td>100</td>\n",
       "      <td>100</td>\n",
       "      <td>0</td>\n",
       "      <td>0</td>\n",
       "      <td>0</td>\n",
       "    </tr>\n",
       "    <tr>\n",
       "      <th>1</th>\n",
       "      <td>5000</td>\n",
       "      <td>0</td>\n",
       "      <td>700</td>\n",
       "      <td>700</td>\n",
       "      <td>0</td>\n",
       "      <td>0</td>\n",
       "      <td>300</td>\n",
       "      <td>300</td>\n",
       "      <td>500</td>\n",
       "      <td>500</td>\n",
       "      <td>...</td>\n",
       "      <td>100</td>\n",
       "      <td>100</td>\n",
       "      <td>0</td>\n",
       "      <td>100</td>\n",
       "      <td>0</td>\n",
       "      <td>0</td>\n",
       "      <td>0</td>\n",
       "      <td>0</td>\n",
       "      <td>0</td>\n",
       "      <td>0</td>\n",
       "    </tr>\n",
       "    <tr>\n",
       "      <th>2</th>\n",
       "      <td>0</td>\n",
       "      <td>700</td>\n",
       "      <td>0</td>\n",
       "      <td>2000</td>\n",
       "      <td>0</td>\n",
       "      <td>0</td>\n",
       "      <td>0</td>\n",
       "      <td>0</td>\n",
       "      <td>300</td>\n",
       "      <td>300</td>\n",
       "      <td>...</td>\n",
       "      <td>0</td>\n",
       "      <td>0</td>\n",
       "      <td>0</td>\n",
       "      <td>0</td>\n",
       "      <td>0</td>\n",
       "      <td>0</td>\n",
       "      <td>0</td>\n",
       "      <td>0</td>\n",
       "      <td>0</td>\n",
       "      <td>0</td>\n",
       "    </tr>\n",
       "    <tr>\n",
       "      <th>3</th>\n",
       "      <td>0</td>\n",
       "      <td>700</td>\n",
       "      <td>2000</td>\n",
       "      <td>0</td>\n",
       "      <td>0</td>\n",
       "      <td>0</td>\n",
       "      <td>900</td>\n",
       "      <td>400</td>\n",
       "      <td>300</td>\n",
       "      <td>300</td>\n",
       "      <td>...</td>\n",
       "      <td>0</td>\n",
       "      <td>0</td>\n",
       "      <td>0</td>\n",
       "      <td>0</td>\n",
       "      <td>0</td>\n",
       "      <td>0</td>\n",
       "      <td>0</td>\n",
       "      <td>0</td>\n",
       "      <td>0</td>\n",
       "      <td>0</td>\n",
       "    </tr>\n",
       "    <tr>\n",
       "      <th>4</th>\n",
       "      <td>700</td>\n",
       "      <td>0</td>\n",
       "      <td>0</td>\n",
       "      <td>0</td>\n",
       "      <td>0</td>\n",
       "      <td>0</td>\n",
       "      <td>0</td>\n",
       "      <td>0</td>\n",
       "      <td>0</td>\n",
       "      <td>0</td>\n",
       "      <td>...</td>\n",
       "      <td>0</td>\n",
       "      <td>0</td>\n",
       "      <td>0</td>\n",
       "      <td>0</td>\n",
       "      <td>0</td>\n",
       "      <td>0</td>\n",
       "      <td>0</td>\n",
       "      <td>0</td>\n",
       "      <td>0</td>\n",
       "      <td>0</td>\n",
       "    </tr>\n",
       "    <tr>\n",
       "      <th>...</th>\n",
       "      <td>...</td>\n",
       "      <td>...</td>\n",
       "      <td>...</td>\n",
       "      <td>...</td>\n",
       "      <td>...</td>\n",
       "      <td>...</td>\n",
       "      <td>...</td>\n",
       "      <td>...</td>\n",
       "      <td>...</td>\n",
       "      <td>...</td>\n",
       "      <td>...</td>\n",
       "      <td>...</td>\n",
       "      <td>...</td>\n",
       "      <td>...</td>\n",
       "      <td>...</td>\n",
       "      <td>...</td>\n",
       "      <td>...</td>\n",
       "      <td>...</td>\n",
       "      <td>...</td>\n",
       "      <td>...</td>\n",
       "      <td>...</td>\n",
       "    </tr>\n",
       "    <tr>\n",
       "      <th>59</th>\n",
       "      <td>100</td>\n",
       "      <td>0</td>\n",
       "      <td>0</td>\n",
       "      <td>0</td>\n",
       "      <td>0</td>\n",
       "      <td>0</td>\n",
       "      <td>0</td>\n",
       "      <td>0</td>\n",
       "      <td>0</td>\n",
       "      <td>0</td>\n",
       "      <td>...</td>\n",
       "      <td>0</td>\n",
       "      <td>0</td>\n",
       "      <td>0</td>\n",
       "      <td>0</td>\n",
       "      <td>0</td>\n",
       "      <td>0</td>\n",
       "      <td>0</td>\n",
       "      <td>0</td>\n",
       "      <td>0</td>\n",
       "      <td>0</td>\n",
       "    </tr>\n",
       "    <tr>\n",
       "      <th>60</th>\n",
       "      <td>100</td>\n",
       "      <td>0</td>\n",
       "      <td>0</td>\n",
       "      <td>0</td>\n",
       "      <td>0</td>\n",
       "      <td>0</td>\n",
       "      <td>0</td>\n",
       "      <td>0</td>\n",
       "      <td>0</td>\n",
       "      <td>0</td>\n",
       "      <td>...</td>\n",
       "      <td>0</td>\n",
       "      <td>0</td>\n",
       "      <td>0</td>\n",
       "      <td>0</td>\n",
       "      <td>100</td>\n",
       "      <td>0</td>\n",
       "      <td>0</td>\n",
       "      <td>2000</td>\n",
       "      <td>700</td>\n",
       "      <td>700</td>\n",
       "    </tr>\n",
       "    <tr>\n",
       "      <th>61</th>\n",
       "      <td>0</td>\n",
       "      <td>0</td>\n",
       "      <td>0</td>\n",
       "      <td>0</td>\n",
       "      <td>0</td>\n",
       "      <td>0</td>\n",
       "      <td>0</td>\n",
       "      <td>0</td>\n",
       "      <td>0</td>\n",
       "      <td>0</td>\n",
       "      <td>...</td>\n",
       "      <td>0</td>\n",
       "      <td>0</td>\n",
       "      <td>-1000</td>\n",
       "      <td>0</td>\n",
       "      <td>100</td>\n",
       "      <td>0</td>\n",
       "      <td>2000</td>\n",
       "      <td>0</td>\n",
       "      <td>700</td>\n",
       "      <td>700</td>\n",
       "    </tr>\n",
       "    <tr>\n",
       "      <th>62</th>\n",
       "      <td>0</td>\n",
       "      <td>0</td>\n",
       "      <td>0</td>\n",
       "      <td>0</td>\n",
       "      <td>0</td>\n",
       "      <td>0</td>\n",
       "      <td>0</td>\n",
       "      <td>0</td>\n",
       "      <td>0</td>\n",
       "      <td>0</td>\n",
       "      <td>...</td>\n",
       "      <td>0</td>\n",
       "      <td>0</td>\n",
       "      <td>0</td>\n",
       "      <td>0</td>\n",
       "      <td>0</td>\n",
       "      <td>0</td>\n",
       "      <td>700</td>\n",
       "      <td>700</td>\n",
       "      <td>0</td>\n",
       "      <td>900</td>\n",
       "    </tr>\n",
       "    <tr>\n",
       "      <th>63</th>\n",
       "      <td>0</td>\n",
       "      <td>0</td>\n",
       "      <td>0</td>\n",
       "      <td>0</td>\n",
       "      <td>0</td>\n",
       "      <td>0</td>\n",
       "      <td>0</td>\n",
       "      <td>0</td>\n",
       "      <td>0</td>\n",
       "      <td>0</td>\n",
       "      <td>...</td>\n",
       "      <td>0</td>\n",
       "      <td>0</td>\n",
       "      <td>0</td>\n",
       "      <td>0</td>\n",
       "      <td>0</td>\n",
       "      <td>0</td>\n",
       "      <td>700</td>\n",
       "      <td>700</td>\n",
       "      <td>900</td>\n",
       "      <td>0</td>\n",
       "    </tr>\n",
       "  </tbody>\n",
       "</table>\n",
       "<p>64 rows × 64 columns</p>\n",
       "</div>"
      ],
      "text/plain": [
       "       1     2     3     4    5    6    7    8    9   10  ...   55   56    57  \\\n",
       "0      0  5000     0     0  700  700    0    0    0    0  ...  100  100     0   \n",
       "1   5000     0   700   700    0    0  300  300  500  500  ...  100  100     0   \n",
       "2      0   700     0  2000    0    0    0    0  300  300  ...    0    0     0   \n",
       "3      0   700  2000     0    0    0  900  400  300  300  ...    0    0     0   \n",
       "4    700     0     0     0    0    0    0    0    0    0  ...    0    0     0   \n",
       "..   ...   ...   ...   ...  ...  ...  ...  ...  ...  ...  ...  ...  ...   ...   \n",
       "59   100     0     0     0    0    0    0    0    0    0  ...    0    0     0   \n",
       "60   100     0     0     0    0    0    0    0    0    0  ...    0    0     0   \n",
       "61     0     0     0     0    0    0    0    0    0    0  ...    0    0 -1000   \n",
       "62     0     0     0     0    0    0    0    0    0    0  ...    0    0     0   \n",
       "63     0     0     0     0    0    0    0    0    0    0  ...    0    0     0   \n",
       "\n",
       "     58   59   60    61    62   63   64  \n",
       "0     0  100  100   100     0    0    0  \n",
       "1   100    0    0     0     0    0    0  \n",
       "2     0    0    0     0     0    0    0  \n",
       "3     0    0    0     0     0    0    0  \n",
       "4     0    0    0     0     0    0    0  \n",
       "..  ...  ...  ...   ...   ...  ...  ...  \n",
       "59    0    0    0     0     0    0    0  \n",
       "60    0  100    0     0  2000  700  700  \n",
       "61    0  100    0  2000     0  700  700  \n",
       "62    0    0    0   700   700    0  900  \n",
       "63    0    0    0   700   700  900    0  \n",
       "\n",
       "[64 rows x 64 columns]"
      ]
     },
     "execution_count": 3,
     "metadata": {},
     "output_type": "execute_result"
    }
   ],
   "source": [
    "# Import the relationship matrix as a pandas dataframe for visualization\n",
    "\n",
    "relationship_matrix_df = pd.read_csv('data/seating_data.csv')\n",
    "relationship_matrix_df.drop(columns='idx', inplace=True)\n",
    "relationship_matrix_df"
   ]
  },
  {
   "cell_type": "code",
   "execution_count": 4,
   "id": "352cce64",
   "metadata": {},
   "outputs": [
    {
     "data": {
      "text/plain": [
       "array([[   0., 5000.,    0., ...,    0.,    0.,    0.],\n",
       "       [5000.,    0.,  700., ...,    0.,    0.,    0.],\n",
       "       [   0.,  700.,    0., ...,    0.,    0.,    0.],\n",
       "       ...,\n",
       "       [   0.,    0.,    0., ...,    0.,  700.,  700.],\n",
       "       [   0.,    0.,    0., ...,  700.,    0.,  900.],\n",
       "       [   0.,    0.,    0., ...,  700.,  900.,    0.]], shape=(64, 64))"
      ]
     },
     "execution_count": 4,
     "metadata": {},
     "output_type": "execute_result"
    }
   ],
   "source": [
    "# Import the relationship matrix as a numpy array\n",
    "\n",
    "relationship_matrix = np.loadtxt('data/seating_data.csv', delimiter=',', skiprows=1)\n",
    "relationship_matrix = relationship_matrix[ : , 1:]\n",
    "relationship_matrix "
   ]
  },
  {
   "cell_type": "markdown",
   "id": "af2cdc61",
   "metadata": {},
   "source": [
    "---\n",
    "\n",
    "### <span style=\"color:#96d9f0;\">2. Solution Representation</span>\n",
    "\n",
    "In this section, we define the Wedding Sitting Solution class (`WSSolution`), which extends the base `Solution` class provided in the practical classes. This class represents a candidate solution for the wedding seating optimization problem.\n",
    "\n",
    "Each solution consists of a list of tables, where each table is a list of guest indices. The class includes methods to generate a valid random initial representation and to evaluate the fitness of a solution based on the total relationship scores between guests seated at the same table."
   ]
  },
  {
   "cell_type": "code",
   "execution_count": 5,
   "id": "c37f1d3c",
   "metadata": {},
   "outputs": [],
   "source": [
    "class WSSolution(Solution):\n",
    "    def __init__(self, repr=None, relationship_matrix=relationship_matrix, nr_of_tables=8):\n",
    "        self.relationship_matrix = relationship_matrix\n",
    "        self.nr_of_tables = nr_of_tables\n",
    "        self.table_capacity = len(relationship_matrix) // nr_of_tables\n",
    "        super().__init__(repr=repr)\n",
    "\n",
    "    def random_initial_representation(self):\n",
    "        tables = []\n",
    "        left_idxs = [idx for idx in range(len(self.relationship_matrix))]\n",
    "        for i in range(self.nr_of_tables):\n",
    "            tables.append([])\n",
    "            for j in range(self.table_capacity):\n",
    "                idx = random.choice(left_idxs)\n",
    "                left_idxs.remove(idx)\n",
    "                # Check if idx is already in a table\n",
    "                #while any(idx in table for table in tables):\n",
    "                    #idx = random.randint(0, len(self.relationship_matrix) - 1)\n",
    "                tables[i].append(idx)\n",
    "        \n",
    "        return tables\n",
    "\n",
    "    def fitness(self, verbose=False):\n",
    "        total_happiness = 0\n",
    "        i = 1\n",
    "        for table in self.repr:\n",
    "            # Sum relationship scores for all unique guest pairs at the table\n",
    "            table_happiness = sum(self.relationship_matrix[a, b] for a, b in combinations(table, 2))\n",
    "            total_happiness += table_happiness\n",
    "            if verbose:\n",
    "                print(f\"Table {i} Happiness = {table_happiness}\")\n",
    "                i += 1\n",
    "        return total_happiness"
   ]
  },
  {
   "cell_type": "code",
   "execution_count": 6,
   "id": "a2c383b8",
   "metadata": {},
   "outputs": [
    {
     "name": "stdout",
     "output_type": "stream",
     "text": [
      "Random solution: [[36, 24, 40, 27, 25, 63, 19, 51], [18, 0, 13, 29, 41, 48, 45, 38], [55, 44, 39, 54, 42, 20, 33, 49], [43, 15, 62, 34, 28, 37, 4, 35], [12, 32, 14, 6, 59, 11, 8, 16], [1, 17, 5, 31, 22, 50, 2, 3], [46, 47, 53, 26, 23, 21, 56, 7], [9, 60, 52, 58, 10, 30, 57, 61]]\n",
      "Table 1 Happiness = 700.0\n",
      "Table 2 Happiness = 800.0\n",
      "Table 3 Happiness = 2800.0\n",
      "Table 4 Happiness = 4800.0\n",
      "Table 5 Happiness = 1400.0\n",
      "Table 6 Happiness = 5300.0\n",
      "Table 7 Happiness = 2000.0\n",
      "Table 8 Happiness = 2200.0\n",
      "Total Fitness: 20000.0\n"
     ]
    }
   ],
   "source": [
    "solution = WSSolution()\n",
    "\n",
    "print('Random solution:', solution)\n",
    "print('Total Fitness:', solution.fitness(verbose=True))"
   ]
  },
  {
   "cell_type": "markdown",
   "id": "86839dc1",
   "metadata": {},
   "source": [
    "---\n",
    "\n",
    "### <span style=\"color:#96d9f0;\">3. Selection Algorithms</span>"
   ]
  },
  {
   "cell_type": "markdown",
   "id": "060e6427",
   "metadata": {},
   "source": [
    "#### 3.1. Fitness Proportionate Selection\n",
    "\n",
    "In a typical **fitness proportionate selection** (also known as **roulette wheel selection**), individuals are selected based on their fitness values, with higher fitness values having a greater chance of being chosen. In our optimization problem, however, the fitness values can range from **negative** (indicating conflicts) to **positive** (indicating good relationships between guests).\n",
    "\n",
    "To adapt the selection process to handle **negative fitness values**, we introduce the following modifications:\n",
    "\n",
    "1. **Handling Negative Fitness**:\n",
    "   - Negative fitness values (e.g., -1000) represent undesirable relationships between guests and are valid in our case.\n",
    "   - However, to ensure that these negative values don't completely block a solution from being selected, we **normalize** the fitness values by adding an **offset** to make all fitness values non-negative.\n",
    "   - The offset is the **absolute value of the minimum fitness** if it's negative, ensuring that all fitness values become positive or zero without altering the relative fitness ranking of solutions.\n",
    "\n",
    "2. **Fitness Normalization**:\n",
    "   - For each individual, we add the **offset** (if necessary) to their fitness value to ensure it's non-negative.\n",
    "   - This ensures that individuals with negative fitness still have a chance to be selected but are less likely to be chosen compared to those with higher (positive) fitness.\n",
    "\n",
    "3. **Roulette Wheel Selection**:\n",
    "   - After normalizing the fitness values, the selection process proceeds as usual, with higher fitness solutions having a higher probability of being selected.\n",
    "   - By adding the offset, we make sure that **negative fitness values** don't result in zero or near-zero chances of selection, allowing them to contribute to the evolutionary process."
   ]
  },
  {
   "cell_type": "code",
   "execution_count": 7,
   "id": "e9aad8dd",
   "metadata": {},
   "outputs": [],
   "source": [
    "def fitness_proportionate_selection(population: list[Solution], maximization: bool):\n",
    "    if maximization:\n",
    "        fitness_values = []\n",
    "        min_fitness = min(ind.fitness() for ind in population)  # Find the minimum fitness value\n",
    "        \n",
    "        # Add a constant offset to ensure no negative fitness values\n",
    "        offset = abs(min_fitness) if min_fitness < 0 else 0\n",
    "        \n",
    "        # Add the offset to each fitness value\n",
    "        for ind in population:\n",
    "            fitness_value = ind.fitness() + offset\n",
    "            fitness_values.append(fitness_value)\n",
    "    else:\n",
    "        # Minimization: Use the inverse of the fitness value\n",
    "        # Lower fitness should have higher probability of being selected\n",
    "        fitness_values = [1 / ind.fitness() for ind in population]\n",
    "\n",
    "    total_fitness = sum(fitness_values)\n",
    "    \n",
    "    # Generate random number between 0 and total\n",
    "    random_nr = random.uniform(0, total_fitness)\n",
    "    \n",
    "    # For each individual, check if random number is inside the individual's \"box\"\n",
    "    box_boundary = 0\n",
    "    for ind_idx, ind in enumerate(population):\n",
    "        box_boundary += fitness_values[ind_idx]\n",
    "        if random_nr <= box_boundary:\n",
    "            return deepcopy(ind)"
   ]
  },
  {
   "cell_type": "code",
   "execution_count": 8,
   "id": "357f5bd2",
   "metadata": {},
   "outputs": [
    {
     "name": "stdout",
     "output_type": "stream",
     "text": [
      "Fitness Proportionate selection result: [[22, 18, 31, 32, 44, 24, 61, 38], [19, 51, 23, 35, 50, 59, 14, 58], [1, 49, 0, 3, 27, 4, 10, 5], [33, 26, 9, 63, 12, 2, 37, 30], [57, 16, 55, 43, 53, 6, 60, 52], [36, 13, 47, 8, 40, 15, 34, 56], [54, 41, 46, 62, 21, 29, 45, 39], [11, 17, 25, 48, 7, 42, 28, 20]]\n"
     ]
    }
   ],
   "source": [
    "population = [WSSolution() for _ in range(10)]\n",
    "\n",
    "fitness_proportionate_selection_result = fitness_proportionate_selection(population, maximization=True)\n",
    "print('Fitness Proportionate selection result:', fitness_proportionate_selection_result)"
   ]
  },
  {
   "cell_type": "markdown",
   "id": "ec68684f",
   "metadata": {},
   "source": [
    "#### 3.2. Ranking Selection"
   ]
  },
  {
   "cell_type": "markdown",
   "id": "8faa88d7",
   "metadata": {},
   "source": [
    "With Ranking Selection, instead of selecting based on raw fitness values, individuals are ranked by their fitness, and higher-ranked individuals (better seating arrangements) have a higher chance of being selected. This method ensures that negative fitness values aren´t automatically excluded, as selection is based on relative rank rather than absolute fitness. It maintains diversity by giving lower-ranked individuals a chance to contribute, preventing premature convergence."
   ]
  },
  {
   "cell_type": "code",
   "execution_count": 9,
   "id": "4a7333bb",
   "metadata": {},
   "outputs": [],
   "source": [
    "def ranking_selection(population, maximization=False):\n",
    "    n_parents = 1  # Always select one parent per call in the GA\n",
    "\n",
    "    # Sort population based on fitness\n",
    "    sorted_pop = sorted(\n",
    "        population,\n",
    "        key=lambda sol: sol.fitness(),\n",
    "        reverse=maximization  # reverse=True if maximizing\n",
    "    )\n",
    "\n",
    "    # Assign linear ranks\n",
    "    n = len(sorted_pop)\n",
    "    ranks = np.arange(1, n + 1)\n",
    "    total_rank = np.sum(ranks)\n",
    "    probabilities = ranks / total_rank\n",
    "\n",
    "    # If maximizing, best is first → reverse probabilities so high rank = high prob\n",
    "    if maximization:\n",
    "        probabilities = probabilities[::-1]\n",
    "\n",
    "    selected = np.random.choice(sorted_pop, size=n_parents, p=probabilities, replace=True)\n",
    "    return selected[0]  # Return single selected parent\n"
   ]
  },
  {
   "cell_type": "code",
   "execution_count": 10,
   "id": "86362934",
   "metadata": {},
   "outputs": [
    {
     "name": "stdout",
     "output_type": "stream",
     "text": [
      "Fitness of individuals in population:\n",
      "Individual 0: Fitness = 9300.00\n",
      "Individual 1: Fitness = 14800.00\n",
      "Individual 2: Fitness = 9400.00\n",
      "Individual 3: Fitness = 9300.00\n",
      "Individual 4: Fitness = 14600.00\n",
      "Individual 5: Fitness = 10700.00\n",
      "Individual 6: Fitness = 19500.00\n",
      "Individual 7: Fitness = 9500.00\n",
      "Individual 8: Fitness = 14700.00\n",
      "Individual 9: Fitness = 15800.00\n",
      "\n",
      "Ranking selection result:\n",
      "Selected 1: [[20, 47, 51, 21, 19, 34, 12, 38], [58, 60, 49, 48, 59, 18, 28, 63], [45, 53, 11, 39, 41, 33, 26, 17], [40, 1, 62, 50, 30, 22, 56, 14], [8, 42, 36, 16, 29, 43, 7, 35], [55, 4, 54, 15, 13, 24, 61, 5], [44, 23, 46, 10, 31, 27, 2, 32], [0, 52, 57, 25, 6, 37, 3, 9]], Fitness = 14800.00\n",
      "Selected 2: [[49, 16, 3, 2, 63, 1, 11, 35], [48, 26, 19, 52, 21, 27, 56, 57], [44, 17, 33, 55, 45, 51, 43, 20], [4, 41, 10, 15, 61, 14, 42, 9], [5, 12, 47, 0, 22, 54, 62, 37], [32, 13, 31, 28, 29, 38, 18, 36], [30, 6, 34, 39, 7, 23, 53, 24], [8, 59, 25, 46, 50, 60, 58, 40]], Fitness = 19500.00\n"
     ]
    }
   ],
   "source": [
    "# Create a test population\n",
    "population = [WSSolution() for _ in range(10)]\n",
    "\n",
    "# Display fitness of each individual in the population\n",
    "print(\"Fitness of individuals in population:\")\n",
    "for i, sol in enumerate(population):\n",
    "    print(f\"Individual {i}: Fitness = {sol.fitness():.2f}\")\n",
    "\n",
    "# Select two individuals using the updated ranking_selection (one at a time)\n",
    "selected_individuals = [ranking_selection(population, maximization=True) for _ in range(2)]\n",
    "\n",
    "# Print selected individuals and their fitness\n",
    "print(\"\\nRanking selection result:\")\n",
    "for i, ind in enumerate(selected_individuals):\n",
    "    print(f\"Selected {i + 1}: {ind}, Fitness = {ind.fitness():.2f}\")\n"
   ]
  },
  {
   "cell_type": "markdown",
   "id": "93348b98",
   "metadata": {},
   "source": [
    "In this case, we can see that the same individual (2nd best in rank) was selected twice. This is okay and makes that it coud happen especially with the high rank and small population."
   ]
  },
  {
   "cell_type": "code",
   "execution_count": 11,
   "id": "92f21532",
   "metadata": {},
   "outputs": [
    {
     "name": "stdout",
     "output_type": "stream",
     "text": [
      "Fitness of individuals in population:\n",
      "Individual 0: Fitness = 7500.00\n",
      "Individual 1: Fitness = 14700.00\n",
      "Individual 2: Fitness = 13600.00\n",
      "Individual 3: Fitness = 10800.00\n",
      "Individual 4: Fitness = 8600.00\n",
      "Individual 5: Fitness = 8800.00\n",
      "Individual 6: Fitness = 13400.00\n",
      "Individual 7: Fitness = 11600.00\n",
      "Individual 8: Fitness = 11800.00\n",
      "Individual 9: Fitness = 15500.00\n",
      "\n",
      "Ranking selection result:\n",
      "Selected 1: [[60, 17, 15, 62, 63, 14, 39, 26], [34, 41, 9, 42, 30, 20, 21, 31], [43, 7, 19, 10, 4, 53, 35, 8], [57, 59, 47, 61, 5, 33, 44, 38], [52, 16, 3, 11, 46, 22, 36, 55], [6, 32, 48, 50, 49, 51, 56, 23], [1, 27, 18, 29, 58, 13, 40, 24], [25, 12, 2, 28, 54, 0, 45, 37]], Fitness = 10800.00\n",
      "Selected 2: [[37, 53, 57, 45, 51, 29, 9, 32], [12, 8, 26, 46, 5, 33, 44, 54], [15, 31, 4, 28, 22, 18, 61, 35], [36, 30, 7, 10, 20, 62, 3, 47], [14, 17, 60, 27, 6, 25, 59, 16], [19, 43, 40, 23, 34, 38, 42, 11], [2, 48, 13, 49, 41, 50, 55, 56], [58, 1, 52, 63, 39, 24, 21, 0]], Fitness = 13600.00\n"
     ]
    }
   ],
   "source": [
    "# Create a test population\n",
    "population = [WSSolution() for _ in range(10)]\n",
    "\n",
    "# Display fitness of each individual in the population\n",
    "print(\"Fitness of individuals in population:\")\n",
    "for i, sol in enumerate(population):\n",
    "    print(f\"Individual {i}: Fitness = {sol.fitness():.2f}\")\n",
    "\n",
    "# Select two individuals using the updated ranking_selection (one at a time)\n",
    "selected_individuals = [ranking_selection(population, maximization=True) for _ in range(2)]\n",
    "\n",
    "# Print selected individuals and their fitness\n",
    "print(\"\\nRanking selection result:\")\n",
    "for i, ind in enumerate(selected_individuals):\n",
    "    print(f\"Selected {i + 1}: {ind}, Fitness = {ind.fitness():.2f}\")"
   ]
  },
  {
   "cell_type": "markdown",
   "id": "7c9efbe9",
   "metadata": {},
   "source": [
    "#### 3.3. Tournament Selection"
   ]
  },
  {
   "cell_type": "markdown",
   "id": "63bf642c-4c41-4872-9b0b-3f13522dc536",
   "metadata": {},
   "source": [
    "The tournament selection randomly chooses 𝑘 individuals at random from the population, compares their fitnesses, and returns the best individual out of those to be a parent. "
   ]
  },
  {
   "cell_type": "code",
   "execution_count": 12,
   "id": "9c5e81ac",
   "metadata": {},
   "outputs": [],
   "source": [
    "def tournament_selection(population, k=3):\n",
    "    competitors = random.sample(population, k)\n",
    "    return max(competitors, key=lambda ind: ind.fitness())"
   ]
  },
  {
   "cell_type": "code",
   "execution_count": 13,
   "id": "88c0e5a8",
   "metadata": {},
   "outputs": [
    {
     "name": "stdout",
     "output_type": "stream",
     "text": [
      "Tournament selection result: [[38, 55, 13, 59, 15, 54, 5, 14], [57, 4, 62, 44, 31, 51, 45, 49], [40, 36, 0, 2, 11, 32, 29, 6], [16, 19, 43, 63, 10, 41, 17, 12], [18, 47, 60, 24, 23, 42, 22, 8], [48, 50, 33, 30, 25, 27, 56, 46], [26, 61, 37, 3, 9, 20, 21, 53], [28, 58, 7, 1, 52, 34, 39, 35]]\n"
     ]
    }
   ],
   "source": [
    "population = [WSSolution() for _ in range(10)]\n",
    "\n",
    "tournament_selection_result = tournament_selection(population)\n",
    "print('Tournament selection result:', tournament_selection_result)"
   ]
  },
  {
   "cell_type": "markdown",
   "id": "9b9d955c-8a54-4dcc-be88-2689ad7ca93f",
   "metadata": {},
   "source": [
    "To make sure that our tournament_selection implementation truly picks the fittest individual, we wrapped it in a helper function, tournament_verification, which prints out every step of the process. This function is needed because the core algorithm samples competitors internally, not allowing us to check the candidates considered or their fitness except for the winner that is returned. In tournament_verification, we set \n",
    "k=10 and explicitly list all ten randomly chosen competitors along with their fitness values, then identify and print the one selected as the fittest by tournament_selection, allowing us to directly compare that result against the ten and confirm it truly has the highest fitness. This gives us clear, reproducible evidence that the tournament selection returns the strongest contender."
   ]
  },
  {
   "cell_type": "code",
   "execution_count": 14,
   "id": "9a0e5025-ccc3-4de1-a557-810dcd579d45",
   "metadata": {},
   "outputs": [],
   "source": [
    "def tournament_verification(population, k=10):\n",
    "    competitors = random.sample(population, k)\n",
    "    \n",
    "    print(\"Fitness of competitors:\")\n",
    "    for i in range(k):\n",
    "        print(f\"Competitor {i+1}: Fitness = {competitors[i].fitness()}\")\n",
    "    \n",
    "    best_idx, best_competitor = max(enumerate(competitors),key=lambda pair: pair[1].fitness())\n",
    "    \n",
    "    print(\"\\nTournament selection result:\")\n",
    "    print(f\"Competitor {best_idx+1}: Fitness = {best_competitor.fitness():.2f}\")"
   ]
  },
  {
   "cell_type": "code",
   "execution_count": 15,
   "id": "2ed13fe7-db4f-4d52-9bfd-dcd50051bdbe",
   "metadata": {},
   "outputs": [
    {
     "name": "stdout",
     "output_type": "stream",
     "text": [
      "Fitness of competitors:\n",
      "Competitor 1: Fitness = 10200.0\n",
      "Competitor 2: Fitness = 7500.0\n",
      "Competitor 3: Fitness = 8300.0\n",
      "Competitor 4: Fitness = 9400.0\n",
      "Competitor 5: Fitness = 9000.0\n",
      "Competitor 6: Fitness = 12800.0\n",
      "Competitor 7: Fitness = 10600.0\n",
      "Competitor 8: Fitness = 10400.0\n",
      "Competitor 9: Fitness = 11600.0\n",
      "Competitor 10: Fitness = 9400.0\n",
      "\n",
      "Tournament selection result:\n",
      "Competitor 6: Fitness = 12800.00\n"
     ]
    }
   ],
   "source": [
    "population = [WSSolution() for _ in range(50)]\n",
    "\n",
    "tournament_verification(population)"
   ]
  },
  {
   "cell_type": "markdown",
   "id": "c059ee43",
   "metadata": {},
   "source": [
    "---\n",
    "\n",
    "### <span style=\"color:#96d9f0;\">4. Crossover Operators</span>"
   ]
  },
  {
   "cell_type": "markdown",
   "id": "6434b35c",
   "metadata": {},
   "source": [
    "#### 4.1. Custom Crossover Operator (`table_level_crossover`)\n",
    "\n",
    "In this section, we implement a custom crossover operator tailored to the constraints of our optimization problem. Unlike standard one-point crossover, which is suitable for flat representations, our solution requires a structured approach:\n",
    "\n",
    "- Each solution is a nested list representing 8 tables with 8 unique guests each.\n",
    "- Every guest (from 0 to 63) must appear exactly once across all tables.\n",
    "- A direct crossover risks creating invalid offspring (with duplicated or missing guests).\n",
    "\n",
    "To address this, our operator performs table-level crossover:\n",
    "\n",
    "1. A one-point crossover is applied between the two parent solutions at the table level. This can result in invalid intermediate offspring that contain duplicate guests and omit others, violating the uniqueness constraint.\n",
    "\n",
    "2. The resulting child is then repaired by:\n",
    "\n",
    "    - Detecting duplicate and missing guests\n",
    "    - Replacing duplicates with missing ones to restore a valid configuration\n",
    "    - This ensures all offspring are valid solutions and suitable for use in the genetic algorithm."
   ]
  },
  {
   "cell_type": "code",
   "execution_count": 16,
   "id": "27873c31",
   "metadata": {},
   "outputs": [],
   "source": [
    "def table_level_crossover(parent1, parent2):\n",
    "    # Deep copies of the parent representations\n",
    "    p1_repr = deepcopy(parent1.repr)\n",
    "    p2_repr = deepcopy(parent2.repr)\n",
    "\n",
    "    # Flatten guest lists\n",
    "    total_guests = len(parent1.relationship_matrix)\n",
    "\n",
    "    # One-point crossover at table level\n",
    "    xo_point = random.randint(1, len(p1_repr) - 1)\n",
    "    child1_repr = p1_repr[:xo_point] + p2_repr[xo_point:]\n",
    "    child2_repr = p2_repr[:xo_point] + p1_repr[xo_point:]\n",
    "\n",
    "    def repair(child_repr):\n",
    "        # Count how many times each guest appears\n",
    "        guest_counts = {}\n",
    "        for table in child_repr:\n",
    "            for guest in table:\n",
    "                guest_counts[guest] = guest_counts.get(guest, 0) + 1\n",
    "\n",
    "        # Identify missing and extra guests\n",
    "        missing = [g for g in range(total_guests) if guest_counts.get(g, 0) == 0]\n",
    "        extras = [g for g, count in guest_counts.items() if count > 1 for _ in range(count - 1)]\n",
    "\n",
    "        # Replace extra guests with missing ones\n",
    "        for table in child_repr:\n",
    "            for i in range(len(table)):\n",
    "                guest = table[i]\n",
    "                if guest_counts[guest] > 1:\n",
    "                    new_guest = missing.pop()\n",
    "                    guest_counts[guest] -= 1\n",
    "                    table[i] = new_guest\n",
    "                    guest_counts[new_guest] = 1  # added to the table\n",
    "\n",
    "        return child_repr\n",
    "\n",
    "    # Repair both children\n",
    "    repaired1 = repair(child1_repr)\n",
    "    repaired2 = repair(child2_repr)\n",
    "\n",
    "    return WSSolution(repr=repaired1), WSSolution(repr=repaired2)"
   ]
  },
  {
   "cell_type": "code",
   "execution_count": 17,
   "id": "fa8e8df8-d745-4144-8e4f-eee4a851ea1c",
   "metadata": {},
   "outputs": [
    {
     "name": "stdout",
     "output_type": "stream",
     "text": [
      "Parent 1 Seating Arrangement:\n",
      "[[60, 59, 35, 14, 48, 56, 51, 0], [39, 16, 57, 10, 63, 33, 34, 11], [43, 13, 61, 53, 3, 8, 44, 20], [21, 41, 12, 25, 54, 42, 17, 29], [18, 62, 22, 55, 7, 15, 1, 24], [37, 2, 4, 30, 6, 5, 32, 23], [40, 27, 19, 47, 26, 49, 36, 52], [46, 58, 28, 9, 50, 31, 38, 45]]\n",
      "Parent 2 Seating Arrangement:\n",
      "[[44, 27, 58, 24, 38, 54, 48, 39], [28, 35, 10, 3, 23, 13, 25, 49], [37, 9, 14, 40, 63, 0, 31, 41], [56, 29, 43, 33, 52, 11, 46, 60], [1, 21, 34, 61, 30, 20, 17, 18], [55, 53, 57, 6, 62, 19, 47, 12], [8, 59, 45, 22, 50, 15, 16, 36], [7, 5, 51, 2, 32, 4, 26, 42]]\n",
      "\n",
      "Offspring 1 Seating Arrangement:\n",
      "[[58, 54, 35, 49, 48, 44, 38, 28], [39, 27, 25, 10, 24, 23, 13, 3], [37, 9, 14, 40, 63, 0, 31, 41], [56, 29, 43, 33, 52, 11, 46, 60], [1, 21, 34, 61, 30, 20, 17, 18], [55, 53, 57, 6, 62, 19, 47, 12], [8, 59, 45, 22, 50, 15, 16, 36], [7, 5, 51, 2, 32, 4, 26, 42]]\n",
      "Offspring 2 Seating Arrangement:\n",
      "[[63, 60, 59, 57, 56, 51, 48, 39], [34, 35, 10, 33, 16, 14, 11, 0], [43, 13, 61, 53, 3, 8, 44, 20], [21, 41, 12, 25, 54, 42, 17, 29], [18, 62, 22, 55, 7, 15, 1, 24], [37, 2, 4, 30, 6, 5, 32, 23], [40, 27, 19, 47, 26, 49, 36, 52], [46, 58, 28, 9, 50, 31, 38, 45]]\n",
      "\n",
      "Parent 1 Fitness: 10400.0\n",
      "Parent 2 Fitness: 9100.0\n",
      "Offspring 1 Fitness: 11700.0\n",
      "Offspring 2 Fitness: 16000.0\n"
     ]
    }
   ],
   "source": [
    "# Create 2 solutions\n",
    "parent1 = WSSolution()\n",
    "parent2 = WSSolution()\n",
    "\n",
    "# Parents before crossover\n",
    "print(\"Parent 1 Seating Arrangement:\")\n",
    "print(parent1.repr)\n",
    "print(\"Parent 2 Seating Arrangement:\")\n",
    "print(parent2.repr)\n",
    "\n",
    "# Apply PMX crossover\n",
    "offspring1, offspring2 = table_level_crossover(parent1, parent2)\n",
    "\n",
    "# Print offspring after crossover\n",
    "print(\"\\nOffspring 1 Seating Arrangement:\")\n",
    "print(offspring1.repr)\n",
    "print(\"Offspring 2 Seating Arrangement:\")\n",
    "print(offspring2.repr)\n",
    "\n",
    "# Compare the fitness values to see how they change\n",
    "print(\"\\nParent 1 Fitness:\", parent1.fitness())\n",
    "print(\"Parent 2 Fitness:\", parent2.fitness())\n",
    "print(\"Offspring 1 Fitness:\", offspring1.fitness())\n",
    "print(\"Offspring 2 Fitness:\", offspring2.fitness())\n"
   ]
  },
  {
   "cell_type": "code",
   "execution_count": 18,
   "id": "dccf88e7-908b-4c16-9b70-03d7e962141a",
   "metadata": {},
   "outputs": [
    {
     "name": "stdout",
     "output_type": "stream",
     "text": [
      "Offspring 1 has no repeated guests: True\n",
      "Offspring 2 has no repeated guests: True\n"
     ]
    }
   ],
   "source": [
    "def check_no_repeated_guests(individual):\n",
    "    seen_guests = []  # Keep track of guests we've seen\n",
    "    for table in individual:\n",
    "        for guest in table:\n",
    "            if guest in seen_guests:  # If guest is already in the list, they are repeated\n",
    "                print(f\"Repeated guest found: {guest}\")  # Print the repeated guest for debugging\n",
    "                return False\n",
    "            seen_guests.append(guest)  # Add guest to the list\n",
    "    return True  # No repeated guests found\n",
    "\n",
    "# Check if there are repeated guests in the offspring seating arrangements\n",
    "print(\"Offspring 1 has no repeated guests:\", check_no_repeated_guests(offspring1.repr))\n",
    "print(\"Offspring 2 has no repeated guests:\", check_no_repeated_guests(offspring2.repr))"
   ]
  },
  {
   "cell_type": "markdown",
   "id": "76ce6eb8",
   "metadata": {},
   "source": [
    "#### 4.2. Partially Matched Crossover"
   ]
  },
  {
   "cell_type": "markdown",
   "id": "7eb5bbce",
   "metadata": {},
   "source": [
    "The Partially Matched Crossover (pmc) is a genetic algorithm operator designed for permutations, like our guest seating arrangement. It swaps a segment between two parent solutions and builds offspring by preserving the order and position of elements while avoiding duplicates. In our implementation, we adapted PMX to work with the wedding seating format by flattening table arrangements into 1D lists, applying PMX, and then converting them back. We carefully resolved conflicts during crossover by mapping duplicate entries to valid unused guests, ensuring that each guest appears exactly once in the final seating—maintaining valid, non-repetitive arrangements."
   ]
  },
  {
   "cell_type": "code",
   "execution_count": 19,
   "id": "614bafef",
   "metadata": {},
   "outputs": [],
   "source": [
    "def partially_matched_crossover(parent1, parent2):\n",
    "    \"\"\"\n",
    "    PMC crossover for WSSolution-based seating plans with 8 tables.\n",
    "    Ensures no repeated guests in offspring.\n",
    "    \"\"\"\n",
    "    import random\n",
    "\n",
    "    def flatten(tables):\n",
    "        return [guest for table in tables for guest in table]\n",
    "\n",
    "    def unflatten(guest_list, table_size):\n",
    "        return [guest_list[i:i + table_size] for i in range(0, len(guest_list), table_size)]\n",
    "\n",
    "    parent1_flat = flatten(parent1.repr)\n",
    "    parent2_flat = flatten(parent2.repr)\n",
    "    size = len(parent1_flat)\n",
    "    table_size = parent1.table_capacity\n",
    "\n",
    "    # Choose two crossover points\n",
    "    point1, point2 = sorted(random.sample(range(size), 2))\n",
    "\n",
    "    def pmc(p1, p2):\n",
    "        child = [None] * size\n",
    "        # Copy the crossover segment from p1\n",
    "        child[point1:point2] = p1[point1:point2]\n",
    "\n",
    "        for i in range(point1, point2):\n",
    "            if p2[i] not in child:\n",
    "                val = p2[i]\n",
    "                idx = i\n",
    "                while True:\n",
    "                    mapped = p1[idx]\n",
    "                    idx = p2.index(mapped)\n",
    "                    if child[idx] is None:\n",
    "                        child[idx] = val\n",
    "                        break\n",
    "\n",
    "        # Fill remaining positions from p2\n",
    "        for i in range(size):\n",
    "            if child[i] is None:\n",
    "                child[i] = p2[i]\n",
    "\n",
    "        return child\n",
    "\n",
    "    child1_flat = pmc(parent1_flat, parent2_flat)\n",
    "    child2_flat = pmc(parent2_flat, parent1_flat)\n",
    "\n",
    "    # Convert back to table format\n",
    "    child1_repr = unflatten(child1_flat, table_size)\n",
    "    child2_repr = unflatten(child2_flat, table_size)\n",
    "\n",
    "    # Wrap in WSSolution\n",
    "    offspring1 = WSSolution(repr=child1_repr, nr_of_tables=parent1.nr_of_tables)\n",
    "    offspring2 = WSSolution(repr=child2_repr, nr_of_tables=parent2.nr_of_tables)\n",
    "\n",
    "    return offspring1, offspring2\n"
   ]
  },
  {
   "cell_type": "code",
   "execution_count": 20,
   "id": "b9b6da25",
   "metadata": {},
   "outputs": [
    {
     "name": "stdout",
     "output_type": "stream",
     "text": [
      "Parent 1 Seating Arrangement:\n",
      "[[47, 16, 5, 27, 42, 11, 26, 44], [22, 33, 63, 13, 23, 12, 9, 40], [54, 32, 51, 58, 31, 57, 19, 56], [24, 20, 21, 30, 43, 49, 7, 10], [18, 59, 29, 34, 28, 39, 60, 6], [3, 45, 50, 41, 36, 55, 35, 37], [2, 15, 61, 14, 62, 38, 0, 53], [48, 4, 46, 17, 1, 8, 52, 25]]\n",
      "Parent 2 Seating Arrangement:\n",
      "[[22, 38, 39, 24, 2, 33, 42, 8], [23, 62, 31, 0, 36, 48, 41, 17], [9, 57, 32, 12, 18, 19, 16, 53], [44, 7, 5, 28, 37, 15, 60, 43], [6, 52, 20, 51, 29, 1, 50, 21], [4, 63, 11, 55, 13, 61, 56, 27], [40, 59, 10, 47, 45, 14, 30, 58], [25, 49, 3, 34, 46, 54, 26, 35]]\n",
      "\n",
      "Offspring 1 Seating Arrangement:\n",
      "[[0, 38, 1, 8, 17, 5, 26, 44], [22, 33, 63, 13, 23, 12, 9, 40], [54, 32, 51, 58, 31, 57, 19, 56], [24, 20, 21, 30, 43, 49, 7, 10], [18, 59, 29, 34, 28, 39, 60, 6], [3, 45, 50, 41, 36, 55, 35, 37], [2, 15, 61, 14, 62, 47, 11, 48], [25, 52, 4, 16, 46, 27, 42, 53]]\n",
      "Offspring 2 Seating Arrangement:\n",
      "[[14, 34, 33, 54, 26, 30, 42, 8], [23, 62, 31, 0, 36, 48, 41, 17], [9, 57, 32, 12, 18, 19, 16, 53], [44, 7, 5, 28, 37, 15, 60, 43], [6, 52, 20, 51, 29, 1, 50, 21], [4, 63, 11, 55, 13, 61, 56, 27], [40, 59, 10, 47, 45, 38, 22, 35], [58, 3, 46, 2, 39, 24, 49, 25]]\n",
      "\n",
      "Parent 1 Fitness: 17400.0\n",
      "Parent 2 Fitness: 15900.0\n",
      "Offspring 1 Fitness: 22400.0\n",
      "Offspring 2 Fitness: 13000.0\n"
     ]
    }
   ],
   "source": [
    "# Create 2 solutions\n",
    "parent1 = WSSolution()\n",
    "parent2 = WSSolution()\n",
    "\n",
    "# Parents before crossover\n",
    "print(\"Parent 1 Seating Arrangement:\")\n",
    "print(parent1.repr)\n",
    "print(\"Parent 2 Seating Arrangement:\")\n",
    "print(parent2.repr)\n",
    "\n",
    "# Apply PMX crossover\n",
    "offspring1, offspring2 = partially_matched_crossover(parent1, parent2)\n",
    "\n",
    "# Print offspring after crossover\n",
    "print(\"\\nOffspring 1 Seating Arrangement:\")\n",
    "print(offspring1.repr)\n",
    "print(\"Offspring 2 Seating Arrangement:\")\n",
    "print(offspring2.repr)\n",
    "\n",
    "# Compare the fitness values to see how they change\n",
    "print(\"\\nParent 1 Fitness:\", parent1.fitness())\n",
    "print(\"Parent 2 Fitness:\", parent2.fitness())\n",
    "print(\"Offspring 1 Fitness:\", offspring1.fitness())\n",
    "print(\"Offspring 2 Fitness:\", offspring2.fitness())\n"
   ]
  },
  {
   "cell_type": "code",
   "execution_count": 21,
   "id": "9d95f2c5",
   "metadata": {},
   "outputs": [
    {
     "name": "stdout",
     "output_type": "stream",
     "text": [
      "Offspring 1 has no repeated guests: True\n",
      "Offspring 2 has no repeated guests: True\n"
     ]
    }
   ],
   "source": [
    "# Check if there are repeated guests in the offspring seating arrangements\n",
    "print(\"Offspring 1 has no repeated guests:\", check_no_repeated_guests(offspring1.repr))\n",
    "print(\"Offspring 2 has no repeated guests:\", check_no_repeated_guests(offspring2.repr))"
   ]
  },
  {
   "cell_type": "markdown",
   "id": "579b3cd1",
   "metadata": {},
   "source": [
    "#### 4.3. Order Crossover"
   ]
  },
  {
   "cell_type": "markdown",
   "id": "0d9b90d8-8ec7-4200-b949-97921a126e78",
   "metadata": {},
   "source": [
    "The Order Crossover (OX) is a genetic algorithm operator also designed for permutation problems, such as our guest seating arrangements. It selects a contiguous block of seats from one parent and preserves both the relative order and positional integrity of the remaining guests by filling in, in sequence, from the other parent’s list and skipping any guest already included. In our implementation, we adapt OX to the wedding format by flattening each table layout into a single list, choosing two crossover points, copying the segment from Parent 1 into Offspring 1 (and vice versa for Offspring 2), then rotating through the other parent’s flattened list to fill the empty slots while avoiding duplicates. Finally, we reshape the 1D offspring lists back into the original table structure, guaranteeing a complete, non-repetitive seating plan."
   ]
  },
  {
   "cell_type": "code",
   "execution_count": 22,
   "id": "32cfa743-9387-43d0-8b3e-1207db248fbf",
   "metadata": {},
   "outputs": [],
   "source": [
    "def order_crossover(parent1, parent2):\n",
    "    \"\"\"\n",
    "    Order crossover for WSSolution-based seating plans with 8 tables.\n",
    "    Ensures no repeated guests in offspring.\n",
    "    \"\"\"\n",
    "    def flatten(tables):\n",
    "        return [guest for table in tables for guest in table]\n",
    "\n",
    "    def unflatten(guest_list, table_size):\n",
    "        return [guest_list[i:i + table_size] for i in range(0, len(guest_list), table_size)]\n",
    "\n",
    "    parent1_flat = flatten(parent1.repr)\n",
    "    parent2_flat = flatten(parent2.repr)\n",
    "    size = len(parent1_flat)\n",
    "    table_size = parent1.table_capacity\n",
    "\n",
    "    # Choose two crossover points\n",
    "    point1, point2 = sorted(random.sample(range(size), 2))\n",
    "\n",
    "    def order(p1, p2):\n",
    "        child = [None] * size\n",
    "        child[point1:point2] = p1[point1:point2]\n",
    "        \n",
    "        for i in range(point2-size, point1):\n",
    "            val = p2[i]\n",
    "            idx = i\n",
    "            while val in child:\n",
    "                idx+=1\n",
    "                val = p2[idx]\n",
    "            child[i] = val\n",
    "\n",
    "        return child\n",
    "\n",
    "    child1_flat = order(parent1_flat, parent2_flat)\n",
    "    child2_flat = order(parent2_flat, parent1_flat)\n",
    "\n",
    "    # Convert back to table format\n",
    "    child1_repr = unflatten(child1_flat, table_size)\n",
    "    child2_repr = unflatten(child2_flat, table_size)\n",
    "\n",
    "    # Wrap in WSSolution\n",
    "    offspring1 = WSSolution(repr=child1_repr, nr_of_tables=parent1.nr_of_tables)\n",
    "    offspring2 = WSSolution(repr=child2_repr, nr_of_tables=parent2.nr_of_tables)\n",
    "\n",
    "    return offspring1, offspring2"
   ]
  },
  {
   "cell_type": "code",
   "execution_count": 23,
   "id": "298de8c9-8b53-4e2d-9fdb-b5878ea259a4",
   "metadata": {},
   "outputs": [
    {
     "name": "stdout",
     "output_type": "stream",
     "text": [
      "Parent 1 Seating Arrangement:\n",
      "[[10, 2, 15, 36, 22, 25, 49, 32], [29, 39, 9, 46, 6, 60, 40, 8], [62, 30, 17, 19, 54, 35, 38, 18], [51, 55, 37, 28, 23, 7, 47, 1], [59, 0, 63, 21, 57, 53, 45, 12], [44, 48, 43, 34, 26, 33, 56, 14], [24, 61, 50, 58, 27, 16, 5, 11], [52, 13, 31, 20, 42, 4, 3, 41]]\n",
      "Parent 2 Seating Arrangement:\n",
      "[[61, 19, 18, 28, 58, 60, 56, 37], [49, 23, 9, 13, 29, 62, 25, 22], [41, 54, 36, 17, 48, 53, 7, 5], [12, 16, 1, 50, 0, 51, 45, 43], [40, 14, 15, 4, 35, 59, 26, 34], [8, 46, 55, 38, 57, 27, 6, 44], [47, 3, 21, 31, 39, 20, 33, 63], [11, 32, 2, 30, 42, 10, 52, 24]]\n",
      "\n",
      "Offspring 1 Seating Arrangement:\n",
      "[[56, 49, 9, 13, 29, 62, 25, 22], [41, 54, 36, 17, 5, 16, 50, 40], [14, 15, 4, 35, 8, 46, 38, 18], [51, 55, 37, 28, 23, 7, 47, 1], [59, 0, 63, 21, 57, 53, 45, 12], [44, 48, 43, 34, 26, 27, 6, 3], [31, 39, 20, 33, 11, 32, 2, 30], [42, 10, 52, 24, 61, 19, 58, 60]]\n",
      "Offspring 2 Seating Arrangement:\n",
      "[[49, 32, 29, 39, 9, 6, 60, 62], [30, 17, 19, 54, 18, 37, 28, 23], [7, 47, 63, 21, 53, 44, 48, 5], [12, 16, 1, 50, 0, 51, 45, 43], [40, 14, 15, 4, 35, 59, 26, 34], [8, 46, 55, 38, 57, 33, 56, 24], [61, 58, 27, 11, 52, 13, 31, 20], [42, 3, 41, 10, 2, 36, 22, 25]]\n",
      "\n",
      "Parent 1 Fitness: 12000.0\n",
      "Parent 2 Fitness: 19700.0\n",
      "Offspring 1 Fitness: 12600.0\n",
      "Offspring 2 Fitness: 20900.0\n"
     ]
    }
   ],
   "source": [
    "# Create 2 solutions\n",
    "parent1 = WSSolution()\n",
    "parent2 = WSSolution()\n",
    "\n",
    "# Parents before crossover\n",
    "print(\"Parent 1 Seating Arrangement:\")\n",
    "print(parent1.repr)\n",
    "print(\"Parent 2 Seating Arrangement:\")\n",
    "print(parent2.repr)\n",
    "\n",
    "# Apply Order crossover\n",
    "offspring1, offspring2 = order_crossover(parent1, parent2)\n",
    "\n",
    "# Print offspring after crossover\n",
    "print(\"\\nOffspring 1 Seating Arrangement:\")\n",
    "print(offspring1.repr)\n",
    "print(\"Offspring 2 Seating Arrangement:\")\n",
    "print(offspring2.repr)\n",
    "\n",
    "# Compare the fitness values to see how they change\n",
    "print(\"\\nParent 1 Fitness:\", parent1.fitness())\n",
    "print(\"Parent 2 Fitness:\", parent2.fitness())\n",
    "print(\"Offspring 1 Fitness:\", offspring1.fitness())\n",
    "print(\"Offspring 2 Fitness:\", offspring2.fitness())"
   ]
  },
  {
   "cell_type": "code",
   "execution_count": 24,
   "id": "209f1a4b-16e4-4040-a582-072c71fc392b",
   "metadata": {},
   "outputs": [
    {
     "name": "stdout",
     "output_type": "stream",
     "text": [
      "Offspring 1 has no repeated guests: True\n",
      "Offspring 2 has no repeated guests: True\n"
     ]
    }
   ],
   "source": [
    "# Check if there are repeated guests in the offspring seating arrangements\n",
    "print(\"Offspring 1 has no repeated guests:\", check_no_repeated_guests(offspring1.repr))\n",
    "print(\"Offspring 2 has no repeated guests:\", check_no_repeated_guests(offspring2.repr))"
   ]
  },
  {
   "cell_type": "markdown",
   "id": "45b78edb",
   "metadata": {},
   "source": [
    "---\n",
    "\n",
    "### <span style=\"color:#96d9f0;\">5. Mutation Operators</span>"
   ]
  },
  {
   "cell_type": "markdown",
   "id": "86fa1df5",
   "metadata": {},
   "source": [
    "#### 5.1. Swap Mutation\n",
    "\n",
    "The swap mutation operator introduces random changes to the seating arrangement by swapping two guests between different tables.\n",
    "\n",
    "It's important to note that swapping two guests within the same table would not create any new configuration - it would simply result in the same solution as before. Since we want to introduce meaningful changes, the swap mutation ensures that the two guests are always swapped between different tables. This prevents the mutation from generating an invalid or identical solution.\n",
    "\n",
    "This mutation helps the genetic algorithm explore new seating arrangements by shuffling guests across tables while respecting the overall constraints of the problem."
   ]
  },
  {
   "cell_type": "code",
   "execution_count": 25,
   "id": "cc9936db",
   "metadata": {},
   "outputs": [],
   "source": [
    "def swap_mutation(solution, mut_prob):\n",
    "    if random.random() >= mut_prob:\n",
    "        return solution  # No mutation; return original\n",
    "\n",
    "    # Create a deep copy of the solution\n",
    "    new_solution = deepcopy(solution)\n",
    "\n",
    "    tables = new_solution.repr\n",
    "    if len(tables) < 2:\n",
    "        return new_solution\n",
    "\n",
    "    # Pick two random tables\n",
    "    t1, t2 = random.sample(range(len(tables)), 2)\n",
    "    if not tables[t1] or not tables[t2]:\n",
    "        return new_solution\n",
    "\n",
    "    # Swap one person from each\n",
    "    i1 = random.randint(0, len(tables[t1]) - 1)\n",
    "    i2 = random.randint(0, len(tables[t2]) - 1)\n",
    "    tables[t1][i1], tables[t2][i2] = tables[t2][i2], tables[t1][i1]\n",
    "\n",
    "    return new_solution"
   ]
  },
  {
   "cell_type": "code",
   "execution_count": 26,
   "id": "5c9985ac",
   "metadata": {},
   "outputs": [
    {
     "name": "stdout",
     "output_type": "stream",
     "text": [
      "Original solution: [[30, 60, 28, 43, 20, 11, 36, 39], [12, 44, 24, 4, 17, 47, 1, 58], [5, 26, 56, 16, 46, 52, 23, 21], [10, 38, 9, 15, 48, 53, 32, 6], [37, 55, 27, 62, 3, 31, 57, 14], [0, 51, 8, 19, 45, 59, 13, 34], [18, 2, 41, 49, 22, 25, 54, 63], [33, 40, 50, 61, 42, 35, 7, 29]]\n",
      "Mutated solution: [[30, 60, 28, 43, 20, 11, 36, 39], [12, 44, 24, 4, 17, 47, 1, 58], [5, 26, 56, 16, 46, 52, 23, 21], [10, 38, 9, 15, 48, 53, 32, 6], [37, 55, 27, 62, 3, 31, 57, 14], [0, 51, 8, 19, 45, 59, 42, 34], [18, 2, 41, 49, 22, 25, 54, 63], [33, 40, 50, 61, 13, 35, 7, 29]]\n"
     ]
    }
   ],
   "source": [
    "solution = WSSolution()\n",
    "\n",
    "mutated_solution = swap_mutation(solution, 1) # Meti a probabilidade de mutação = 1 para garantir que a mutação acontece e ver se funciona\n",
    "print('Original solution:', solution)\n",
    "print('Mutated solution:', mutated_solution)"
   ]
  },
  {
   "cell_type": "markdown",
   "id": "7fcabf85",
   "metadata": {},
   "source": [
    "#### 5.2. Inversion Mutation\n",
    "\n",
    "The inversion mutation operator introduces variation by selecting a random segment of the seating plan and reversing the order of guests within that segment.\n",
    "\n",
    "Since the seating arrangement is represented as a list of tables, the entire structure is first flattened into a single list containing all guests. The inversion is then performed on a random sublist, effectively inverting a continuous sequence of guests. After the inversion, the list is reshaped back into the original table format.\n",
    "\n",
    "This mutation allows the algorithm to explore new configurations by reordering guests while preserving the structure of the solution. To ensure validity, a repair function is applied after mutation to guarantee that all guests remain uniquely assigned with no duplicates or omissions."
   ]
  },
  {
   "cell_type": "code",
   "execution_count": 27,
   "id": "bf2a045d",
   "metadata": {},
   "outputs": [],
   "source": [
    "def inversion_mutation_seating(individual: WSSolution, mut_prob):\n",
    "    # Access the seating arrangement (8 tables with guests)\n",
    "    tables = individual.repr\n",
    "\n",
    "    rows = len(tables)\n",
    "    cols = len(tables[0])\n",
    "    \n",
    "    # Flatten the seating arrangement into a single list of guests\n",
    "    flat = [guest for table in tables for guest in table]\n",
    "\n",
    "    # Apply inversion mutation with the given probability\n",
    "    if random.random() < mut_prob:\n",
    "        # Select two random indices for the inversion\n",
    "        start_row, end_row = sorted(random.sample(range(rows), 2))\n",
    "        start_col, end_col = random.sample(range(cols), 2)\n",
    "        start = start_row * cols + start_col\n",
    "        end = end_row * cols + end_col\n",
    "        # Reverse the segment between the two indices\n",
    "        flat[start:end + 1] = reversed(flat[start:end + 1])\n",
    "\n",
    "    # Reshape the flat list back into 8 tables of 8 guests each\n",
    "    new_tables = [flat[i:i + individual.table_capacity] for i in range(0, len(flat), individual.table_capacity)]\n",
    "\n",
    "    # Return a new WSSolution with the mutated seating arrangement\n",
    "    return WSSolution(repr=new_tables, relationship_matrix=individual.relationship_matrix, nr_of_tables=individual.nr_of_tables)"
   ]
  },
  {
   "cell_type": "code",
   "execution_count": 28,
   "id": "0f9cdfc1",
   "metadata": {},
   "outputs": [
    {
     "name": "stdout",
     "output_type": "stream",
     "text": [
      "Original solution: [[28, 39, 18, 34, 17, 12, 16, 43], [55, 31, 3, 57, 44, 8, 63, 6], [47, 52, 13, 42, 33, 32, 48, 56], [60, 4, 24, 29, 14, 62, 7, 40], [1, 58, 9, 11, 45, 23, 51, 37], [20, 15, 2, 46, 53, 27, 21, 10], [41, 49, 59, 50, 35, 54, 25, 61], [36, 30, 5, 0, 19, 38, 22, 26]]\n",
      "Mutated solution: [[28, 39, 18, 34, 17, 12, 16, 43], [55, 31, 3, 48, 32, 33, 42, 13], [52, 47, 6, 63, 8, 44, 57, 56], [60, 4, 24, 29, 14, 62, 7, 40], [1, 58, 9, 11, 45, 23, 51, 37], [20, 15, 2, 46, 53, 27, 21, 10], [41, 49, 59, 50, 35, 54, 25, 61], [36, 30, 5, 0, 19, 38, 22, 26]]\n"
     ]
    }
   ],
   "source": [
    "solution = WSSolution()\n",
    "\n",
    "mutated_solution = inversion_mutation_seating(solution, 1) # Meti a probabilidade de mutação = 1 para garantir que a mutação acontece e ver se funciona\n",
    "print('Original solution:', solution)\n",
    "print('Mutated solution:', mutated_solution)"
   ]
  },
  {
   "cell_type": "markdown",
   "id": "d32b3814",
   "metadata": {},
   "source": [
    "#### 5.3. Scramble Mutation"
   ]
  },
  {
   "cell_type": "markdown",
   "id": "025e71cd-2324-4896-8a35-43745d1a15e5",
   "metadata": {},
   "source": [
    "The scramble mutation operator introduces variation by selecting a random subset of guests in the seating plan and scrambling their order within the selected segment. Unlike the inversion mutation, where the order is reversed, the scramble mutation randomizes the order of guests in a selected sublist.\n",
    "\n",
    "The process begins by flattening the seating arrangement, which is represented as a list of tables, into a single list of guests. Then, a random segment of guests is selected, and the order of the guests within that segment is scrambled. After the scrambling is performed, the list is reshaped back into the original table structure.\n",
    "\n",
    "This mutation operator allows the algorithm to explore different configurations by rearranging guests within a specified segment of the seating arrangement, offering a broader search of potential solutions. It maintains the structure of the solution by preserving the overall number of guests per table while allowing the order of guests to vary.\n",
    "\n",
    "To ensure validity and correctness of the solution, a repair function is applied after the mutation to guarantee that all guests remain uniquely assigned, with no duplicates or omissions."
   ]
  },
  {
   "cell_type": "code",
   "execution_count": 29,
   "id": "6f72fa74-2cbe-4864-aea2-24606d03b01c",
   "metadata": {},
   "outputs": [],
   "source": [
    "def scramble_mutation(solution, mut_prob):\n",
    "    if random.random() >= mut_prob:\n",
    "        return solution  # No mutation; return original\n",
    "\n",
    "    # Create a deep copy of the solution\n",
    "    new_solution = deepcopy(solution)\n",
    "\n",
    "    tables = new_solution.repr\n",
    "    rows = len(tables)\n",
    "    cols = len(tables[0])\n",
    "\n",
    "    if rows < 2:\n",
    "        return new_solution\n",
    "\n",
    "    selected_cols = [random.randint(0, cols-1) for _ in range(rows)]\n",
    "    selected_positions = [(row, selected_cols[row]) for row in range(rows)]\n",
    "\n",
    "    selected_values = []\n",
    "    for row, col in selected_positions: \n",
    "        if not tables[row][col]:\n",
    "            return new_solution\n",
    "        else: \n",
    "            selected_values.append(tables[row][col])\n",
    "    \n",
    "    def deranged_shuffle(lst):\n",
    "        while True:\n",
    "            shuffled = lst[:] \n",
    "            random.shuffle(shuffled)\n",
    "            if all(a != b for a, b in zip(lst, shuffled)):\n",
    "                return shuffled\n",
    "    \n",
    "    selected_values = deranged_shuffle(selected_values)\n",
    "\n",
    "    for (row, col), value in zip(selected_positions, selected_values):\n",
    "        tables[row][col] = value\n",
    "\n",
    "    return new_solution"
   ]
  },
  {
   "cell_type": "code",
   "execution_count": 30,
   "id": "7f9b764e-e8f5-4eac-8fe0-02cbf3dad197",
   "metadata": {},
   "outputs": [
    {
     "name": "stdout",
     "output_type": "stream",
     "text": [
      "Original solution: [[54, 53, 49, 11, 28, 59, 5, 4], [2, 26, 19, 22, 39, 40, 63, 51], [20, 27, 8, 32, 24, 48, 42, 6], [7, 33, 61, 31, 15, 34, 9, 14], [23, 1, 50, 62, 37, 13, 16, 38], [45, 58, 17, 18, 30, 10, 25, 43], [56, 12, 47, 0, 35, 46, 3, 36], [52, 41, 29, 55, 57, 21, 44, 60]]\n",
      "Mutated solution: [[54, 53, 49, 11, 28, 59, 5, 4], [2, 26, 19, 22, 39, 40, 63, 51], [20, 27, 8, 32, 24, 48, 42, 6], [7, 33, 61, 31, 15, 34, 9, 14], [23, 1, 50, 62, 37, 13, 16, 38], [45, 58, 17, 18, 30, 10, 25, 43], [56, 12, 47, 0, 35, 46, 3, 36], [52, 41, 29, 55, 57, 21, 44, 60]]\n"
     ]
    }
   ],
   "source": [
    "solution = WSSolution()\n",
    "\n",
    "mutated_solution = scramble_mutation(solution, 1) # Meti a probabilidade de mutação = 1 para garantir que a mutação acontece e ver se funciona\n",
    "print('Original solution:', solution)\n",
    "print('Mutated solution:', mutated_solution)"
   ]
  },
  {
   "cell_type": "markdown",
   "id": "605b1128-de45-4648-aa48-7b056bf7b159",
   "metadata": {},
   "source": [
    "### <span style=\"color:#96d9f0;\">6. Random Trials</span>"
   ]
  },
  {
   "cell_type": "code",
   "execution_count": 31,
   "id": "edcef506-b98a-4dd4-9a8b-b9c2eafbd264",
   "metadata": {},
   "outputs": [
    {
     "ename": "KeyboardInterrupt",
     "evalue": "",
     "output_type": "error",
     "traceback": [
      "\u001b[1;31m---------------------------------------------------------------------------\u001b[0m",
      "\u001b[1;31mKeyboardInterrupt\u001b[0m                         Traceback (most recent call last)",
      "Cell \u001b[1;32mIn[31], line 9\u001b[0m\n\u001b[0;32m      7\u001b[0m \u001b[38;5;28;01mfor\u001b[39;00m j \u001b[38;5;129;01min\u001b[39;00m \u001b[38;5;28mrange\u001b[39m(\u001b[38;5;241m100000\u001b[39m):\n\u001b[0;32m      8\u001b[0m     solution \u001b[38;5;241m=\u001b[39m WSSolution()\n\u001b[1;32m----> 9\u001b[0m     res\u001b[38;5;241m=\u001b[39m\u001b[43msolution\u001b[49m\u001b[38;5;241;43m.\u001b[39;49m\u001b[43mfitness\u001b[49m\u001b[43m(\u001b[49m\u001b[43m)\u001b[49m\n\u001b[0;32m     10\u001b[0m     scores\u001b[38;5;241m.\u001b[39mappend(res)\n\u001b[0;32m     11\u001b[0m avg_score \u001b[38;5;241m=\u001b[39m \u001b[38;5;28msum\u001b[39m(scores)\u001b[38;5;241m/\u001b[39m\u001b[38;5;241m100000\u001b[39m\n",
      "Cell \u001b[1;32mIn[5], line 28\u001b[0m, in \u001b[0;36mWSSolution.fitness\u001b[1;34m(self, verbose)\u001b[0m\n\u001b[0;32m     25\u001b[0m i \u001b[38;5;241m=\u001b[39m \u001b[38;5;241m1\u001b[39m\n\u001b[0;32m     26\u001b[0m \u001b[38;5;28;01mfor\u001b[39;00m table \u001b[38;5;129;01min\u001b[39;00m \u001b[38;5;28mself\u001b[39m\u001b[38;5;241m.\u001b[39mrepr:\n\u001b[0;32m     27\u001b[0m     \u001b[38;5;66;03m# Sum relationship scores for all unique guest pairs at the table\u001b[39;00m\n\u001b[1;32m---> 28\u001b[0m     table_happiness \u001b[38;5;241m=\u001b[39m \u001b[38;5;28;43msum\u001b[39;49m\u001b[43m(\u001b[49m\u001b[38;5;28;43mself\u001b[39;49m\u001b[38;5;241;43m.\u001b[39;49m\u001b[43mrelationship_matrix\u001b[49m\u001b[43m[\u001b[49m\u001b[43ma\u001b[49m\u001b[43m,\u001b[49m\u001b[43m \u001b[49m\u001b[43mb\u001b[49m\u001b[43m]\u001b[49m\u001b[43m \u001b[49m\u001b[38;5;28;43;01mfor\u001b[39;49;00m\u001b[43m \u001b[49m\u001b[43ma\u001b[49m\u001b[43m,\u001b[49m\u001b[43m \u001b[49m\u001b[43mb\u001b[49m\u001b[43m \u001b[49m\u001b[38;5;129;43;01min\u001b[39;49;00m\u001b[43m \u001b[49m\u001b[43mcombinations\u001b[49m\u001b[43m(\u001b[49m\u001b[43mtable\u001b[49m\u001b[43m,\u001b[49m\u001b[43m \u001b[49m\u001b[38;5;241;43m2\u001b[39;49m\u001b[43m)\u001b[49m\u001b[43m)\u001b[49m\n\u001b[0;32m     29\u001b[0m     total_happiness \u001b[38;5;241m+\u001b[39m\u001b[38;5;241m=\u001b[39m table_happiness\n\u001b[0;32m     30\u001b[0m     \u001b[38;5;28;01mif\u001b[39;00m verbose:\n",
      "Cell \u001b[1;32mIn[5], line 28\u001b[0m, in \u001b[0;36m<genexpr>\u001b[1;34m(.0)\u001b[0m\n\u001b[0;32m     25\u001b[0m i \u001b[38;5;241m=\u001b[39m \u001b[38;5;241m1\u001b[39m\n\u001b[0;32m     26\u001b[0m \u001b[38;5;28;01mfor\u001b[39;00m table \u001b[38;5;129;01min\u001b[39;00m \u001b[38;5;28mself\u001b[39m\u001b[38;5;241m.\u001b[39mrepr:\n\u001b[0;32m     27\u001b[0m     \u001b[38;5;66;03m# Sum relationship scores for all unique guest pairs at the table\u001b[39;00m\n\u001b[1;32m---> 28\u001b[0m     table_happiness \u001b[38;5;241m=\u001b[39m \u001b[38;5;28msum\u001b[39m(\u001b[38;5;28mself\u001b[39m\u001b[38;5;241m.\u001b[39mrelationship_matrix[a, b] \u001b[38;5;28;01mfor\u001b[39;00m a, b \u001b[38;5;129;01min\u001b[39;00m combinations(table, \u001b[38;5;241m2\u001b[39m))\n\u001b[0;32m     29\u001b[0m     total_happiness \u001b[38;5;241m+\u001b[39m\u001b[38;5;241m=\u001b[39m table_happiness\n\u001b[0;32m     30\u001b[0m     \u001b[38;5;28;01mif\u001b[39;00m verbose:\n",
      "\u001b[1;31mKeyboardInterrupt\u001b[0m: "
     ]
    }
   ],
   "source": [
    "import time\n",
    "\n",
    "start = time.time()\n",
    "for i in range(10):\n",
    "    res = 0\n",
    "    scores = []\n",
    "    for j in range(100000):\n",
    "        solution = WSSolution()\n",
    "        res=solution.fitness()\n",
    "        scores.append(res)\n",
    "    avg_score = sum(scores)/100000\n",
    "    best_score = max(scores)\n",
    "    print(f\"Result {i+1}: Average Fitness: {avg_score} and Best Fitness Found {best_score}\")\n",
    "\n",
    "end = time.time()\n",
    "\n",
    "print(f\"Time elapsed: {int((end- start)//60)} minutes and {round((end-start)%60)} seconds\")"
   ]
  },
  {
   "cell_type": "markdown",
   "id": "3cddc20f-bbfa-4733-9890-f6dcf8cd5f7a",
   "metadata": {},
   "source": [
    "If 1000000 solutions took around 2 minutes, then the total seating arrangements (assuming a much simpler scenario where all random solutions displayed never repeat) would be:"
   ]
  },
  {
   "cell_type": "code",
   "execution_count": 4,
   "id": "d30f9bca-3bc5-4b0c-bf30-9eacd2ec7d3c",
   "metadata": {},
   "outputs": [
    {
     "name": "stdout",
     "output_type": "stream",
     "text": [
      " There are 4.505387879868752e+47 different seating arrangements and it would take around 1.7143789497217472e+36 years for a computer to compare all the solutions and find the best.\n"
     ]
    }
   ],
   "source": [
    "import math\n",
    "\n",
    "total_combinations = (math.comb(64,8)*math.comb(56,8)*math.comb(48, 8)*math.comb(40, 8)*math.comb(32, 8)*math.comb(24, 8)*math.comb(16,8)) / math.factorial(8)\n",
    "minutes_taken = total_combinations * 2 / 1000000\n",
    "years_taken = minutes_taken/(60*24*365) \n",
    "\n",
    "\n",
    "print(f\" There are {total_combinations} different seating arrangements and it would take around {years_taken} years for a computer to compare all the solutions and find the best.\")"
   ]
  },
  {
   "cell_type": "markdown",
   "id": "c861f0a6",
   "metadata": {},
   "source": [
    "---\n",
    "\n",
    "### <span style=\"color:#96d9f0;\">7. Genetic Algorithm</span>"
   ]
  },
  {
   "cell_type": "code",
   "execution_count": 31,
   "id": "4ea4d55a",
   "metadata": {},
   "outputs": [],
   "source": [
    "def genetic_algorithm(\n",
    "    initial_population: list[Solution],\n",
    "    max_gen: int,\n",
    "    selection_algorithm: Callable,\n",
    "    crossover_operator: Callable,\n",
    "    mutation_operator: Callable,\n",
    "    maximization: bool = False,\n",
    "    xo_prob: float = 0.9,\n",
    "    mut_prob: float = 0.2,\n",
    "    elitism: bool = True,\n",
    "    verbose: bool = False,\n",
    "):\n",
    "    \"\"\"\n",
    "    Executes a genetic algorithm to optimize a population of solutions.\n",
    "\n",
    "    Args:\n",
    "        initial_population (list[Solution]): The starting population of solutions.\n",
    "        max_gen (int): The maximum number of generations to evolve.\n",
    "        selection_algorithm (Callable): Function used for selecting individuals.\n",
    "        crossover_operator (Callable): Function to perform crossover between two individuals.\n",
    "        mutation_operator (Callable): Function to mutate an individual.\n",
    "        maximization (bool, optional): If True, maximizes the fitness function; otherwise, minimizes. Defaults to False.\n",
    "        xo_prob (float, optional): Probability of applying crossover. Defaults to 0.9.\n",
    "        mut_prob (float, optional): Probability of applying mutation. Defaults to 0.2.\n",
    "        elitism (bool, optional): If True, carries the best individual to the next generation. Defaults to True.\n",
    "        verbose (bool, optional): If True, prints detailed logs for debugging. Defaults to False.\n",
    "\n",
    "    Returns:\n",
    "        Solution: The best solution found after evolving for max_gen generations.\n",
    "    \"\"\"\n",
    "    population = initial_population\n",
    "\n",
    "    for gen in range(1, max_gen + 1):\n",
    "        if verbose:\n",
    "            print(f'-------------- Generation: {gen} --------------')\n",
    "\n",
    "        new_population = []\n",
    "\n",
    "        if elitism:\n",
    "            new_population.append(deepcopy(get_best_ind(population, maximization)))\n",
    "\n",
    "        while len(new_population) < len(population):\n",
    "            parent1 = selection_algorithm(population, maximization)\n",
    "            parent2 = selection_algorithm(population, maximization)\n",
    "\n",
    "            if verbose:\n",
    "                print(f'Selected parents:\\n{parent1}\\n{parent2}')\n",
    "\n",
    "            if random.random() < xo_prob:\n",
    "                offspring1, offspring2 = crossover_operator(parent1, parent2)\n",
    "                if verbose:\n",
    "                    print('Crossover applied.')\n",
    "            else:\n",
    "                offspring1, offspring2 = deepcopy(parent1), deepcopy(parent2)\n",
    "                if verbose:\n",
    "                    print('Replication applied.')\n",
    "\n",
    "            mutated1 = mutation_operator(offspring1, mut_prob)\n",
    "            new_population.append(mutated1)\n",
    "            if verbose:\n",
    "                print(f'Mutated offspring 1: {mutated1}')\n",
    "\n",
    "            if len(new_population) < len(population):\n",
    "                mutated2 = mutation_operator(offspring2, mut_prob)\n",
    "                new_population.append(mutated2)\n",
    "                if verbose:\n",
    "                    print(f'Mutated offspring 2: {mutated2}')\n",
    "\n",
    "        population = new_population\n",
    "\n",
    "        if verbose:\n",
    "            best = get_best_ind(population, maximization)\n",
    "            print(f'Best individual fitness this generation: {best.fitness()}')\n",
    "\n",
    "    return get_best_ind(population, maximization)"
   ]
  },
  {
   "cell_type": "code",
   "execution_count": 32,
   "id": "c934afd7",
   "metadata": {},
   "outputs": [],
   "source": [
    "# Number of individuals in the initial population\n",
    "population_size = 50\n",
    "\n",
    "# Generate initial population of random WSSolutions\n",
    "population = [WSSolution() for _ in range(population_size)]"
   ]
  },
  {
   "cell_type": "code",
   "execution_count": 34,
   "id": "17383954",
   "metadata": {},
   "outputs": [],
   "source": [
    "best = genetic_algorithm(\n",
    "    initial_population=population,\n",
    "    max_gen=2000,\n",
    "    selection_algorithm=fitness_proportionate_selection,\n",
    "    crossover_operator=table_level_crossover,\n",
    "    mutation_operator=swap_mutation,\n",
    "    maximization=True,\n",
    "    xo_prob=0.9,\n",
    "    mut_prob=0.2,\n",
    "    elitism=True,\n",
    "    verbose=True\n",
    ")\n",
    "\n",
    "print(\"Best solution found:\")\n",
    "print(best)\n",
    "print(\"Fitness:\", best.fitness())"
   ]
  },
  {
   "cell_type": "code",
   "execution_count": 35,
   "id": "5a5d0ae8",
   "metadata": {},
   "outputs": [],
   "source": [
    "isa_try = genetic_algorithm(\n",
    "    initial_population=population,\n",
    "    max_gen=2000,\n",
    "    selection_algorithm=ranking_selection,\n",
    "    crossover_operator=partially_matched_crossover,\n",
    "    mutation_operator=swap_mutation,\n",
    "    maximization=True,\n",
    "    xo_prob=0.9,\n",
    "    mut_prob=0.2,\n",
    "    elitism=True,\n",
    "    verbose=True\n",
    ")\n",
    "\n",
    "print(\"Best solution found:\")\n",
    "print(isa_try)\n",
    "print(\"Fitness:\", isa_try.fitness())"
   ]
  },
  {
   "cell_type": "code",
   "execution_count": 36,
   "id": "cca23368",
   "metadata": {},
   "outputs": [],
   "source": [
    "#Number of individuals in the initial population\n",
    "population_size2 = 3\n",
    "\n",
    "# Generate initial population of random WSSolutions\n",
    "population2 = [WSSolution() for _ in range(population_size2)]\n",
    "\n",
    "best2 = genetic_algorithm(\n",
    "    initial_population=population2,\n",
    "    max_gen=5,\n",
    "    selection_algorithm=tournament_selection,\n",
    "    crossover_operator=table_level_crossover,\n",
    "    mutation_operator=inversion_mutation_seating,\n",
    "    maximization=True,\n",
    "    xo_prob=0.9,\n",
    "    mut_prob=0.2,\n",
    "    elitism=True,\n",
    "    verbose=True\n",
    ")\n",
    "\n",
    "print(\"Best solution found:\")\n",
    "print(best2)\n",
    "print(\"Fitness:\", best2.fitness())"
   ]
  },
  {
   "cell_type": "code",
   "execution_count": 37,
   "id": "7282a42c",
   "metadata": {},
   "outputs": [],
   "source": [
    "# Define initial population\n",
    "population = [WSSolution(nr_of_tables=8) for _ in range(10)]\n",
    "\n",
    "# Run the genetic algorithm with PMX for just 2 generations\n",
    "pmc_test = genetic_algorithm(\n",
    "    initial_population=population,\n",
    "    max_gen=2,\n",
    "    selection_algorithm=fitness_proportionate_selection,\n",
    "    crossover_operator=partially_matched_crossover,\n",
    "    mutation_operator=swap_mutation,\n",
    "    maximization=True,\n",
    "    xo_prob=0.9,\n",
    "    mut_prob=0.2,\n",
    "    elitism=True,\n",
    "    verbose=True\n",
    ")\n",
    "\n",
    "# Output best result\n",
    "print(\"\\nBest solution after 2 generations:\")\n",
    "print(pmc_test.repr)\n",
    "print(\"Fitness:\", pmc_test.fitness())"
   ]
  },
  {
   "cell_type": "code",
   "execution_count": 62,
   "id": "6291fe9f",
   "metadata": {},
   "outputs": [
    {
     "name": "stdout",
     "output_type": "stream",
     "text": [
      "Offspring 2 has no repeated guests: True\n"
     ]
    }
   ],
   "source": [
    "print(\"Offspring 2 has no repeated guests:\", check_no_repeated_guests(pmc_test.repr))"
   ]
  },
  {
   "cell_type": "code",
   "execution_count": 38,
   "id": "e5ebb9dd",
   "metadata": {},
   "outputs": [],
   "source": [
    "# Define initial population\n",
    "population = [WSSolution(nr_of_tables=8) for _ in range(10)]\n",
    "\n",
    "# Run the genetic algorithm with PMX for just 2 generations\n",
    "ranking_test = genetic_algorithm(\n",
    "    initial_population=population,\n",
    "    max_gen=2,\n",
    "    selection_algorithm=ranking_selection,\n",
    "    crossover_operator=partially_matched_crossover,\n",
    "    mutation_operator=swap_mutation,\n",
    "    maximization=True,\n",
    "    xo_prob=0.9,\n",
    "    mut_prob=0.2,\n",
    "    elitism=True,\n",
    "    verbose=True\n",
    ")\n",
    "\n",
    "# Output best result\n",
    "print(\"\\nBest solution after 2 generations:\")\n",
    "print(ranking_test.repr)\n",
    "print(\"Fitness:\", ranking_test.fitness())"
   ]
  },
  {
   "cell_type": "code",
   "execution_count": 61,
   "id": "bd9b6b27",
   "metadata": {},
   "outputs": [
    {
     "name": "stdout",
     "output_type": "stream",
     "text": [
      "Offspring 2 has no repeated guests: True\n"
     ]
    }
   ],
   "source": [
    "print(\"Offspring 2 has no repeated guests:\", check_no_repeated_guests(ranking_test.repr))"
   ]
  },
  {
   "cell_type": "markdown",
   "id": "c768a449",
   "metadata": {},
   "source": [
    "---\n",
    "\n",
    "### <span style=\"color:#96d9f0;\">8. Hill Climbing / Simulated Annealing</span>"
   ]
  },
  {
   "cell_type": "code",
   "execution_count": 32,
   "id": "3700bea8",
   "metadata": {},
   "outputs": [],
   "source": [
    "class WSSearchableSolution(WSSolution):\n",
    "    def get_neighbors(self):\n",
    "        \"\"\"Generates all valid neighbors by swapping two guests between tables.\"\"\"\n",
    "        neighbors = []\n",
    "\n",
    "        # Loop through all pairs of guests at different tables\n",
    "        for i in range(len(self.repr)):\n",
    "            for j in range(len(self.repr[i])):\n",
    "                for k in range(len(self.repr)):\n",
    "                    for l in range(len(self.repr[k])):\n",
    "                        if (i, j) != (k, l):  # Skip swapping guests at the same position\n",
    "                            new_seating = deepcopy(self.repr)  # Use `repr` which holds the seating\n",
    "                            new_seating[i][j], new_seating[k][l] = new_seating[k][l], new_seating[i][j]\n",
    "\n",
    "                            # Create a new WSSearchableSolution with the modified seating arrangement\n",
    "                            neighbor = WSSearchableSolution(\n",
    "                                repr=new_seating,\n",
    "                                relationship_matrix=self.relationship_matrix,  # Use relationship_matrix\n",
    "                                nr_of_tables=self.nr_of_tables\n",
    "                            )\n",
    "                            neighbors.append(neighbor)\n",
    "\n",
    "        return neighbors\n",
    "\n",
    "    def get_random_neighbor(self):\n",
    "        \"\"\"Generates a random valid neighbor by swapping two guests between different tables.\"\"\"\n",
    "        new_seating = deepcopy(self.repr)  # Use `repr` for seating arrangement\n",
    "\n",
    "        # Randomly pick two different tables\n",
    "        table_indices = list(range(len(new_seating)))\n",
    "        t1, t2 = random.sample(table_indices, 2)\n",
    "\n",
    "        # Make sure the tables are not empty\n",
    "        if not new_seating[t1] or not new_seating[t2]:\n",
    "            return deepcopy(self)\n",
    "\n",
    "        # Randomly pick a guest from each table\n",
    "        g1 = random.randrange(len(new_seating[t1]))\n",
    "        g2 = random.randrange(len(new_seating[t2]))\n",
    "\n",
    "        # Swap the guests\n",
    "        new_seating[t1][g1], new_seating[t2][g2] = new_seating[t2][g2], new_seating[t1][g1]\n",
    "\n",
    "        return WSSearchableSolution(\n",
    "            repr=new_seating,\n",
    "            relationship_matrix=self.relationship_matrix,  # Use relationship_matrix\n",
    "            nr_of_tables=self.nr_of_tables\n",
    "        )"
   ]
  },
  {
   "cell_type": "code",
   "execution_count": 33,
   "id": "bafb807e",
   "metadata": {},
   "outputs": [],
   "source": [
    "# Meter isto nos imports\n",
    "from library.algorithms.simulated_annealing import simulated_annealing\n",
    "\n",
    "def hill_climbing(initial_solution: Solution, maximization=False, max_iter=99999, verbose=False):\n",
    "    \"\"\"\n",
    "    Implementation of the Hill Climbing optimization algorithm.  \n",
    "\n",
    "    The algorithm iteratively explores the neighbors of the current solution, moving to a neighbor if it improves the objective function.  \n",
    "    The process continues until no improvement is found or the maximum number of iterations is reached.  \n",
    "\n",
    "    Args:\n",
    "        initial_solution (Solution): The starting solution, which must implement the `fitness()` and `get_neighbors()` methods.\n",
    "        maximization (bool, optional): If True, the algorithm maximizes the fitness function; otherwise, it minimizes it. Defaults to False.\n",
    "        max_iter (int, optional): The maximum number of iterations allowed before stopping. Defaults to 99,999.\n",
    "        verbose (bool, optional): If True, prints progress details during execution. Defaults to False.\n",
    "\n",
    "    Returns:\n",
    "        Solution: The best solution found during the search.\n",
    "\n",
    "    Notes:\n",
    "        - The initial_solution must implement a `fitness()` and `get_neighbors()` method.\n",
    "        - The algorithm does not guarantee a global optimum; it only finds a local optimum.\n",
    "    \"\"\"\n",
    "\n",
    "    # Run some validations to make sure initial solution is well implemented\n",
    "    run_validations(initial_solution)\n",
    "\n",
    "    current = initial_solution\n",
    "    improved = True\n",
    "    iter = 1\n",
    "\n",
    "    while improved:\n",
    "        if verbose:\n",
    "            print(f'Current solution: {current} with fitness {current.fitness()}')\n",
    "\n",
    "        improved = False\n",
    "        neighbors = current.get_neighbors() # Solution must have a get_neighbors() method\n",
    "\n",
    "        for neighbor in neighbors:\n",
    "\n",
    "            if verbose:\n",
    "                print(f'Neighbor: {neighbor} with fitness {neighbor.fitness()}')\n",
    "\n",
    "            if maximization and (neighbor.fitness() > current.fitness()):\n",
    "                current = deepcopy(neighbor)\n",
    "                improved = True\n",
    "            elif not maximization and (neighbor.fitness() <= current.fitness()):\n",
    "                current = deepcopy(neighbor)\n",
    "                improved = True\n",
    "        \n",
    "        iter += 1\n",
    "        if iter == max_iter:\n",
    "            break\n",
    "    \n",
    "    return current\n",
    "\n",
    "def run_validations(initial_solution):\n",
    "    if not isinstance(initial_solution, Solution):\n",
    "        raise TypeError(\"Initial solution must be an object of a class that inherits from Solution\")\n",
    "    if not hasattr(initial_solution, \"get_neighbors\"):\n",
    "        print(f\"The method 'get_neighbors' must be implemented in the initial soltuion.\")\n",
    "    neighbors = initial_solution.get_neighbors()\n",
    "    if not isinstance(neighbors, list):\n",
    "        raise TypeError(\"get_neighbors method must return a list\")\n",
    "    if not all([isinstance(neighbor, type(initial_solution)) for neighbor in neighbors]):\n",
    "        raise TypeError(f\"Neighbors must be of the same type as solution object: {type(initial_solution)}\")"
   ]
  },
  {
   "cell_type": "code",
   "execution_count": 34,
   "id": "a35a06bb",
   "metadata": {},
   "outputs": [
    {
     "name": "stdout",
     "output_type": "stream",
     "text": [
      "Initial Seating Arrangement: [[29, 8, 27, 51, 6, 46, 19, 31], [10, 28, 53, 38, 35, 15, 50, 36], [57, 2, 25, 40, 32, 9, 14, 12], [17, 43, 13, 48, 41, 52, 24, 26], [39, 61, 21, 7, 62, 1, 22, 34], [4, 55, 16, 33, 56, 63, 54, 49], [45, 44, 58, 5, 30, 11, 60, 0], [59, 37, 18, 47, 20, 3, 42, 23]]\n",
      "Initial Fitness: 11900.0\n",
      "Generated 4032 neighbors.\n",
      "Random Neighbor Seating: [[29, 8, 27, 40, 6, 46, 19, 31], [10, 28, 53, 38, 35, 15, 50, 36], [57, 2, 25, 51, 32, 9, 14, 12], [17, 43, 13, 48, 41, 52, 24, 26], [39, 61, 21, 7, 62, 1, 22, 34], [4, 55, 16, 33, 56, 63, 54, 49], [45, 44, 58, 5, 30, 11, 60, 0], [59, 37, 18, 47, 20, 3, 42, 23]]\n",
      "Random Neighbor Fitness: 10000.0\n"
     ]
    }
   ],
   "source": [
    "# Create a random seating arrangement using WSSolution\n",
    "initial_solution = WSSolution(relationship_matrix=relationship_matrix, nr_of_tables=8)\n",
    "seating = initial_solution.random_initial_representation()\n",
    "\n",
    "# Print initial seating and fitness\n",
    "print(\"Initial Seating Arrangement:\", seating)\n",
    "print(\"Initial Fitness:\", initial_solution.fitness())\n",
    "\n",
    "# Create a searchable solution\n",
    "searchable_solution = WSSearchableSolution(\n",
    "    repr=seating,\n",
    "    relationship_matrix=relationship_matrix,\n",
    "    nr_of_tables=8\n",
    ")\n",
    "\n",
    "# Generate neighbors and print the number of neighbors\n",
    "neighbors = searchable_solution.get_neighbors()\n",
    "print(f\"Generated {len(neighbors)} neighbors.\")\n",
    "\n",
    "# Test random neighbor generation\n",
    "random_neighbor = searchable_solution.get_random_neighbor()\n",
    "print(\"Random Neighbor Seating:\", random_neighbor.repr)\n",
    "print(\"Random Neighbor Fitness:\", random_neighbor.fitness())"
   ]
  },
  {
   "cell_type": "code",
   "execution_count": 35,
   "id": "facc2670",
   "metadata": {},
   "outputs": [
    {
     "name": "stdout",
     "output_type": "stream",
     "text": [
      "Initial Seating: [[63, 43, 62, 48, 53, 52, 27, 16], [15, 45, 29, 49, 26, 39, 56, 57], [32, 25, 0, 17, 46, 3, 12, 38], [6, 1, 58, 54, 34, 42, 35, 14], [13, 24, 8, 44, 20, 28, 41, 51], [59, 4, 31, 9, 30, 55, 2, 18], [11, 7, 61, 47, 60, 50, 19, 37], [23, 36, 33, 21, 22, 40, 10, 5]]\n",
      "Initial Fitness: 12700.0\n"
     ]
    }
   ],
   "source": [
    "# Generate initial random seating using WSSolution\n",
    "initial_solution = WSSolution(relationship_matrix=relationship_matrix, nr_of_tables=8)\n",
    "seating = initial_solution.random_initial_representation()\n",
    "\n",
    "# Wrap the seating in a WSSearchableSolution\n",
    "searchable_solution = WSSearchableSolution(\n",
    "    repr=seating,\n",
    "    relationship_matrix=relationship_matrix,\n",
    "    nr_of_tables=8\n",
    ")\n",
    "\n",
    "# Display initial configuration\n",
    "print(\"Initial Seating:\", seating)\n",
    "print(\"Initial Fitness:\", searchable_solution.fitness())"
   ]
  },
  {
   "cell_type": "code",
   "execution_count": 40,
   "id": "df08063d",
   "metadata": {},
   "outputs": [
    {
     "name": "stdout",
     "output_type": "stream",
     "text": [
      "Running Hill Climbing...\n",
      "\n",
      "Best Hill Climbing Solution:\n",
      "Seating: [[37, 43, 59, 44, 38, 49, 27, 36], [40, 42, 41, 25, 26, 39, 56, 57], [14, 13, 0, 53, 11, 1, 12, 10], [6, 3, 7, 2, 34, 8, 35, 9], [52, 30, 45, 48, 50, 28, 29, 51], [20, 19, 31, 32, 33, 55, 54, 18], [46, 62, 61, 47, 60, 58, 21, 63], [23, 16, 24, 4, 22, 15, 17, 5]]\n",
      "Fitness: 77800.0\n"
     ]
    }
   ],
   "source": [
    "# Run Hill Climbing\n",
    "print(\"Running Hill Climbing...\")\n",
    "best_hc_solution = hill_climbing(\n",
    "    initial_solution=searchable_solution,\n",
    "    maximization=True,\n",
    "    max_iter=1,\n",
    "    verbose=False\n",
    ")\n",
    "\n",
    "print(\"\\nBest Hill Climbing Solution:\")\n",
    "print(\"Seating:\", best_hc_solution.repr)\n",
    "print(\"Fitness:\", best_hc_solution.fitness())"
   ]
  },
  {
   "cell_type": "code",
   "execution_count": 41,
   "id": "112d866c",
   "metadata": {},
   "outputs": [
    {
     "name": "stdout",
     "output_type": "stream",
     "text": [
      "Running Simulated Annealing...\n",
      "\n",
      "Best Simulated Annealing Solution:\n",
      "Seating: [[36, 50, 39, 59, 40, 42, 30, 37], [54, 38, 26, 58, 29, 28, 56, 57], [32, 14, 43, 47, 46, 31, 48, 45], [6, 12, 3, 44, 34, 33, 7, 35], [5, 19, 55, 18, 20, 62, 41, 22], [11, 8, 51, 9, 13, 10, 2, 52], [25, 27, 61, 17, 60, 21, 63, 53], [23, 24, 15, 4, 1, 0, 16, 49]]\n",
      "Fitness: 49000.0\n"
     ]
    }
   ],
   "source": [
    "# Run Simulated Annealing\n",
    "print(\"Running Simulated Annealing...\")\n",
    "best_sa_solution = simulated_annealing(\n",
    "    initial_solution=searchable_solution,\n",
    "    C=100.0,\n",
    "    L=20,\n",
    "    H=1.1,\n",
    "    maximization=True,\n",
    "    max_iter=10,\n",
    "    verbose=False\n",
    ")\n",
    "\n",
    "print(\"\\nBest Simulated Annealing Solution:\")\n",
    "print(\"Seating:\", best_sa_solution.repr)\n",
    "print(\"Fitness:\", best_sa_solution.fitness())"
   ]
  },
  {
   "cell_type": "code",
   "execution_count": null,
   "id": "cb0515cb",
   "metadata": {},
   "outputs": [],
   "source": []
  }
 ],
 "metadata": {
  "kernelspec": {
   "display_name": "Python 3",
   "language": "python",
   "name": "python3"
  },
  "language_info": {
   "codemirror_mode": {
    "name": "ipython",
    "version": 3
   },
   "file_extension": ".py",
   "mimetype": "text/x-python",
   "name": "python",
   "nbconvert_exporter": "python",
   "pygments_lexer": "ipython3",
   "version": "3.13.2"
  }
 },
 "nbformat": 4,
 "nbformat_minor": 5
}
