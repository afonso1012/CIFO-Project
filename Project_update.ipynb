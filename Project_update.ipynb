{
 "cells": [
  {
   "cell_type": "markdown",
   "id": "a87b4bb3",
   "metadata": {},
   "source": [
    "<h1 align=\"center\" style=\"color:#96d9f0;\">Computational Intelligence for\n",
    "Optimization - Project</h1>\n",
    "<h3 align=\"center\" style=\"color:#96d9f0;\">Group AW - Wedding Seating Optimization</h3>\n",
    "\n",
    "---\n",
    "\n",
    "### <span style=\"color:#96d9f0;\">Group Members</span>\n",
    "\n",
    "<table>\n",
    "  <thead style=\"color:#96d9f0;\">\n",
    "    <tr>\n",
    "      <th>Name</th>\n",
    "      <th>Email</th>\n",
    "      <th>Student ID</th>\n",
    "    </tr>\n",
    "  </thead>\n",
    "  <tbody>\n",
    "    <tr>\n",
    "      <td>Afonso Dias</td>\n",
    "      <td>20211540@novaims.unl.pt</td>\n",
    "      <td>20211540</td>\n",
    "    </tr>\n",
    "    <tr>\n",
    "      <td>Isabel Duarte</td>\n",
    "      <td>20240545@novaims.unl.pt</td>\n",
    "      <td>20240545</td>\n",
    "    </tr>\n",
    "    <tr>\n",
    "      <td>Pedro Campino</td>\n",
    "      <td>20240537@novaims.unl.pt</td>\n",
    "      <td>20240537</td>\n",
    "    </tr>\n",
    "    <tr>\n",
    "      <td>Rita Matos</td>\n",
    "      <td>20211642@novaims.unl.pt</td>\n",
    "      <td>20211642</td>\n",
    "    </tr>\n",
    "  </tbody>\n",
    "</table>"
   ]
  },
  {
   "cell_type": "code",
   "execution_count": 1,
   "id": "54630868",
   "metadata": {},
   "outputs": [],
   "source": [
    "#future improvements: test random fitnesses to set a baseline average to compare our results"
   ]
  },
  {
   "cell_type": "code",
   "execution_count": 2,
   "id": "6ea1d7ad",
   "metadata": {},
   "outputs": [],
   "source": [
    "#compare performance of different selection methods, crossovers, and mutations"
   ]
  },
  {
   "cell_type": "markdown",
   "id": "649bc570",
   "metadata": {},
   "source": [
    "---\n",
    "\n",
    "### <span style=\"color:#96d9f0;\">1. Imports</span>\n",
    "\n",
    "This section includes all the necessary library imports required for the development of the project. We also use the library provided during the practical classes, as recommended, to support the implementation. Additionally, the relationship matrix used for evaluating guest compatibility is imported here."
   ]
  },
  {
   "cell_type": "code",
   "execution_count": 1,
   "id": "9af4382a",
   "metadata": {},
   "outputs": [],
   "source": [
    "import sys\n",
    "sys.path.append('..')"
   ]
  },
  {
   "cell_type": "code",
   "execution_count": null,
   "id": "613c9a75",
   "metadata": {},
   "outputs": [],
   "source": [
    "import random\n",
    "from copy import deepcopy\n",
    "from library.solution import Solution\n",
    "import csv\n",
    "import os\n",
    "import pandas as pd\n",
    "import numpy as np\n",
    "from itertools import combinations\n",
    "from typing import Callable\n",
    "from library.algorithms.genetic_algorithms.algorithm import get_best_ind"
   ]
  },
  {
   "cell_type": "code",
   "execution_count": 3,
   "id": "21f32475",
   "metadata": {},
   "outputs": [
    {
     "data": {
      "text/html": [
       "<div>\n",
       "<style scoped>\n",
       "    .dataframe tbody tr th:only-of-type {\n",
       "        vertical-align: middle;\n",
       "    }\n",
       "\n",
       "    .dataframe tbody tr th {\n",
       "        vertical-align: top;\n",
       "    }\n",
       "\n",
       "    .dataframe thead th {\n",
       "        text-align: right;\n",
       "    }\n",
       "</style>\n",
       "<table border=\"1\" class=\"dataframe\">\n",
       "  <thead>\n",
       "    <tr style=\"text-align: right;\">\n",
       "      <th></th>\n",
       "      <th>1</th>\n",
       "      <th>2</th>\n",
       "      <th>3</th>\n",
       "      <th>4</th>\n",
       "      <th>5</th>\n",
       "      <th>6</th>\n",
       "      <th>7</th>\n",
       "      <th>8</th>\n",
       "      <th>9</th>\n",
       "      <th>10</th>\n",
       "      <th>...</th>\n",
       "      <th>55</th>\n",
       "      <th>56</th>\n",
       "      <th>57</th>\n",
       "      <th>58</th>\n",
       "      <th>59</th>\n",
       "      <th>60</th>\n",
       "      <th>61</th>\n",
       "      <th>62</th>\n",
       "      <th>63</th>\n",
       "      <th>64</th>\n",
       "    </tr>\n",
       "  </thead>\n",
       "  <tbody>\n",
       "    <tr>\n",
       "      <th>0</th>\n",
       "      <td>0</td>\n",
       "      <td>5000</td>\n",
       "      <td>0</td>\n",
       "      <td>0</td>\n",
       "      <td>700</td>\n",
       "      <td>700</td>\n",
       "      <td>0</td>\n",
       "      <td>0</td>\n",
       "      <td>0</td>\n",
       "      <td>0</td>\n",
       "      <td>...</td>\n",
       "      <td>100</td>\n",
       "      <td>100</td>\n",
       "      <td>0</td>\n",
       "      <td>0</td>\n",
       "      <td>100</td>\n",
       "      <td>100</td>\n",
       "      <td>100</td>\n",
       "      <td>0</td>\n",
       "      <td>0</td>\n",
       "      <td>0</td>\n",
       "    </tr>\n",
       "    <tr>\n",
       "      <th>1</th>\n",
       "      <td>5000</td>\n",
       "      <td>0</td>\n",
       "      <td>700</td>\n",
       "      <td>700</td>\n",
       "      <td>0</td>\n",
       "      <td>0</td>\n",
       "      <td>300</td>\n",
       "      <td>300</td>\n",
       "      <td>500</td>\n",
       "      <td>500</td>\n",
       "      <td>...</td>\n",
       "      <td>100</td>\n",
       "      <td>100</td>\n",
       "      <td>0</td>\n",
       "      <td>100</td>\n",
       "      <td>0</td>\n",
       "      <td>0</td>\n",
       "      <td>0</td>\n",
       "      <td>0</td>\n",
       "      <td>0</td>\n",
       "      <td>0</td>\n",
       "    </tr>\n",
       "    <tr>\n",
       "      <th>2</th>\n",
       "      <td>0</td>\n",
       "      <td>700</td>\n",
       "      <td>0</td>\n",
       "      <td>2000</td>\n",
       "      <td>0</td>\n",
       "      <td>0</td>\n",
       "      <td>0</td>\n",
       "      <td>0</td>\n",
       "      <td>300</td>\n",
       "      <td>300</td>\n",
       "      <td>...</td>\n",
       "      <td>0</td>\n",
       "      <td>0</td>\n",
       "      <td>0</td>\n",
       "      <td>0</td>\n",
       "      <td>0</td>\n",
       "      <td>0</td>\n",
       "      <td>0</td>\n",
       "      <td>0</td>\n",
       "      <td>0</td>\n",
       "      <td>0</td>\n",
       "    </tr>\n",
       "    <tr>\n",
       "      <th>3</th>\n",
       "      <td>0</td>\n",
       "      <td>700</td>\n",
       "      <td>2000</td>\n",
       "      <td>0</td>\n",
       "      <td>0</td>\n",
       "      <td>0</td>\n",
       "      <td>900</td>\n",
       "      <td>400</td>\n",
       "      <td>300</td>\n",
       "      <td>300</td>\n",
       "      <td>...</td>\n",
       "      <td>0</td>\n",
       "      <td>0</td>\n",
       "      <td>0</td>\n",
       "      <td>0</td>\n",
       "      <td>0</td>\n",
       "      <td>0</td>\n",
       "      <td>0</td>\n",
       "      <td>0</td>\n",
       "      <td>0</td>\n",
       "      <td>0</td>\n",
       "    </tr>\n",
       "    <tr>\n",
       "      <th>4</th>\n",
       "      <td>700</td>\n",
       "      <td>0</td>\n",
       "      <td>0</td>\n",
       "      <td>0</td>\n",
       "      <td>0</td>\n",
       "      <td>0</td>\n",
       "      <td>0</td>\n",
       "      <td>0</td>\n",
       "      <td>0</td>\n",
       "      <td>0</td>\n",
       "      <td>...</td>\n",
       "      <td>0</td>\n",
       "      <td>0</td>\n",
       "      <td>0</td>\n",
       "      <td>0</td>\n",
       "      <td>0</td>\n",
       "      <td>0</td>\n",
       "      <td>0</td>\n",
       "      <td>0</td>\n",
       "      <td>0</td>\n",
       "      <td>0</td>\n",
       "    </tr>\n",
       "    <tr>\n",
       "      <th>...</th>\n",
       "      <td>...</td>\n",
       "      <td>...</td>\n",
       "      <td>...</td>\n",
       "      <td>...</td>\n",
       "      <td>...</td>\n",
       "      <td>...</td>\n",
       "      <td>...</td>\n",
       "      <td>...</td>\n",
       "      <td>...</td>\n",
       "      <td>...</td>\n",
       "      <td>...</td>\n",
       "      <td>...</td>\n",
       "      <td>...</td>\n",
       "      <td>...</td>\n",
       "      <td>...</td>\n",
       "      <td>...</td>\n",
       "      <td>...</td>\n",
       "      <td>...</td>\n",
       "      <td>...</td>\n",
       "      <td>...</td>\n",
       "      <td>...</td>\n",
       "    </tr>\n",
       "    <tr>\n",
       "      <th>59</th>\n",
       "      <td>100</td>\n",
       "      <td>0</td>\n",
       "      <td>0</td>\n",
       "      <td>0</td>\n",
       "      <td>0</td>\n",
       "      <td>0</td>\n",
       "      <td>0</td>\n",
       "      <td>0</td>\n",
       "      <td>0</td>\n",
       "      <td>0</td>\n",
       "      <td>...</td>\n",
       "      <td>0</td>\n",
       "      <td>0</td>\n",
       "      <td>0</td>\n",
       "      <td>0</td>\n",
       "      <td>0</td>\n",
       "      <td>0</td>\n",
       "      <td>0</td>\n",
       "      <td>0</td>\n",
       "      <td>0</td>\n",
       "      <td>0</td>\n",
       "    </tr>\n",
       "    <tr>\n",
       "      <th>60</th>\n",
       "      <td>100</td>\n",
       "      <td>0</td>\n",
       "      <td>0</td>\n",
       "      <td>0</td>\n",
       "      <td>0</td>\n",
       "      <td>0</td>\n",
       "      <td>0</td>\n",
       "      <td>0</td>\n",
       "      <td>0</td>\n",
       "      <td>0</td>\n",
       "      <td>...</td>\n",
       "      <td>0</td>\n",
       "      <td>0</td>\n",
       "      <td>0</td>\n",
       "      <td>0</td>\n",
       "      <td>100</td>\n",
       "      <td>0</td>\n",
       "      <td>0</td>\n",
       "      <td>2000</td>\n",
       "      <td>700</td>\n",
       "      <td>700</td>\n",
       "    </tr>\n",
       "    <tr>\n",
       "      <th>61</th>\n",
       "      <td>0</td>\n",
       "      <td>0</td>\n",
       "      <td>0</td>\n",
       "      <td>0</td>\n",
       "      <td>0</td>\n",
       "      <td>0</td>\n",
       "      <td>0</td>\n",
       "      <td>0</td>\n",
       "      <td>0</td>\n",
       "      <td>0</td>\n",
       "      <td>...</td>\n",
       "      <td>0</td>\n",
       "      <td>0</td>\n",
       "      <td>-1000</td>\n",
       "      <td>0</td>\n",
       "      <td>100</td>\n",
       "      <td>0</td>\n",
       "      <td>2000</td>\n",
       "      <td>0</td>\n",
       "      <td>700</td>\n",
       "      <td>700</td>\n",
       "    </tr>\n",
       "    <tr>\n",
       "      <th>62</th>\n",
       "      <td>0</td>\n",
       "      <td>0</td>\n",
       "      <td>0</td>\n",
       "      <td>0</td>\n",
       "      <td>0</td>\n",
       "      <td>0</td>\n",
       "      <td>0</td>\n",
       "      <td>0</td>\n",
       "      <td>0</td>\n",
       "      <td>0</td>\n",
       "      <td>...</td>\n",
       "      <td>0</td>\n",
       "      <td>0</td>\n",
       "      <td>0</td>\n",
       "      <td>0</td>\n",
       "      <td>0</td>\n",
       "      <td>0</td>\n",
       "      <td>700</td>\n",
       "      <td>700</td>\n",
       "      <td>0</td>\n",
       "      <td>900</td>\n",
       "    </tr>\n",
       "    <tr>\n",
       "      <th>63</th>\n",
       "      <td>0</td>\n",
       "      <td>0</td>\n",
       "      <td>0</td>\n",
       "      <td>0</td>\n",
       "      <td>0</td>\n",
       "      <td>0</td>\n",
       "      <td>0</td>\n",
       "      <td>0</td>\n",
       "      <td>0</td>\n",
       "      <td>0</td>\n",
       "      <td>...</td>\n",
       "      <td>0</td>\n",
       "      <td>0</td>\n",
       "      <td>0</td>\n",
       "      <td>0</td>\n",
       "      <td>0</td>\n",
       "      <td>0</td>\n",
       "      <td>700</td>\n",
       "      <td>700</td>\n",
       "      <td>900</td>\n",
       "      <td>0</td>\n",
       "    </tr>\n",
       "  </tbody>\n",
       "</table>\n",
       "<p>64 rows × 64 columns</p>\n",
       "</div>"
      ],
      "text/plain": [
       "       1     2     3     4    5    6    7    8    9   10  ...   55   56    57  \\\n",
       "0      0  5000     0     0  700  700    0    0    0    0  ...  100  100     0   \n",
       "1   5000     0   700   700    0    0  300  300  500  500  ...  100  100     0   \n",
       "2      0   700     0  2000    0    0    0    0  300  300  ...    0    0     0   \n",
       "3      0   700  2000     0    0    0  900  400  300  300  ...    0    0     0   \n",
       "4    700     0     0     0    0    0    0    0    0    0  ...    0    0     0   \n",
       "..   ...   ...   ...   ...  ...  ...  ...  ...  ...  ...  ...  ...  ...   ...   \n",
       "59   100     0     0     0    0    0    0    0    0    0  ...    0    0     0   \n",
       "60   100     0     0     0    0    0    0    0    0    0  ...    0    0     0   \n",
       "61     0     0     0     0    0    0    0    0    0    0  ...    0    0 -1000   \n",
       "62     0     0     0     0    0    0    0    0    0    0  ...    0    0     0   \n",
       "63     0     0     0     0    0    0    0    0    0    0  ...    0    0     0   \n",
       "\n",
       "     58   59   60    61    62   63   64  \n",
       "0     0  100  100   100     0    0    0  \n",
       "1   100    0    0     0     0    0    0  \n",
       "2     0    0    0     0     0    0    0  \n",
       "3     0    0    0     0     0    0    0  \n",
       "4     0    0    0     0     0    0    0  \n",
       "..  ...  ...  ...   ...   ...  ...  ...  \n",
       "59    0    0    0     0     0    0    0  \n",
       "60    0  100    0     0  2000  700  700  \n",
       "61    0  100    0  2000     0  700  700  \n",
       "62    0    0    0   700   700    0  900  \n",
       "63    0    0    0   700   700  900    0  \n",
       "\n",
       "[64 rows x 64 columns]"
      ]
     },
     "execution_count": 3,
     "metadata": {},
     "output_type": "execute_result"
    }
   ],
   "source": [
    "# Import the relationship matrix as a pandas dataframe for visualization\n",
    "\n",
    "relationship_matrix_df = pd.read_csv('data/seating_data.csv')\n",
    "relationship_matrix_df.drop(columns='idx', inplace=True)\n",
    "relationship_matrix_df"
   ]
  },
  {
   "cell_type": "code",
   "execution_count": 4,
   "id": "352cce64",
   "metadata": {},
   "outputs": [
    {
     "data": {
      "text/plain": [
       "array([[   0., 5000.,    0., ...,    0.,    0.,    0.],\n",
       "       [5000.,    0.,  700., ...,    0.,    0.,    0.],\n",
       "       [   0.,  700.,    0., ...,    0.,    0.,    0.],\n",
       "       ...,\n",
       "       [   0.,    0.,    0., ...,    0.,  700.,  700.],\n",
       "       [   0.,    0.,    0., ...,  700.,    0.,  900.],\n",
       "       [   0.,    0.,    0., ...,  700.,  900.,    0.]])"
      ]
     },
     "execution_count": 4,
     "metadata": {},
     "output_type": "execute_result"
    }
   ],
   "source": [
    "# Import the relationship matrix as a numpy array\n",
    "\n",
    "relationship_matrix = np.loadtxt('data/seating_data.csv', delimiter=',', skiprows=1)\n",
    "relationship_matrix = relationship_matrix[ : , 1:]\n",
    "relationship_matrix "
   ]
  },
  {
   "cell_type": "markdown",
   "id": "af2cdc61",
   "metadata": {},
   "source": [
    "---\n",
    "\n",
    "### <span style=\"color:#96d9f0;\">2. Solution Representation</span>\n",
    "\n",
    "In this section, we define the Wedding Sitting Solution class (`WSSolution`), which extends the base `Solution` class provided in the practical classes. This class represents a candidate solution for the wedding seating optimization problem.\n",
    "\n",
    "Each solution consists of a list of tables, where each table is a list of guest indices. The class includes methods to generate a valid random initial representation and to evaluate the fitness of a solution based on the total relationship scores between guests seated at the same table."
   ]
  },
  {
   "cell_type": "code",
   "execution_count": 5,
   "id": "c37f1d3c",
   "metadata": {},
   "outputs": [],
   "source": [
    "class WSSolution(Solution):\n",
    "    def __init__(self, repr=None, relationship_matrix=relationship_matrix, nr_of_tables=8):\n",
    "        self.relationship_matrix = relationship_matrix\n",
    "        self.nr_of_tables = nr_of_tables\n",
    "        self.table_capacity = len(relationship_matrix) // nr_of_tables\n",
    "        super().__init__(repr=repr)\n",
    "\n",
    "    def random_initial_representation(self):\n",
    "        tables = []\n",
    "        left_idxs = [idx for idx in range(len(self.relationship_matrix))]\n",
    "        for i in range(self.nr_of_tables):\n",
    "            tables.append([])\n",
    "            for j in range(self.table_capacity):\n",
    "                idx = random.choice(left_idxs)\n",
    "                left_idxs.remove(idx)\n",
    "                # Check if idx is already in a table\n",
    "                #while any(idx in table for table in tables):\n",
    "                    #idx = random.randint(0, len(self.relationship_matrix) - 1)\n",
    "                tables[i].append(idx)\n",
    "        \n",
    "        return tables\n",
    "\n",
    "    def fitness(self, verbose=False):\n",
    "        total_happiness = 0\n",
    "        i = 1\n",
    "        for table in self.repr:\n",
    "            # Sum relationship scores for all unique guest pairs at the table\n",
    "            table_happiness = sum(self.relationship_matrix[a, b] for a, b in combinations(table, 2))\n",
    "            total_happiness += table_happiness\n",
    "            if verbose:\n",
    "                print(f\"Table {i} Happiness = {table_happiness}\")\n",
    "                i += 1\n",
    "        return total_happiness"
   ]
  },
  {
   "cell_type": "code",
   "execution_count": 6,
   "id": "a2c383b8",
   "metadata": {},
   "outputs": [
    {
     "name": "stdout",
     "output_type": "stream",
     "text": [
      "Random solution: [[27, 17, 21, 35, 48, 57, 26, 7], [58, 38, 59, 47, 34, 42, 15, 45], [0, 11, 18, 14, 4, 32, 43, 29], [12, 1, 24, 44, 6, 51, 36, 46], [41, 30, 9, 19, 16, 2, 25, 60], [62, 28, 37, 53, 10, 31, 55, 63], [54, 40, 50, 52, 8, 22, 33, 49], [20, 3, 39, 23, 5, 56, 13, 61]]\n",
      "Table 1 Happiness = 3500.0\n",
      "Table 2 Happiness = 0.0\n",
      "Table 3 Happiness = 1700.0\n",
      "Table 4 Happiness = 900.0\n",
      "Table 5 Happiness = 1500.0\n",
      "Table 6 Happiness = 1100.0\n",
      "Table 7 Happiness = 700.0\n",
      "Table 8 Happiness = -200.0\n",
      "Total Fitness: 9200.0\n"
     ]
    }
   ],
   "source": [
    "solution = WSSolution()\n",
    "\n",
    "print('Random solution:', solution)\n",
    "print('Total Fitness:', solution.fitness(verbose=True))"
   ]
  },
  {
   "cell_type": "markdown",
   "id": "86839dc1",
   "metadata": {},
   "source": [
    "---\n",
    "\n",
    "### <span style=\"color:#96d9f0;\">3. Selection Algorithms</span>"
   ]
  },
  {
   "cell_type": "markdown",
   "id": "060e6427",
   "metadata": {},
   "source": [
    "#### 3.1. Fitness Proportionate Selection\n",
    "\n",
    "In a typical **fitness proportionate selection** (also known as **roulette wheel selection**), individuals are selected based on their fitness values, with higher fitness values having a greater chance of being chosen. In our optimization problem, however, the fitness values can range from **negative** (indicating conflicts) to **positive** (indicating good relationships between guests).\n",
    "\n",
    "To adapt the selection process to handle **negative fitness values**, we introduce the following modifications:\n",
    "\n",
    "1. **Handling Negative Fitness**:\n",
    "   - Negative fitness values (e.g., -1000) represent undesirable relationships between guests and are valid in our case.\n",
    "   - However, to ensure that these negative values don't completely block a solution from being selected, we **normalize** the fitness values by adding an **offset** to make all fitness values non-negative.\n",
    "   - The offset is the **absolute value of the minimum fitness** if it's negative, ensuring that all fitness values become positive or zero without altering the relative fitness ranking of solutions.\n",
    "\n",
    "2. **Fitness Normalization**:\n",
    "   - For each individual, we add the **offset** (if necessary) to their fitness value to ensure it's non-negative.\n",
    "   - This ensures that individuals with negative fitness still have a chance to be selected but are less likely to be chosen compared to those with higher (positive) fitness.\n",
    "\n",
    "3. **Roulette Wheel Selection**:\n",
    "   - After normalizing the fitness values, the selection process proceeds as usual, with higher fitness solutions having a higher probability of being selected.\n",
    "   - By adding the offset, we make sure that **negative fitness values** don't result in zero or near-zero chances of selection, allowing them to contribute to the evolutionary process."
   ]
  },
  {
   "cell_type": "code",
   "execution_count": 7,
   "id": "e9aad8dd",
   "metadata": {},
   "outputs": [],
   "source": [
    "def fitness_proportionate_selection(population: list[Solution], maximization: bool):\n",
    "    if maximization:\n",
    "        fitness_values = []\n",
    "        min_fitness = min(ind.fitness() for ind in population)  # Find the minimum fitness value\n",
    "        \n",
    "        # Add a constant offset to ensure no negative fitness values\n",
    "        offset = abs(min_fitness) if min_fitness < 0 else 0\n",
    "        \n",
    "        # Add the offset to each fitness value\n",
    "        for ind in population:\n",
    "            fitness_value = ind.fitness() + offset\n",
    "            fitness_values.append(fitness_value)\n",
    "    else:\n",
    "        # Minimization: Use the inverse of the fitness value\n",
    "        # Lower fitness should have higher probability of being selected\n",
    "        fitness_values = [1 / ind.fitness() for ind in population]\n",
    "\n",
    "    total_fitness = sum(fitness_values)\n",
    "    \n",
    "    # Generate random number between 0 and total\n",
    "    random_nr = random.uniform(0, total_fitness)\n",
    "    \n",
    "    # For each individual, check if random number is inside the individual's \"box\"\n",
    "    box_boundary = 0\n",
    "    for ind_idx, ind in enumerate(population):\n",
    "        box_boundary += fitness_values[ind_idx]\n",
    "        if random_nr <= box_boundary:\n",
    "            return deepcopy(ind)"
   ]
  },
  {
   "cell_type": "code",
   "execution_count": 8,
   "id": "357f5bd2",
   "metadata": {},
   "outputs": [
    {
     "name": "stdout",
     "output_type": "stream",
     "text": [
      "Fitness Proportionate selection result: [[3, 63, 4, 57, 2, 31, 35, 21], [40, 33, 18, 11, 46, 25, 41, 20], [51, 56, 1, 49, 24, 10, 22, 9], [59, 7, 12, 53, 61, 6, 17, 28], [0, 50, 34, 26, 44, 27, 37, 48], [14, 58, 19, 29, 8, 52, 32, 60], [23, 30, 45, 39, 42, 47, 15, 54], [16, 13, 55, 38, 62, 36, 5, 43]]\n"
     ]
    }
   ],
   "source": [
    "population = [WSSolution() for _ in range(10)]\n",
    "\n",
    "fitness_proportionate_selection_result = fitness_proportionate_selection(population, maximization=True)\n",
    "print('Fitness Proportionate selection result:', fitness_proportionate_selection_result)"
   ]
  },
  {
   "cell_type": "markdown",
   "id": "ec68684f",
   "metadata": {},
   "source": [
    "#### 3.2. Ranking Selection"
   ]
  },
  {
   "cell_type": "markdown",
   "id": "8faa88d7",
   "metadata": {},
   "source": [
    "With Ranking Selection, instead of selecting based on raw fitness values, individuals are ranked by their fitness, and higher-ranked individuals (better seating arrangements) have a higher chance of being selected. This method ensures that negative fitness values aren´t automatically excluded, as selection is based on relative rank rather than absolute fitness. It maintains diversity by giving lower-ranked individuals a chance to contribute, preventing premature convergence."
   ]
  },
  {
   "cell_type": "code",
   "execution_count": 9,
   "id": "4a7333bb",
   "metadata": {},
   "outputs": [],
   "source": [
    "def ranking_selection(population, maximization=False):\n",
    "    n_parents = 1  # Always select one parent per call in the GA\n",
    "\n",
    "    # Sort population based on fitness\n",
    "    sorted_pop = sorted(\n",
    "        population,\n",
    "        key=lambda sol: sol.fitness(),\n",
    "        reverse=maximization  # reverse=True if maximizing\n",
    "    )\n",
    "\n",
    "    # Assign linear ranks\n",
    "    n = len(sorted_pop)\n",
    "    ranks = np.arange(1, n + 1)\n",
    "    total_rank = np.sum(ranks)\n",
    "    probabilities = ranks / total_rank\n",
    "\n",
    "    # If maximizing, best is first → reverse probabilities so high rank = high prob\n",
    "    if maximization:\n",
    "        probabilities = probabilities[::-1]\n",
    "\n",
    "    selected = np.random.choice(sorted_pop, size=n_parents, p=probabilities, replace=True)\n",
    "    return selected[0]  # Return single selected parent\n"
   ]
  },
  {
   "cell_type": "code",
   "execution_count": 10,
   "id": "86362934",
   "metadata": {},
   "outputs": [
    {
     "name": "stdout",
     "output_type": "stream",
     "text": [
      "Fitness of individuals in population:\n",
      "Individual 0: Fitness = 13800.00\n",
      "Individual 1: Fitness = 11700.00\n",
      "Individual 2: Fitness = 18200.00\n",
      "Individual 3: Fitness = 9300.00\n",
      "Individual 4: Fitness = 10500.00\n",
      "Individual 5: Fitness = 10100.00\n",
      "Individual 6: Fitness = 13800.00\n",
      "Individual 7: Fitness = 12200.00\n",
      "Individual 8: Fitness = 12100.00\n",
      "Individual 9: Fitness = 15000.00\n",
      "\n",
      "Ranking selection result:\n",
      "Selected 1: [[44, 52, 29, 15, 55, 41, 60, 37], [36, 46, 43, 39, 63, 8, 4, 1], [22, 54, 19, 18, 48, 17, 62, 42], [57, 5, 35, 21, 20, 38, 49, 12], [47, 27, 2, 32, 53, 59, 31, 10], [34, 24, 58, 28, 33, 56, 25, 50], [13, 30, 0, 14, 11, 61, 40, 23], [3, 9, 26, 6, 51, 45, 16, 7]], Fitness = 11700.00\n",
      "Selected 2: [[23, 2, 63, 25, 4, 24, 15, 54], [56, 18, 29, 43, 17, 6, 16, 27], [33, 36, 31, 7, 10, 60, 42, 20], [41, 46, 21, 12, 35, 32, 45, 14], [11, 26, 44, 39, 9, 1, 62, 51], [5, 52, 28, 47, 49, 50, 48, 58], [61, 37, 59, 3, 40, 22, 30, 19], [8, 55, 0, 53, 34, 57, 13, 38]], Fitness = 12100.00\n"
     ]
    }
   ],
   "source": [
    "# Create a test population\n",
    "population = [WSSolution() for _ in range(10)]\n",
    "\n",
    "# Display fitness of each individual in the population\n",
    "print(\"Fitness of individuals in population:\")\n",
    "for i, sol in enumerate(population):\n",
    "    print(f\"Individual {i}: Fitness = {sol.fitness():.2f}\")\n",
    "\n",
    "# Select two individuals using the updated ranking_selection (one at a time)\n",
    "selected_individuals = [ranking_selection(population, maximization=True) for _ in range(2)]\n",
    "\n",
    "# Print selected individuals and their fitness\n",
    "print(\"\\nRanking selection result:\")\n",
    "for i, ind in enumerate(selected_individuals):\n",
    "    print(f\"Selected {i + 1}: {ind}, Fitness = {ind.fitness():.2f}\")\n"
   ]
  },
  {
   "cell_type": "markdown",
   "id": "93348b98",
   "metadata": {},
   "source": [
    "In this case, we can see that the same individual (2nd best in rank) was selected twice. This is okay and makes that it coud happen especially with the high rank and small population."
   ]
  },
  {
   "cell_type": "code",
   "execution_count": 11,
   "id": "92f21532",
   "metadata": {},
   "outputs": [
    {
     "name": "stdout",
     "output_type": "stream",
     "text": [
      "Fitness of individuals in population:\n",
      "Individual 0: Fitness = 15800.00\n",
      "Individual 1: Fitness = 11300.00\n",
      "Individual 2: Fitness = 12100.00\n",
      "Individual 3: Fitness = 17400.00\n",
      "Individual 4: Fitness = 15400.00\n",
      "Individual 5: Fitness = 9000.00\n",
      "Individual 6: Fitness = 12900.00\n",
      "Individual 7: Fitness = 10700.00\n",
      "Individual 8: Fitness = 5700.00\n",
      "Individual 9: Fitness = 13200.00\n",
      "\n",
      "Ranking selection result:\n",
      "Selected 1: [[2, 30, 6, 49, 7, 62, 60, 19], [47, 40, 52, 16, 22, 56, 1, 10], [54, 13, 21, 27, 31, 61, 11, 48], [23, 14, 28, 45, 32, 24, 37, 59], [36, 44, 42, 43, 18, 33, 50, 55], [39, 53, 12, 3, 63, 57, 26, 35], [8, 20, 9, 51, 15, 25, 38, 29], [4, 0, 34, 41, 17, 58, 46, 5]], Fitness = 10700.00\n",
      "Selected 2: [[41, 53, 10, 9, 49, 63, 17, 32], [13, 24, 37, 26, 16, 52, 62, 12], [4, 42, 11, 27, 3, 48, 20, 18], [58, 59, 46, 44, 25, 51, 23, 40], [19, 54, 28, 2, 8, 1, 7, 30], [29, 39, 14, 47, 60, 33, 56, 22], [55, 50, 38, 0, 61, 6, 43, 5], [36, 15, 21, 45, 35, 34, 57, 31]], Fitness = 11300.00\n"
     ]
    }
   ],
   "source": [
    "# Create a test population\n",
    "population = [WSSolution() for _ in range(10)]\n",
    "\n",
    "# Display fitness of each individual in the population\n",
    "print(\"Fitness of individuals in population:\")\n",
    "for i, sol in enumerate(population):\n",
    "    print(f\"Individual {i}: Fitness = {sol.fitness():.2f}\")\n",
    "\n",
    "# Select two individuals using the updated ranking_selection (one at a time)\n",
    "selected_individuals = [ranking_selection(population, maximization=True) for _ in range(2)]\n",
    "\n",
    "# Print selected individuals and their fitness\n",
    "print(\"\\nRanking selection result:\")\n",
    "for i, ind in enumerate(selected_individuals):\n",
    "    print(f\"Selected {i + 1}: {ind}, Fitness = {ind.fitness():.2f}\")"
   ]
  },
  {
   "cell_type": "markdown",
   "id": "7c9efbe9",
   "metadata": {},
   "source": [
    "#### 3.3. Tournament Selection"
   ]
  },
  {
   "cell_type": "markdown",
   "id": "63bf642c-4c41-4872-9b0b-3f13522dc536",
   "metadata": {},
   "source": [
    "The tournament selection randomly chooses 𝑘 individuals at random from the population, compares their fitnesses, and returns the best individual out of those to be a parent. "
   ]
  },
  {
   "cell_type": "code",
   "execution_count": 12,
   "id": "9c5e81ac",
   "metadata": {},
   "outputs": [],
   "source": [
    "def tournament_selection(population, k=3):\n",
    "    competitors = random.sample(population, k)\n",
    "    return max(competitors, key=lambda ind: ind.fitness())"
   ]
  },
  {
   "cell_type": "code",
   "execution_count": 13,
   "id": "88c0e5a8",
   "metadata": {},
   "outputs": [
    {
     "name": "stdout",
     "output_type": "stream",
     "text": [
      "Tournament selection result: [[28, 3, 53, 2, 31, 1, 13, 54], [60, 6, 44, 34, 11, 55, 9, 61], [22, 4, 41, 43, 33, 0, 40, 8], [38, 16, 62, 46, 21, 23, 24, 30], [42, 29, 59, 25, 39, 32, 27, 58], [35, 17, 20, 52, 37, 47, 18, 63], [36, 57, 56, 12, 49, 26, 14, 48], [10, 5, 50, 19, 7, 51, 45, 15]]\n"
     ]
    }
   ],
   "source": [
    "population = [WSSolution() for _ in range(10)]\n",
    "\n",
    "tournament_selection_result = tournament_selection(population)\n",
    "print('Tournament selection result:', tournament_selection_result)"
   ]
  },
  {
   "cell_type": "markdown",
   "id": "9b9d955c-8a54-4dcc-be88-2689ad7ca93f",
   "metadata": {},
   "source": [
    "To make sure that our tournament_selection implementation truly picks the fittest individual, we wrapped it in a helper function, tournament_verification, which prints out every step of the process. This function is needed because the core algorithm samples competitors internally, not allowing us to check the candidates considered or their fitness except for the winner that is returned. In tournament_verification, we set \n",
    "k=10 and explicitly list all ten randomly chosen competitors along with their fitness values, then identify and print the one selected as the fittest by tournament_selection, allowing us to directly compare that result against the ten and confirm it truly has the highest fitness. This gives us clear, reproducible evidence that the tournament selection returns the strongest contender."
   ]
  },
  {
   "cell_type": "code",
   "execution_count": 14,
   "id": "9a0e5025-ccc3-4de1-a557-810dcd579d45",
   "metadata": {},
   "outputs": [],
   "source": [
    "def tournament_verification(population, k=10):\n",
    "    competitors = random.sample(population, k)\n",
    "    \n",
    "    print(\"Fitness of competitors:\")\n",
    "    for i in range(k):\n",
    "        print(f\"Competitor {i+1}: Fitness = {competitors[i].fitness()}\")\n",
    "    \n",
    "    best_idx, best_competitor = max(enumerate(competitors),key=lambda pair: pair[1].fitness())\n",
    "    \n",
    "    print(\"\\nTournament selection result:\")\n",
    "    print(f\"Competitor {best_idx+1}: Fitness = {best_competitor.fitness():.2f}\")"
   ]
  },
  {
   "cell_type": "code",
   "execution_count": 15,
   "id": "2ed13fe7-db4f-4d52-9bfd-dcd50051bdbe",
   "metadata": {},
   "outputs": [
    {
     "name": "stdout",
     "output_type": "stream",
     "text": [
      "Fitness of competitors:\n",
      "Competitor 1: Fitness = 14100.0\n",
      "Competitor 2: Fitness = 19500.0\n",
      "Competitor 3: Fitness = 13300.0\n",
      "Competitor 4: Fitness = 8900.0\n",
      "Competitor 5: Fitness = 12100.0\n",
      "Competitor 6: Fitness = 15200.0\n",
      "Competitor 7: Fitness = 11000.0\n",
      "Competitor 8: Fitness = 10800.0\n",
      "Competitor 9: Fitness = 18200.0\n",
      "Competitor 10: Fitness = 15200.0\n",
      "\n",
      "Tournament selection result:\n",
      "Competitor 2: Fitness = 19500.00\n"
     ]
    }
   ],
   "source": [
    "population = [WSSolution() for _ in range(50)]\n",
    "\n",
    "tournament_verification(population)"
   ]
  },
  {
   "cell_type": "markdown",
   "id": "c059ee43",
   "metadata": {},
   "source": [
    "---\n",
    "\n",
    "### <span style=\"color:#96d9f0;\">4. Crossover Operators</span>"
   ]
  },
  {
   "cell_type": "markdown",
   "id": "6434b35c",
   "metadata": {},
   "source": [
    "#### 4.1. Custom Crossover Operator (`table_level_crossover`)\n",
    "\n",
    "In this section, we implement a custom crossover operator tailored to the constraints of our optimization problem. Unlike standard one-point crossover, which is suitable for flat representations, our solution requires a structured approach:\n",
    "\n",
    "- Each solution is a nested list representing 8 tables with 8 unique guests each.\n",
    "- Every guest (from 0 to 63) must appear exactly once across all tables.\n",
    "- A direct crossover risks creating invalid offspring (with duplicated or missing guests).\n",
    "\n",
    "To address this, our operator performs table-level crossover:\n",
    "\n",
    "1. A one-point crossover is applied between the two parent solutions at the table level. This can result in invalid intermediate offspring that contain duplicate guests and omit others, violating the uniqueness constraint.\n",
    "\n",
    "2. The resulting child is then repaired by:\n",
    "\n",
    "    - Detecting duplicate and missing guests\n",
    "    - Replacing duplicates with missing ones to restore a valid configuration\n",
    "    - This ensures all offspring are valid solutions and suitable for use in the genetic algorithm."
   ]
  },
  {
   "cell_type": "code",
   "execution_count": 16,
   "id": "27873c31",
   "metadata": {},
   "outputs": [],
   "source": [
    "def table_level_crossover(parent1, parent2):\n",
    "    # Deep copies of the parent representations\n",
    "    p1_repr = deepcopy(parent1.repr)\n",
    "    p2_repr = deepcopy(parent2.repr)\n",
    "\n",
    "    # Flatten guest lists\n",
    "    total_guests = len(parent1.relationship_matrix)\n",
    "\n",
    "    # One-point crossover at table level\n",
    "    xo_point = random.randint(1, len(p1_repr) - 1)\n",
    "    child1_repr = p1_repr[:xo_point] + p2_repr[xo_point:]\n",
    "    child2_repr = p2_repr[:xo_point] + p1_repr[xo_point:]\n",
    "\n",
    "    def repair(child_repr):\n",
    "        # Count how many times each guest appears\n",
    "        guest_counts = {}\n",
    "        for table in child_repr:\n",
    "            for guest in table:\n",
    "                guest_counts[guest] = guest_counts.get(guest, 0) + 1\n",
    "\n",
    "        # Identify missing and extra guests\n",
    "        missing = [g for g in range(total_guests) if guest_counts.get(g, 0) == 0]\n",
    "        extras = [g for g, count in guest_counts.items() if count > 1 for _ in range(count - 1)]\n",
    "\n",
    "        # Replace extra guests with missing ones\n",
    "        for table in child_repr:\n",
    "            for i in range(len(table)):\n",
    "                guest = table[i]\n",
    "                if guest_counts[guest] > 1:\n",
    "                    new_guest = missing.pop()\n",
    "                    guest_counts[guest] -= 1\n",
    "                    table[i] = new_guest\n",
    "                    guest_counts[new_guest] = 1  # added to the table\n",
    "\n",
    "        return child_repr\n",
    "\n",
    "    # Repair both children\n",
    "    repaired1 = repair(child1_repr)\n",
    "    repaired2 = repair(child2_repr)\n",
    "\n",
    "    return WSSolution(repr=repaired1), WSSolution(repr=repaired2)"
   ]
  },
  {
   "cell_type": "code",
   "execution_count": 17,
   "id": "fa8e8df8-d745-4144-8e4f-eee4a851ea1c",
   "metadata": {},
   "outputs": [
    {
     "name": "stdout",
     "output_type": "stream",
     "text": [
      "Parent 1 Seating Arrangement:\n",
      "[[33, 22, 53, 29, 30, 27, 20, 37], [39, 18, 31, 17, 35, 8, 0, 56], [44, 34, 63, 54, 51, 46, 21, 1], [5, 6, 47, 11, 3, 38, 45, 49], [2, 40, 41, 60, 58, 10, 13, 4], [15, 48, 61, 7, 24, 57, 52, 43], [62, 16, 26, 28, 32, 25, 42, 50], [36, 19, 12, 14, 9, 23, 55, 59]]\n",
      "Parent 2 Seating Arrangement:\n",
      "[[27, 28, 24, 57, 31, 48, 3, 15], [17, 14, 37, 36, 61, 20, 46, 49], [23, 11, 2, 43, 55, 51, 25, 1], [44, 33, 5, 62, 22, 6, 9, 63], [38, 50, 41, 19, 16, 7, 4, 30], [40, 56, 45, 39, 54, 0, 60, 18], [21, 32, 13, 34, 42, 8, 52, 59], [10, 12, 35, 29, 58, 26, 47, 53]]\n",
      "\n",
      "Offspring 1 Seating Arrangement:\n",
      "[[61, 57, 49, 48, 46, 27, 20, 37], [36, 28, 31, 17, 24, 15, 14, 3], [23, 11, 2, 43, 55, 51, 25, 1], [44, 33, 5, 62, 22, 6, 9, 63], [38, 50, 41, 19, 16, 7, 4, 30], [40, 56, 45, 39, 54, 0, 60, 18], [21, 32, 13, 34, 42, 8, 52, 59], [10, 12, 35, 29, 58, 26, 47, 53]]\n",
      "Offspring 2 Seating Arrangement:\n",
      "[[27, 56, 53, 39, 31, 35, 33, 30], [17, 29, 37, 22, 18, 20, 8, 0], [44, 34, 63, 54, 51, 46, 21, 1], [5, 6, 47, 11, 3, 38, 45, 49], [2, 40, 41, 60, 58, 10, 13, 4], [15, 48, 61, 7, 24, 57, 52, 43], [62, 16, 26, 28, 32, 25, 42, 50], [36, 19, 12, 14, 9, 23, 55, 59]]\n",
      "\n",
      "Parent 1 Fitness: 9200.0\n",
      "Parent 2 Fitness: 11100.0\n",
      "Offspring 1 Fitness: 11700.0\n",
      "Offspring 2 Fitness: 12100.0\n"
     ]
    }
   ],
   "source": [
    "# Create 2 solutions\n",
    "parent1 = WSSolution()\n",
    "parent2 = WSSolution()\n",
    "\n",
    "# Parents before crossover\n",
    "print(\"Parent 1 Seating Arrangement:\")\n",
    "print(parent1.repr)\n",
    "print(\"Parent 2 Seating Arrangement:\")\n",
    "print(parent2.repr)\n",
    "\n",
    "# Apply PMX crossover\n",
    "offspring1, offspring2 = table_level_crossover(parent1, parent2)\n",
    "\n",
    "# Print offspring after crossover\n",
    "print(\"\\nOffspring 1 Seating Arrangement:\")\n",
    "print(offspring1.repr)\n",
    "print(\"Offspring 2 Seating Arrangement:\")\n",
    "print(offspring2.repr)\n",
    "\n",
    "# Compare the fitness values to see how they change\n",
    "print(\"\\nParent 1 Fitness:\", parent1.fitness())\n",
    "print(\"Parent 2 Fitness:\", parent2.fitness())\n",
    "print(\"Offspring 1 Fitness:\", offspring1.fitness())\n",
    "print(\"Offspring 2 Fitness:\", offspring2.fitness())\n"
   ]
  },
  {
   "cell_type": "code",
   "execution_count": 18,
   "id": "dccf88e7-908b-4c16-9b70-03d7e962141a",
   "metadata": {},
   "outputs": [
    {
     "name": "stdout",
     "output_type": "stream",
     "text": [
      "Offspring 1 has no repeated guests: True\n",
      "Offspring 2 has no repeated guests: True\n"
     ]
    }
   ],
   "source": [
    "def check_no_repeated_guests(individual):\n",
    "    seen_guests = []  # Keep track of guests we've seen\n",
    "    for table in individual:\n",
    "        for guest in table:\n",
    "            if guest in seen_guests:  # If guest is already in the list, they are repeated\n",
    "                print(f\"Repeated guest found: {guest}\")  # Print the repeated guest for debugging\n",
    "                return False\n",
    "            seen_guests.append(guest)  # Add guest to the list\n",
    "    return True  # No repeated guests found\n",
    "\n",
    "# Check if there are repeated guests in the offspring seating arrangements\n",
    "print(\"Offspring 1 has no repeated guests:\", check_no_repeated_guests(offspring1.repr))\n",
    "print(\"Offspring 2 has no repeated guests:\", check_no_repeated_guests(offspring2.repr))"
   ]
  },
  {
   "cell_type": "markdown",
   "id": "76ce6eb8",
   "metadata": {},
   "source": [
    "#### 4.2. Partially Matched Crossover"
   ]
  },
  {
   "cell_type": "markdown",
   "id": "7eb5bbce",
   "metadata": {},
   "source": [
    "The Partially Matched Crossover (pmc) is a genetic algorithm operator designed for permutations, like our guest seating arrangement. It swaps a segment between two parent solutions and builds offspring by preserving the order and position of elements while avoiding duplicates. In our implementation, we adapted PMX to work with the wedding seating format by flattening table arrangements into 1D lists, applying PMX, and then converting them back. We carefully resolved conflicts during crossover by mapping duplicate entries to valid unused guests, ensuring that each guest appears exactly once in the final seating—maintaining valid, non-repetitive arrangements."
   ]
  },
  {
   "cell_type": "code",
   "execution_count": 19,
   "id": "614bafef",
   "metadata": {},
   "outputs": [],
   "source": [
    "def partially_matched_crossover(parent1, parent2):\n",
    "    \"\"\"\n",
    "    PMC crossover for WSSolution-based seating plans with 8 tables.\n",
    "    Ensures no repeated guests in offspring.\n",
    "    \"\"\"\n",
    "    import random\n",
    "\n",
    "    def flatten(tables):\n",
    "        return [guest for table in tables for guest in table]\n",
    "\n",
    "    def unflatten(guest_list, table_size):\n",
    "        return [guest_list[i:i + table_size] for i in range(0, len(guest_list), table_size)]\n",
    "\n",
    "    parent1_flat = flatten(parent1.repr)\n",
    "    parent2_flat = flatten(parent2.repr)\n",
    "    size = len(parent1_flat)\n",
    "    table_size = parent1.table_capacity\n",
    "\n",
    "    # Choose two crossover points\n",
    "    point1, point2 = sorted(random.sample(range(size), 2))\n",
    "\n",
    "    def pmc(p1, p2):\n",
    "        child = [None] * size\n",
    "        # Copy the crossover segment from p1\n",
    "        child[point1:point2] = p1[point1:point2]\n",
    "\n",
    "        for i in range(point1, point2):\n",
    "            if p2[i] not in child:\n",
    "                val = p2[i]\n",
    "                idx = i\n",
    "                while True:\n",
    "                    mapped = p1[idx]\n",
    "                    idx = p2.index(mapped)\n",
    "                    if child[idx] is None:\n",
    "                        child[idx] = val\n",
    "                        break\n",
    "\n",
    "        # Fill remaining positions from p2\n",
    "        for i in range(size):\n",
    "            if child[i] is None:\n",
    "                child[i] = p2[i]\n",
    "\n",
    "        return child\n",
    "\n",
    "    child1_flat = pmc(parent1_flat, parent2_flat)\n",
    "    child2_flat = pmc(parent2_flat, parent1_flat)\n",
    "\n",
    "    # Convert back to table format\n",
    "    child1_repr = unflatten(child1_flat, table_size)\n",
    "    child2_repr = unflatten(child2_flat, table_size)\n",
    "\n",
    "    # Wrap in WSSolution\n",
    "    offspring1 = WSSolution(repr=child1_repr, nr_of_tables=parent1.nr_of_tables)\n",
    "    offspring2 = WSSolution(repr=child2_repr, nr_of_tables=parent2.nr_of_tables)\n",
    "\n",
    "    return offspring1, offspring2\n"
   ]
  },
  {
   "cell_type": "code",
   "execution_count": 20,
   "id": "b9b6da25",
   "metadata": {},
   "outputs": [
    {
     "name": "stdout",
     "output_type": "stream",
     "text": [
      "Parent 1 Seating Arrangement:\n",
      "[[34, 18, 44, 47, 15, 63, 28, 50], [29, 58, 26, 9, 13, 37, 1, 52], [23, 36, 30, 35, 8, 2, 45, 33], [7, 14, 11, 49, 62, 4, 38, 27], [0, 17, 24, 19, 32, 12, 39, 53], [42, 57, 3, 16, 6, 20, 40, 21], [43, 56, 61, 48, 46, 5, 25, 51], [22, 31, 55, 60, 54, 41, 10, 59]]\n",
      "Parent 2 Seating Arrangement:\n",
      "[[30, 7, 5, 57, 10, 56, 13, 43], [47, 54, 52, 1, 14, 20, 34, 24], [17, 33, 48, 46, 21, 50, 31, 29], [37, 16, 19, 28, 45, 36, 41, 4], [6, 55, 8, 15, 62, 9, 60, 53], [38, 51, 63, 61, 39, 44, 58, 12], [42, 0, 23, 40, 3, 26, 49, 27], [22, 32, 2, 11, 25, 35, 18, 59]]\n",
      "\n",
      "Offspring 1 Seating Arrangement:\n",
      "[[54, 44, 34, 47, 10, 60, 28, 50], [29, 58, 26, 9, 13, 37, 1, 52], [23, 36, 30, 35, 8, 2, 45, 33], [7, 14, 11, 49, 62, 4, 38, 27], [0, 17, 24, 19, 32, 12, 39, 53], [42, 57, 3, 16, 6, 20, 40, 21], [43, 56, 61, 48, 46, 5, 25, 51], [22, 31, 41, 15, 55, 63, 18, 59]]\n",
      "Offspring 2 Seating Arrangement:\n",
      "[[5, 18, 7, 57, 11, 35, 13, 43], [47, 54, 52, 1, 14, 20, 34, 24], [17, 33, 48, 46, 21, 50, 31, 29], [37, 16, 19, 28, 45, 36, 41, 4], [6, 55, 8, 15, 62, 9, 60, 53], [38, 51, 63, 61, 39, 44, 58, 12], [42, 0, 23, 40, 3, 26, 49, 27], [22, 32, 25, 56, 30, 2, 10, 59]]\n",
      "\n",
      "Parent 1 Fitness: 8100.0\n",
      "Parent 2 Fitness: 13700.0\n",
      "Offspring 1 Fitness: 6700.0\n",
      "Offspring 2 Fitness: 12900.0\n"
     ]
    }
   ],
   "source": [
    "# Create 2 solutions\n",
    "parent1 = WSSolution()\n",
    "parent2 = WSSolution()\n",
    "\n",
    "# Parents before crossover\n",
    "print(\"Parent 1 Seating Arrangement:\")\n",
    "print(parent1.repr)\n",
    "print(\"Parent 2 Seating Arrangement:\")\n",
    "print(parent2.repr)\n",
    "\n",
    "# Apply PMX crossover\n",
    "offspring1, offspring2 = partially_matched_crossover(parent1, parent2)\n",
    "\n",
    "# Print offspring after crossover\n",
    "print(\"\\nOffspring 1 Seating Arrangement:\")\n",
    "print(offspring1.repr)\n",
    "print(\"Offspring 2 Seating Arrangement:\")\n",
    "print(offspring2.repr)\n",
    "\n",
    "# Compare the fitness values to see how they change\n",
    "print(\"\\nParent 1 Fitness:\", parent1.fitness())\n",
    "print(\"Parent 2 Fitness:\", parent2.fitness())\n",
    "print(\"Offspring 1 Fitness:\", offspring1.fitness())\n",
    "print(\"Offspring 2 Fitness:\", offspring2.fitness())\n"
   ]
  },
  {
   "cell_type": "code",
   "execution_count": 21,
   "id": "9d95f2c5",
   "metadata": {},
   "outputs": [
    {
     "name": "stdout",
     "output_type": "stream",
     "text": [
      "Offspring 1 has no repeated guests: True\n",
      "Offspring 2 has no repeated guests: True\n"
     ]
    }
   ],
   "source": [
    "# Check if there are repeated guests in the offspring seating arrangements\n",
    "print(\"Offspring 1 has no repeated guests:\", check_no_repeated_guests(offspring1.repr))\n",
    "print(\"Offspring 2 has no repeated guests:\", check_no_repeated_guests(offspring2.repr))"
   ]
  },
  {
   "cell_type": "markdown",
   "id": "579b3cd1",
   "metadata": {},
   "source": [
    "#### 4.3. Order Crossover"
   ]
  },
  {
   "cell_type": "markdown",
   "id": "0d9b90d8-8ec7-4200-b949-97921a126e78",
   "metadata": {},
   "source": [
    "The Order Crossover (OX) is a genetic algorithm operator also designed for permutation problems, such as our guest seating arrangements. It selects a contiguous block of seats from one parent and preserves both the relative order and positional integrity of the remaining guests by filling in, in sequence, from the other parent’s list and skipping any guest already included. In our implementation, we adapt OX to the wedding format by flattening each table layout into a single list, choosing two crossover points, copying the segment from Parent 1 into Offspring 1 (and vice versa for Offspring 2), then rotating through the other parent’s flattened list to fill the empty slots while avoiding duplicates. Finally, we reshape the 1D offspring lists back into the original table structure, guaranteeing a complete, non-repetitive seating plan."
   ]
  },
  {
   "cell_type": "code",
   "execution_count": null,
   "id": "32cfa743-9387-43d0-8b3e-1207db248fbf",
   "metadata": {},
   "outputs": [],
   "source": [
    "def order_crossover(parent1, parent2):\n",
    "    \"\"\"\n",
    "    Order crossover for WSSolution-based seating plans with 8 tables.\n",
    "    Ensures no repeated guests in offspring.\n",
    "    \"\"\"\n",
    "    def flatten(tables):\n",
    "        return [guest for table in tables for guest in table]\n",
    "\n",
    "    def unflatten(guest_list, table_size):\n",
    "        return [guest_list[i:i + table_size] for i in range(0, len(guest_list), table_size)]\n",
    "\n",
    "    parent1_flat = flatten(parent1.repr)\n",
    "    parent2_flat = flatten(parent2.repr)\n",
    "    size = len(parent1_flat)\n",
    "    table_size = parent1.table_capacity\n",
    "\n",
    "    # Choose two crossover points\n",
    "    point1, point2 = sorted(random.sample(range(size), 2))\n",
    "\n",
    "    def order(p1, p2):\n",
    "        child = [None] * size\n",
    "        child[point1:point2] = p1[point1:point2]\n",
    "        \n",
    "        for i in range(point2-size, point1):\n",
    "            val = p2[i]\n",
    "            idx = i\n",
    "            while val in child:\n",
    "                idx+=1\n",
    "                val = p2[idx]\n",
    "            child[i] = val\n",
    "\n",
    "        return child\n",
    "\n",
    "    child1_flat = order(parent1_flat, parent2_flat)\n",
    "    child2_flat = order(parent2_flat, parent1_flat)\n",
    "\n",
    "    # Convert back to table format\n",
    "    child1_repr = unflatten(child1_flat, table_size)\n",
    "    child2_repr = unflatten(child2_flat, table_size)\n",
    "\n",
    "    # Wrap in WSSolution\n",
    "    offspring1 = WSSolution(repr=child1_repr, nr_of_tables=parent1.nr_of_tables)\n",
    "    offspring2 = WSSolution(repr=child2_repr, nr_of_tables=parent2.nr_of_tables)\n",
    "\n",
    "    return offspring1, offspring2"
   ]
  },
  {
   "cell_type": "code",
   "execution_count": 23,
   "id": "298de8c9-8b53-4e2d-9fdb-b5878ea259a4",
   "metadata": {},
   "outputs": [
    {
     "name": "stdout",
     "output_type": "stream",
     "text": [
      "Parent 1 Seating Arrangement:\n",
      "[[44, 41, 61, 35, 18, 7, 1, 9], [45, 26, 15, 17, 30, 52, 34, 42], [36, 28, 8, 53, 13, 14, 12, 48], [10, 47, 21, 46, 43, 32, 2, 27], [6, 38, 57, 37, 39, 11, 50, 49], [25, 19, 59, 54, 3, 20, 56, 62], [58, 60, 4, 0, 33, 51, 31, 5], [23, 22, 16, 29, 63, 24, 40, 55]]\n",
      "Parent 2 Seating Arrangement:\n",
      "[[38, 31, 60, 9, 30, 45, 47, 22], [53, 17, 18, 4, 2, 41, 36, 28], [49, 63, 57, 20, 25, 33, 44, 51], [1, 34, 40, 29, 58, 54, 5, 6], [50, 59, 27, 3, 12, 37, 43, 32], [26, 14, 48, 11, 55, 8, 15, 52], [23, 35, 56, 61, 0, 42, 19, 62], [39, 21, 7, 10, 24, 46, 13, 16]]\n",
      "\n",
      "Offspring 1 Seating Arrangement:\n",
      "[[63, 57, 20, 25, 33, 44, 51, 1], [40, 26, 15, 17, 30, 52, 34, 42], [36, 28, 8, 53, 13, 14, 12, 48], [10, 47, 21, 29, 58, 54, 5, 6], [50, 59, 27, 3, 37, 43, 32, 11], [55, 23, 35, 56, 61, 0, 19, 62], [39, 7, 24, 46, 16, 38, 31, 60], [9, 45, 22, 18, 4, 2, 41, 49]]\n",
      "Offspring 2 Seating Arrangement:\n",
      "[[8, 53, 13, 14, 12, 48, 10, 47], [21, 17, 18, 4, 2, 41, 36, 28], [49, 63, 57, 20, 25, 33, 44, 51], [1, 34, 40, 46, 43, 32, 27, 6], [38, 37, 39, 11, 50, 19, 59, 54], [3, 56, 62, 58, 60, 0, 31, 5], [23, 22, 16, 29, 24, 55, 61, 35], [7, 9, 45, 26, 15, 30, 52, 42]]\n",
      "\n",
      "Parent 1 Fitness: 18100.0\n",
      "Parent 2 Fitness: 5500.0\n",
      "Offspring 1 Fitness: 10300.0\n",
      "Offspring 2 Fitness: 16300.0\n"
     ]
    }
   ],
   "source": [
    "# Create 2 solutions\n",
    "parent1 = WSSolution()\n",
    "parent2 = WSSolution()\n",
    "\n",
    "# Parents before crossover\n",
    "print(\"Parent 1 Seating Arrangement:\")\n",
    "print(parent1.repr)\n",
    "print(\"Parent 2 Seating Arrangement:\")\n",
    "print(parent2.repr)\n",
    "\n",
    "# Apply Order crossover\n",
    "offspring1, offspring2 = order_crossover(parent1, parent2)\n",
    "\n",
    "# Print offspring after crossover\n",
    "print(\"\\nOffspring 1 Seating Arrangement:\")\n",
    "print(offspring1.repr)\n",
    "print(\"Offspring 2 Seating Arrangement:\")\n",
    "print(offspring2.repr)\n",
    "\n",
    "# Compare the fitness values to see how they change\n",
    "print(\"\\nParent 1 Fitness:\", parent1.fitness())\n",
    "print(\"Parent 2 Fitness:\", parent2.fitness())\n",
    "print(\"Offspring 1 Fitness:\", offspring1.fitness())\n",
    "print(\"Offspring 2 Fitness:\", offspring2.fitness())"
   ]
  },
  {
   "cell_type": "code",
   "execution_count": 24,
   "id": "209f1a4b-16e4-4040-a582-072c71fc392b",
   "metadata": {},
   "outputs": [
    {
     "name": "stdout",
     "output_type": "stream",
     "text": [
      "Offspring 1 has no repeated guests: True\n",
      "Offspring 2 has no repeated guests: True\n"
     ]
    }
   ],
   "source": [
    "# Check if there are repeated guests in the offspring seating arrangements\n",
    "print(\"Offspring 1 has no repeated guests:\", check_no_repeated_guests(offspring1.repr))\n",
    "print(\"Offspring 2 has no repeated guests:\", check_no_repeated_guests(offspring2.repr))"
   ]
  },
  {
   "cell_type": "markdown",
   "id": "45b78edb",
   "metadata": {},
   "source": [
    "---\n",
    "\n",
    "### <span style=\"color:#96d9f0;\">5. Mutation Operators</span>"
   ]
  },
  {
   "cell_type": "markdown",
   "id": "86fa1df5",
   "metadata": {},
   "source": [
    "#### 5.1. Swap Mutation\n",
    "\n",
    "The swap mutation operator introduces random changes to the seating arrangement by swapping two guests between different tables.\n",
    "\n",
    "It's important to note that swapping two guests within the same table would not create any new configuration - it would simply result in the same solution as before. Since we want to introduce meaningful changes, the swap mutation ensures that the two guests are always swapped between different tables. This prevents the mutation from generating an invalid or identical solution.\n",
    "\n",
    "This mutation helps the genetic algorithm explore new seating arrangements by shuffling guests across tables while respecting the overall constraints of the problem."
   ]
  },
  {
   "cell_type": "code",
   "execution_count": 25,
   "id": "cc9936db",
   "metadata": {},
   "outputs": [],
   "source": [
    "def swap_mutation(solution, mut_prob):\n",
    "    if random.random() >= mut_prob:\n",
    "        return solution  # No mutation; return original\n",
    "\n",
    "    # Create a deep copy of the solution\n",
    "    new_solution = deepcopy(solution)\n",
    "\n",
    "    tables = new_solution.repr\n",
    "    if len(tables) < 2:\n",
    "        return new_solution\n",
    "\n",
    "    # Pick two random tables\n",
    "    t1, t2 = random.sample(range(len(tables)), 2)\n",
    "    if not tables[t1] or not tables[t2]:\n",
    "        return new_solution\n",
    "\n",
    "    # Swap one person from each\n",
    "    i1 = random.randint(0, len(tables[t1]) - 1)\n",
    "    i2 = random.randint(0, len(tables[t2]) - 1)\n",
    "    tables[t1][i1], tables[t2][i2] = tables[t2][i2], tables[t1][i1]\n",
    "\n",
    "    return new_solution"
   ]
  },
  {
   "cell_type": "code",
   "execution_count": 26,
   "id": "5c9985ac",
   "metadata": {},
   "outputs": [
    {
     "name": "stdout",
     "output_type": "stream",
     "text": [
      "Original solution: [[8, 34, 40, 33, 13, 9, 62, 55], [53, 48, 5, 59, 49, 29, 43, 16], [21, 54, 24, 18, 19, 0, 51, 41], [31, 58, 56, 63, 35, 3, 14, 52], [28, 44, 25, 45, 10, 47, 1, 11], [60, 61, 20, 12, 17, 4, 22, 2], [57, 38, 42, 15, 30, 32, 37, 50], [6, 7, 27, 26, 46, 39, 23, 36]]\n",
      "Mutated solution: [[8, 34, 40, 33, 13, 9, 62, 55], [53, 48, 5, 59, 49, 29, 14, 16], [21, 54, 24, 18, 19, 0, 51, 41], [31, 58, 56, 63, 35, 3, 43, 52], [28, 44, 25, 45, 10, 47, 1, 11], [60, 61, 20, 12, 17, 4, 22, 2], [57, 38, 42, 15, 30, 32, 37, 50], [6, 7, 27, 26, 46, 39, 23, 36]]\n"
     ]
    }
   ],
   "source": [
    "solution = WSSolution()\n",
    "\n",
    "mutated_solution = swap_mutation(solution, 1) # Meti a probabilidade de mutação = 1 para garantir que a mutação acontece e ver se funciona\n",
    "print('Original solution:', solution)\n",
    "print('Mutated solution:', mutated_solution)"
   ]
  },
  {
   "cell_type": "markdown",
   "id": "7fcabf85",
   "metadata": {},
   "source": [
    "#### 5.2. Inversion Mutation\n",
    "\n",
    "The inversion mutation operator introduces variation by selecting a random segment of the seating plan and reversing the order of guests within that segment.\n",
    "\n",
    "Since the seating arrangement is represented as a list of tables, the entire structure is first flattened into a single list containing all guests. The inversion is then performed on a random sublist, effectively inverting a continuous sequence of guests. After the inversion, the list is reshaped back into the original table format.\n",
    "\n",
    "This mutation allows the algorithm to explore new configurations by reordering guests while preserving the structure of the solution. To ensure validity, a repair function is applied after mutation to guarantee that all guests remain uniquely assigned with no duplicates or omissions."
   ]
  },
  {
   "cell_type": "code",
   "execution_count": null,
   "id": "bf2a045d",
   "metadata": {},
   "outputs": [],
   "source": [
    "def inversion_mutation_seating(individual: WSSolution, mut_prob):\n",
    "    # Access the seating arrangement (8 tables with guests)\n",
    "    tables = individual.repr\n",
    "\n",
    "    rows = len(tables)\n",
    "    cols = len(tables[0])\n",
    "    \n",
    "    # Flatten the seating arrangement into a single list of guests\n",
    "    flat = [guest for table in tables for guest in table]\n",
    "\n",
    "    # Apply inversion mutation with the given probability\n",
    "    if random.random() < mut_prob:\n",
    "        # Select two random indices for the inversion\n",
    "        start_row, end_row = sorted(random.sample(range(rows), 2))\n",
    "        start_col, end_col = random.sample(range(cols), 2)\n",
    "        start = start_row * cols + start_col\n",
    "        end = end_row * cols + end_col\n",
    "        # Reverse the segment between the two indices\n",
    "        flat[start:end + 1] = reversed(flat[start:end + 1])\n",
    "\n",
    "    # Reshape the flat list back into 8 tables of 8 guests each\n",
    "    new_tables = [flat[i:i + individual.table_capacity] for i in range(0, len(flat), individual.table_capacity)]\n",
    "\n",
    "    # Return a new WSSolution with the mutated seating arrangement\n",
    "    return WSSolution(repr=new_tables, relationship_matrix=individual.relationship_matrix, nr_of_tables=individual.nr_of_tables)"
   ]
  },
  {
   "cell_type": "code",
   "execution_count": null,
   "id": "0f9cdfc1",
   "metadata": {},
   "outputs": [
    {
     "name": "stdout",
     "output_type": "stream",
     "text": [
      "Original solution: [[61, 50, 52, 11, 15, 39, 7, 21], [19, 58, 62, 29, 40, 10, 38, 31], [32, 18, 53, 36, 35, 56, 25, 55], [26, 17, 4, 34, 49, 33, 37, 57], [0, 23, 63, 5, 48, 22, 54, 30], [46, 45, 51, 14, 60, 8, 3, 20], [27, 44, 13, 2, 28, 16, 12, 1], [43, 9, 6, 41, 47, 24, 59, 42]]\n",
      "Mutated solution: [[61, 50, 52, 11, 15, 39, 7, 21], [19, 58, 62, 29, 40, 10, 38, 31], [5, 63, 23, 0, 57, 37, 33, 49], [34, 4, 17, 26, 55, 25, 56, 35], [36, 53, 18, 32, 48, 22, 54, 30], [46, 45, 51, 14, 60, 8, 3, 20], [27, 44, 13, 2, 28, 16, 12, 1], [43, 9, 6, 41, 47, 24, 59, 42]]\n"
     ]
    }
   ],
   "source": [
    "solution = WSSolution()\n",
    "\n",
    "mutated_solution = inversion_mutation_seating(solution, 1) # Meti a probabilidade de mutação = 1 para garantir que a mutação acontece e ver se funciona\n",
    "print('Original solution:', solution)\n",
    "print('Mutated solution:', mutated_solution)"
   ]
  },
  {
   "cell_type": "markdown",
   "id": "d32b3814",
   "metadata": {},
   "source": [
    "#### 5.3. Scramble Mutation"
   ]
  },
  {
   "cell_type": "markdown",
   "id": "025e71cd-2324-4896-8a35-43745d1a15e5",
   "metadata": {},
   "source": [
    "The scramble mutation operator introduces variation by selecting a random subset of guests in the seating plan and scrambling their order within the selected segment. Unlike the inversion mutation, where the order is reversed, the scramble mutation randomizes the order of guests in a selected sublist.\n",
    "\n",
    "The process begins by flattening the seating arrangement, which is represented as a list of tables, into a single list of guests. Then, a random segment of guests is selected, and the order of the guests within that segment is scrambled. After the scrambling is performed, the list is reshaped back into the original table structure.\n",
    "\n",
    "This mutation operator allows the algorithm to explore different configurations by rearranging guests within a specified segment of the seating arrangement, offering a broader search of potential solutions. It maintains the structure of the solution by preserving the overall number of guests per table while allowing the order of guests to vary.\n",
    "\n",
    "To ensure validity and correctness of the solution, a repair function is applied after the mutation to guarantee that all guests remain uniquely assigned, with no duplicates or omissions."
   ]
  },
  {
   "cell_type": "code",
   "execution_count": 29,
   "id": "6f72fa74-2cbe-4864-aea2-24606d03b01c",
   "metadata": {},
   "outputs": [],
   "source": [
    "def scramble_mutation(solution, mut_prob):\n",
    "    if random.random() >= mut_prob:\n",
    "        return solution  # No mutation; return original\n",
    "\n",
    "    # Create a deep copy of the solution\n",
    "    new_solution = deepcopy(solution)\n",
    "\n",
    "    tables = new_solution.repr\n",
    "    rows = len(tables)\n",
    "    cols = len(tables[0])\n",
    "\n",
    "    if rows < 2:\n",
    "        return new_solution\n",
    "\n",
    "    selected_cols = [random.randint(0, cols-1) for _ in range(rows)]\n",
    "    selected_positions = [(row, selected_cols[row]) for row in range(rows)]\n",
    "\n",
    "    selected_values = []\n",
    "    for row, col in selected_positions: \n",
    "        if not tables[row][col]:\n",
    "            return new_solution\n",
    "        else: \n",
    "            selected_values.append(tables[row][col])\n",
    "    \n",
    "    def deranged_shuffle(lst):\n",
    "        while True:\n",
    "            shuffled = lst[:] \n",
    "            random.shuffle(shuffled)\n",
    "            if all(a != b for a, b in zip(lst, shuffled)):\n",
    "                return shuffled\n",
    "    \n",
    "    selected_values = deranged_shuffle(selected_values)\n",
    "\n",
    "    for (row, col), value in zip(selected_positions, selected_values):\n",
    "        tables[row][col] = value\n",
    "\n",
    "    return new_solution"
   ]
  },
  {
   "cell_type": "code",
   "execution_count": 30,
   "id": "7f9b764e-e8f5-4eac-8fe0-02cbf3dad197",
   "metadata": {},
   "outputs": [
    {
     "name": "stdout",
     "output_type": "stream",
     "text": [
      "Original solution: [[28, 10, 7, 62, 43, 30, 41, 23], [37, 32, 3, 56, 52, 24, 58, 15], [1, 22, 46, 25, 57, 50, 11, 36], [55, 63, 44, 2, 49, 47, 20, 60], [9, 39, 18, 8, 34, 12, 51, 38], [19, 0, 48, 61, 14, 17, 27, 33], [53, 21, 59, 45, 5, 35, 31, 26], [40, 4, 13, 29, 54, 6, 42, 16]]\n",
      "Mutated solution: [[28, 45, 7, 62, 43, 30, 41, 23], [37, 32, 61, 56, 52, 24, 58, 15], [18, 22, 46, 25, 57, 50, 11, 36], [55, 63, 44, 2, 49, 47, 16, 60], [9, 39, 3, 8, 34, 12, 51, 38], [19, 0, 48, 20, 14, 17, 27, 33], [53, 21, 59, 10, 5, 35, 31, 26], [40, 4, 13, 29, 54, 6, 42, 1]]\n"
     ]
    }
   ],
   "source": [
    "solution = WSSolution()\n",
    "\n",
    "mutated_solution = scramble_mutation(solution, 1) # Meti a probabilidade de mutação = 1 para garantir que a mutação acontece e ver se funciona\n",
    "print('Original solution:', solution)\n",
    "print('Mutated solution:', mutated_solution)"
   ]
  },
  {
   "cell_type": "markdown",
   "id": "605b1128-de45-4648-aa48-7b056bf7b159",
   "metadata": {},
   "source": [
    "### <span style=\"color:#96d9f0;\">6. Random Trials</span>"
   ]
  },
  {
   "cell_type": "code",
   "execution_count": 38,
   "id": "edcef506-b98a-4dd4-9a8b-b9c2eafbd264",
   "metadata": {},
   "outputs": [
    {
     "name": "stdout",
     "output_type": "stream",
     "text": [
      "Result 1: Average Fitness: 12196.453 and Best Fitness Found 30900.0\n",
      "Result 2: Average Fitness: 12201.305 and Best Fitness Found 30600.0\n",
      "Result 3: Average Fitness: 12210.007 and Best Fitness Found 30800.0\n",
      "Result 4: Average Fitness: 12202.181 and Best Fitness Found 29900.0\n",
      "Result 5: Average Fitness: 12200.442 and Best Fitness Found 32500.0\n",
      "Result 6: Average Fitness: 12209.278 and Best Fitness Found 30900.0\n",
      "Result 7: Average Fitness: 12208.056 and Best Fitness Found 34400.0\n",
      "Result 8: Average Fitness: 12212.482 and Best Fitness Found 32700.0\n",
      "Result 9: Average Fitness: 12206.165 and Best Fitness Found 33600.0\n",
      "Result 10: Average Fitness: 12204.035 and Best Fitness Found 31500.0\n",
      "Time elapsed: 2 minutes and 15 seconds\n"
     ]
    }
   ],
   "source": [
    "import time\n",
    "\n",
    "start = time.time()\n",
    "for i in range(10):\n",
    "    res = 0\n",
    "    scores = []\n",
    "    for j in range(100000):\n",
    "        solution = WSSolution()\n",
    "        res=solution.fitness()\n",
    "        scores.append(res)\n",
    "    avg_score = sum(scores)/100000\n",
    "    best_score = max(scores)\n",
    "    print(f\"Result {i+1}: Average Fitness: {avg_score} and Best Fitness Found {best_score}\")\n",
    "\n",
    "end = time.time()\n",
    "\n",
    "print(f\"Time elapsed: {int((end- start)//60)} minutes and {round((end-start)%60)} seconds\")"
   ]
  },
  {
   "cell_type": "markdown",
   "id": "3cddc20f-bbfa-4733-9890-f6dcf8cd5f7a",
   "metadata": {},
   "source": [
    "If 1000000 solutions took around 2 minutes, then the total seating arrangements (assuming a much simpler scenario where all random solutions displayed never repeat) would be:"
   ]
  },
  {
   "cell_type": "code",
   "execution_count": 4,
   "id": "d30f9bca-3bc5-4b0c-bf30-9eacd2ec7d3c",
   "metadata": {},
   "outputs": [
    {
     "name": "stdout",
     "output_type": "stream",
     "text": [
      " There are 4.505387879868752e+47 different seating arrangements and it would take around 1.7143789497217472e+36 years for a computer to compare all the solutions and find the best.\n"
     ]
    }
   ],
   "source": [
    "import math\n",
    "\n",
    "total_combinations = (math.comb(64,8)*math.comb(56,8)*math.comb(48, 8)*math.comb(40, 8)*math.comb(32, 8)*math.comb(24, 8)*math.comb(16,8)) / math.factorial(8)\n",
    "minutes_taken = total_combinations * 2 / 1000000\n",
    "years_taken = minutes_taken/(60*24*365) \n",
    "\n",
    "\n",
    "print(f\" There are {total_combinations} different seating arrangements and it would take around {years_taken} years for a computer to compare all the solutions and find the best.\")"
   ]
  },
  {
   "cell_type": "markdown",
   "id": "c861f0a6",
   "metadata": {},
   "source": [
    "---\n",
    "\n",
    "### <span style=\"color:#96d9f0;\">7. Genetic Algorithm</span>"
   ]
  },
  {
   "cell_type": "code",
   "execution_count": 33,
   "id": "4ea4d55a",
   "metadata": {},
   "outputs": [],
   "source": [
    "def genetic_algorithm(\n",
    "    initial_population: list[Solution],\n",
    "    max_gen: int,\n",
    "    selection_algorithm: Callable,\n",
    "    crossover_operator: Callable,\n",
    "    mutation_operator: Callable,\n",
    "    maximization: bool = False,\n",
    "    xo_prob: float = 0.9,\n",
    "    mut_prob: float = 0.2,\n",
    "    elitism: bool = True,\n",
    "    verbose: bool = False,\n",
    "):\n",
    "    \"\"\"\n",
    "    Executes a genetic algorithm to optimize a population of solutions.\n",
    "\n",
    "    Args:\n",
    "        initial_population (list[Solution]): The starting population of solutions.\n",
    "        max_gen (int): The maximum number of generations to evolve.\n",
    "        selection_algorithm (Callable): Function used for selecting individuals.\n",
    "        crossover_operator (Callable): Function to perform crossover between two individuals.\n",
    "        mutation_operator (Callable): Function to mutate an individual.\n",
    "        maximization (bool, optional): If True, maximizes the fitness function; otherwise, minimizes. Defaults to False.\n",
    "        xo_prob (float, optional): Probability of applying crossover. Defaults to 0.9.\n",
    "        mut_prob (float, optional): Probability of applying mutation. Defaults to 0.2.\n",
    "        elitism (bool, optional): If True, carries the best individual to the next generation. Defaults to True.\n",
    "        verbose (bool, optional): If True, prints detailed logs for debugging. Defaults to False.\n",
    "\n",
    "    Returns:\n",
    "        Solution: The best solution found after evolving for max_gen generations.\n",
    "    \"\"\"\n",
    "    population = initial_population\n",
    "\n",
    "    for gen in range(1, max_gen + 1):\n",
    "        if verbose:\n",
    "            print(f'-------------- Generation: {gen} --------------')\n",
    "\n",
    "        new_population = []\n",
    "\n",
    "        if elitism:\n",
    "            new_population.append(deepcopy(get_best_ind(population, maximization)))\n",
    "\n",
    "        while len(new_population) < len(population):\n",
    "            parent1 = selection_algorithm(population, maximization)\n",
    "            parent2 = selection_algorithm(population, maximization)\n",
    "\n",
    "            if verbose:\n",
    "                print(f'Selected parents:\\n{parent1}\\n{parent2}')\n",
    "\n",
    "            if random.random() < xo_prob:\n",
    "                offspring1, offspring2 = crossover_operator(parent1, parent2)\n",
    "                if verbose:\n",
    "                    print('Crossover applied.')\n",
    "            else:\n",
    "                offspring1, offspring2 = deepcopy(parent1), deepcopy(parent2)\n",
    "                if verbose:\n",
    "                    print('Replication applied.')\n",
    "\n",
    "            mutated1 = mutation_operator(offspring1, mut_prob)\n",
    "            new_population.append(mutated1)\n",
    "            if verbose:\n",
    "                print(f'Mutated offspring 1: {mutated1}')\n",
    "\n",
    "            if len(new_population) < len(population):\n",
    "                mutated2 = mutation_operator(offspring2, mut_prob)\n",
    "                new_population.append(mutated2)\n",
    "                if verbose:\n",
    "                    print(f'Mutated offspring 2: {mutated2}')\n",
    "\n",
    "        population = new_population\n",
    "\n",
    "        if verbose:\n",
    "            best = get_best_ind(population, maximization)\n",
    "            print(f'Best individual fitness this generation: {best.fitness()}')\n",
    "\n",
    "    return get_best_ind(population, maximization)"
   ]
  },
  {
   "cell_type": "code",
   "execution_count": 32,
   "id": "c934afd7",
   "metadata": {},
   "outputs": [],
   "source": [
    "# Number of individuals in the initial population\n",
    "population_size = 50\n",
    "\n",
    "# Generate initial population of random WSSolutions\n",
    "population = [WSSolution() for _ in range(population_size)]"
   ]
  },
  {
   "cell_type": "code",
   "execution_count": 34,
   "id": "17383954",
   "metadata": {},
   "outputs": [],
   "source": [
    "best = genetic_algorithm(\n",
    "    initial_population=population,\n",
    "    max_gen=2000,\n",
    "    selection_algorithm=fitness_proportionate_selection,\n",
    "    crossover_operator=table_level_crossover,\n",
    "    mutation_operator=swap_mutation,\n",
    "    maximization=True,\n",
    "    xo_prob=0.9,\n",
    "    mut_prob=0.2,\n",
    "    elitism=True,\n",
    "    verbose=True\n",
    ")\n",
    "\n",
    "print(\"Best solution found:\")\n",
    "print(best)\n",
    "print(\"Fitness:\", best.fitness())"
   ]
  },
  {
   "cell_type": "code",
   "execution_count": 35,
   "id": "5a5d0ae8",
   "metadata": {},
   "outputs": [],
   "source": [
    "isa_try = genetic_algorithm(\n",
    "    initial_population=population,\n",
    "    max_gen=2000,\n",
    "    selection_algorithm=ranking_selection,\n",
    "    crossover_operator=partially_matched_crossover,\n",
    "    mutation_operator=swap_mutation,\n",
    "    maximization=True,\n",
    "    xo_prob=0.9,\n",
    "    mut_prob=0.2,\n",
    "    elitism=True,\n",
    "    verbose=True\n",
    ")\n",
    "\n",
    "print(\"Best solution found:\")\n",
    "print(isa_try)\n",
    "print(\"Fitness:\", isa_try.fitness())"
   ]
  },
  {
   "cell_type": "code",
   "execution_count": 36,
   "id": "cca23368",
   "metadata": {},
   "outputs": [],
   "source": [
    "#Number of individuals in the initial population\n",
    "population_size2 = 3\n",
    "\n",
    "# Generate initial population of random WSSolutions\n",
    "population2 = [WSSolution() for _ in range(population_size2)]\n",
    "\n",
    "best2 = genetic_algorithm(\n",
    "    initial_population=population2,\n",
    "    max_gen=5,\n",
    "    selection_algorithm=tournament_selection,\n",
    "    crossover_operator=table_level_crossover,\n",
    "    mutation_operator=inversion_mutation_seating,\n",
    "    maximization=True,\n",
    "    xo_prob=0.9,\n",
    "    mut_prob=0.2,\n",
    "    elitism=True,\n",
    "    verbose=True\n",
    ")\n",
    "\n",
    "print(\"Best solution found:\")\n",
    "print(best2)\n",
    "print(\"Fitness:\", best2.fitness())"
   ]
  },
  {
   "cell_type": "code",
   "execution_count": 37,
   "id": "7282a42c",
   "metadata": {},
   "outputs": [],
   "source": [
    "# Define initial population\n",
    "population = [WSSolution(nr_of_tables=8) for _ in range(10)]\n",
    "\n",
    "# Run the genetic algorithm with PMX for just 2 generations\n",
    "pmc_test = genetic_algorithm(\n",
    "    initial_population=population,\n",
    "    max_gen=2,\n",
    "    selection_algorithm=fitness_proportionate_selection,\n",
    "    crossover_operator=partially_matched_crossover,\n",
    "    mutation_operator=swap_mutation,\n",
    "    maximization=True,\n",
    "    xo_prob=0.9,\n",
    "    mut_prob=0.2,\n",
    "    elitism=True,\n",
    "    verbose=True\n",
    ")\n",
    "\n",
    "# Output best result\n",
    "print(\"\\nBest solution after 2 generations:\")\n",
    "print(pmc_test.repr)\n",
    "print(\"Fitness:\", pmc_test.fitness())"
   ]
  },
  {
   "cell_type": "code",
   "execution_count": 62,
   "id": "6291fe9f",
   "metadata": {},
   "outputs": [
    {
     "name": "stdout",
     "output_type": "stream",
     "text": [
      "Offspring 2 has no repeated guests: True\n"
     ]
    }
   ],
   "source": [
    "print(\"Offspring 2 has no repeated guests:\", check_no_repeated_guests(pmc_test.repr))"
   ]
  },
  {
   "cell_type": "code",
   "execution_count": 38,
   "id": "e5ebb9dd",
   "metadata": {},
   "outputs": [],
   "source": [
    "# Define initial population\n",
    "population = [WSSolution(nr_of_tables=8) for _ in range(10)]\n",
    "\n",
    "# Run the genetic algorithm with PMX for just 2 generations\n",
    "ranking_test = genetic_algorithm(\n",
    "    initial_population=population,\n",
    "    max_gen=2,\n",
    "    selection_algorithm=ranking_selection,\n",
    "    crossover_operator=partially_matched_crossover,\n",
    "    mutation_operator=swap_mutation,\n",
    "    maximization=True,\n",
    "    xo_prob=0.9,\n",
    "    mut_prob=0.2,\n",
    "    elitism=True,\n",
    "    verbose=True\n",
    ")\n",
    "\n",
    "# Output best result\n",
    "print(\"\\nBest solution after 2 generations:\")\n",
    "print(ranking_test.repr)\n",
    "print(\"Fitness:\", ranking_test.fitness())"
   ]
  },
  {
   "cell_type": "code",
   "execution_count": 61,
   "id": "bd9b6b27",
   "metadata": {},
   "outputs": [
    {
     "name": "stdout",
     "output_type": "stream",
     "text": [
      "Offspring 2 has no repeated guests: True\n"
     ]
    }
   ],
   "source": [
    "print(\"Offspring 2 has no repeated guests:\", check_no_repeated_guests(ranking_test.repr))"
   ]
  }
 ],
 "metadata": {
  "kernelspec": {
   "display_name": "Python 3",
   "language": "python",
   "name": "python3"
  },
  "language_info": {
   "codemirror_mode": {
    "name": "ipython",
    "version": 3
   },
   "file_extension": ".py",
   "mimetype": "text/x-python",
   "name": "python",
   "nbconvert_exporter": "python",
   "pygments_lexer": "ipython3",
   "version": "3.13.2"
  }
 },
 "nbformat": 4,
 "nbformat_minor": 5
}
